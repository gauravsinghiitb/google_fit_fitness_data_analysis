{
 "cells": [
  {
   "cell_type": "code",
   "execution_count": 30,
   "id": "c3906c62-3779-49d4-a04b-a1d23e3126cc",
   "metadata": {},
   "outputs": [],
   "source": [
    "import seaborn as sns\n",
    "import matplotlib.pyplot as plt"
   ]
  },
  {
   "cell_type": "code",
   "execution_count": 44,
   "id": "8e01b644-02b6-4646-915e-490edae938f7",
   "metadata": {},
   "outputs": [
    {
     "data": {
      "text/html": [
       "<div>\n",
       "<style scoped>\n",
       "    .dataframe tbody tr th:only-of-type {\n",
       "        vertical-align: middle;\n",
       "    }\n",
       "\n",
       "    .dataframe tbody tr th {\n",
       "        vertical-align: top;\n",
       "    }\n",
       "\n",
       "    .dataframe thead th {\n",
       "        text-align: right;\n",
       "    }\n",
       "</style>\n",
       "<table border=\"1\" class=\"dataframe\">\n",
       "  <thead>\n",
       "    <tr style=\"text-align: right;\">\n",
       "      <th></th>\n",
       "      <th>Date</th>\n",
       "      <th>Move Minutes count</th>\n",
       "      <th>Calories (kcal)</th>\n",
       "      <th>Distance (m)</th>\n",
       "      <th>Heart Points</th>\n",
       "      <th>Heart Minutes</th>\n",
       "      <th>Low latitude (deg)</th>\n",
       "      <th>Low longitude (deg)</th>\n",
       "      <th>High latitude (deg)</th>\n",
       "      <th>High longitude (deg)</th>\n",
       "      <th>Average speed (m/s)</th>\n",
       "      <th>Max speed (m/s)</th>\n",
       "      <th>Min speed (m/s)</th>\n",
       "      <th>Step count</th>\n",
       "      <th>Average weight (kg)</th>\n",
       "      <th>Max weight (kg)</th>\n",
       "      <th>Min weight (kg)</th>\n",
       "      <th>Cycling duration (ms)</th>\n",
       "      <th>Walking duration (ms)</th>\n",
       "      <th>Running duration (ms)</th>\n",
       "    </tr>\n",
       "  </thead>\n",
       "  <tbody>\n",
       "    <tr>\n",
       "      <th>0</th>\n",
       "      <td>10-09-2024</td>\n",
       "      <td>121</td>\n",
       "      <td>867.958096</td>\n",
       "      <td>6470.376641</td>\n",
       "      <td>37.0</td>\n",
       "      <td>37.0</td>\n",
       "      <td>NaN</td>\n",
       "      <td>NaN</td>\n",
       "      <td>NaN</td>\n",
       "      <td>NaN</td>\n",
       "      <td>0.617043</td>\n",
       "      <td>1.847389</td>\n",
       "      <td>0.255037</td>\n",
       "      <td>9291</td>\n",
       "      <td>96.400002</td>\n",
       "      <td>96.400002</td>\n",
       "      <td>96.400002</td>\n",
       "      <td>NaN</td>\n",
       "      <td>3597666.0</td>\n",
       "      <td>NaN</td>\n",
       "    </tr>\n",
       "    <tr>\n",
       "      <th>1</th>\n",
       "      <td>11-09-2024</td>\n",
       "      <td>93</td>\n",
       "      <td>2214.801273</td>\n",
       "      <td>5181.514751</td>\n",
       "      <td>28.0</td>\n",
       "      <td>28.0</td>\n",
       "      <td>NaN</td>\n",
       "      <td>NaN</td>\n",
       "      <td>NaN</td>\n",
       "      <td>NaN</td>\n",
       "      <td>0.697694</td>\n",
       "      <td>1.877624</td>\n",
       "      <td>0.259626</td>\n",
       "      <td>7345</td>\n",
       "      <td>96.400002</td>\n",
       "      <td>96.400002</td>\n",
       "      <td>96.400002</td>\n",
       "      <td>NaN</td>\n",
       "      <td>4404096.0</td>\n",
       "      <td>NaN</td>\n",
       "    </tr>\n",
       "    <tr>\n",
       "      <th>2</th>\n",
       "      <td>12-09-2024</td>\n",
       "      <td>114</td>\n",
       "      <td>2206.899517</td>\n",
       "      <td>5854.029477</td>\n",
       "      <td>26.0</td>\n",
       "      <td>24.0</td>\n",
       "      <td>NaN</td>\n",
       "      <td>NaN</td>\n",
       "      <td>NaN</td>\n",
       "      <td>NaN</td>\n",
       "      <td>0.596009</td>\n",
       "      <td>2.006888</td>\n",
       "      <td>0.270914</td>\n",
       "      <td>8536</td>\n",
       "      <td>96.400002</td>\n",
       "      <td>96.400002</td>\n",
       "      <td>96.400002</td>\n",
       "      <td>NaN</td>\n",
       "      <td>4312091.0</td>\n",
       "      <td>NaN</td>\n",
       "    </tr>\n",
       "    <tr>\n",
       "      <th>3</th>\n",
       "      <td>13-09-2024</td>\n",
       "      <td>46</td>\n",
       "      <td>2008.695336</td>\n",
       "      <td>1995.621970</td>\n",
       "      <td>2.0</td>\n",
       "      <td>2.0</td>\n",
       "      <td>NaN</td>\n",
       "      <td>NaN</td>\n",
       "      <td>NaN</td>\n",
       "      <td>NaN</td>\n",
       "      <td>0.741684</td>\n",
       "      <td>1.592073</td>\n",
       "      <td>0.259626</td>\n",
       "      <td>3213</td>\n",
       "      <td>96.400002</td>\n",
       "      <td>96.400002</td>\n",
       "      <td>96.400002</td>\n",
       "      <td>NaN</td>\n",
       "      <td>1841216.0</td>\n",
       "      <td>NaN</td>\n",
       "    </tr>\n",
       "    <tr>\n",
       "      <th>4</th>\n",
       "      <td>14-09-2024</td>\n",
       "      <td>89</td>\n",
       "      <td>2198.116329</td>\n",
       "      <td>5026.990015</td>\n",
       "      <td>25.0</td>\n",
       "      <td>24.0</td>\n",
       "      <td>NaN</td>\n",
       "      <td>NaN</td>\n",
       "      <td>NaN</td>\n",
       "      <td>NaN</td>\n",
       "      <td>0.617862</td>\n",
       "      <td>2.085506</td>\n",
       "      <td>0.255020</td>\n",
       "      <td>7218</td>\n",
       "      <td>96.400002</td>\n",
       "      <td>96.400002</td>\n",
       "      <td>96.400002</td>\n",
       "      <td>NaN</td>\n",
       "      <td>3771774.0</td>\n",
       "      <td>189190.0</td>\n",
       "    </tr>\n",
       "    <tr>\n",
       "      <th>5</th>\n",
       "      <td>15-09-2024</td>\n",
       "      <td>57</td>\n",
       "      <td>2027.296743</td>\n",
       "      <td>2641.325350</td>\n",
       "      <td>2.0</td>\n",
       "      <td>2.0</td>\n",
       "      <td>NaN</td>\n",
       "      <td>NaN</td>\n",
       "      <td>NaN</td>\n",
       "      <td>NaN</td>\n",
       "      <td>0.499457</td>\n",
       "      <td>1.671849</td>\n",
       "      <td>0.270914</td>\n",
       "      <td>4127</td>\n",
       "      <td>96.400002</td>\n",
       "      <td>96.400002</td>\n",
       "      <td>96.400002</td>\n",
       "      <td>NaN</td>\n",
       "      <td>2071266.0</td>\n",
       "      <td>NaN</td>\n",
       "    </tr>\n",
       "    <tr>\n",
       "      <th>6</th>\n",
       "      <td>16-09-2024</td>\n",
       "      <td>34</td>\n",
       "      <td>1888.267800</td>\n",
       "      <td>1346.213281</td>\n",
       "      <td>NaN</td>\n",
       "      <td>NaN</td>\n",
       "      <td>NaN</td>\n",
       "      <td>NaN</td>\n",
       "      <td>NaN</td>\n",
       "      <td>NaN</td>\n",
       "      <td>0.530444</td>\n",
       "      <td>1.749261</td>\n",
       "      <td>0.338642</td>\n",
       "      <td>2094</td>\n",
       "      <td>96.400002</td>\n",
       "      <td>96.400002</td>\n",
       "      <td>96.400002</td>\n",
       "      <td>NaN</td>\n",
       "      <td>339929.0</td>\n",
       "      <td>NaN</td>\n",
       "    </tr>\n",
       "    <tr>\n",
       "      <th>7</th>\n",
       "      <td>17-09-2024</td>\n",
       "      <td>116</td>\n",
       "      <td>2261.983096</td>\n",
       "      <td>5356.043999</td>\n",
       "      <td>16.0</td>\n",
       "      <td>16.0</td>\n",
       "      <td>NaN</td>\n",
       "      <td>NaN</td>\n",
       "      <td>NaN</td>\n",
       "      <td>NaN</td>\n",
       "      <td>0.611620</td>\n",
       "      <td>1.732727</td>\n",
       "      <td>0.259626</td>\n",
       "      <td>7849</td>\n",
       "      <td>96.400002</td>\n",
       "      <td>96.400002</td>\n",
       "      <td>96.400002</td>\n",
       "      <td>NaN</td>\n",
       "      <td>4995234.0</td>\n",
       "      <td>NaN</td>\n",
       "    </tr>\n",
       "    <tr>\n",
       "      <th>8</th>\n",
       "      <td>18-09-2024</td>\n",
       "      <td>157</td>\n",
       "      <td>2438.603836</td>\n",
       "      <td>8996.358801</td>\n",
       "      <td>52.0</td>\n",
       "      <td>51.0</td>\n",
       "      <td>NaN</td>\n",
       "      <td>NaN</td>\n",
       "      <td>NaN</td>\n",
       "      <td>NaN</td>\n",
       "      <td>0.524578</td>\n",
       "      <td>1.923631</td>\n",
       "      <td>0.258285</td>\n",
       "      <td>12687</td>\n",
       "      <td>96.400002</td>\n",
       "      <td>96.400002</td>\n",
       "      <td>96.400002</td>\n",
       "      <td>NaN</td>\n",
       "      <td>7200587.0</td>\n",
       "      <td>NaN</td>\n",
       "    </tr>\n",
       "    <tr>\n",
       "      <th>9</th>\n",
       "      <td>19-09-2024</td>\n",
       "      <td>108</td>\n",
       "      <td>2224.768637</td>\n",
       "      <td>4972.758426</td>\n",
       "      <td>20.0</td>\n",
       "      <td>20.0</td>\n",
       "      <td>NaN</td>\n",
       "      <td>NaN</td>\n",
       "      <td>NaN</td>\n",
       "      <td>NaN</td>\n",
       "      <td>0.551888</td>\n",
       "      <td>1.742083</td>\n",
       "      <td>0.259626</td>\n",
       "      <td>7471</td>\n",
       "      <td>96.400002</td>\n",
       "      <td>96.400002</td>\n",
       "      <td>96.400002</td>\n",
       "      <td>NaN</td>\n",
       "      <td>4534852.0</td>\n",
       "      <td>NaN</td>\n",
       "    </tr>\n",
       "    <tr>\n",
       "      <th>10</th>\n",
       "      <td>20-09-2024</td>\n",
       "      <td>76</td>\n",
       "      <td>2060.604710</td>\n",
       "      <td>3150.882875</td>\n",
       "      <td>15.0</td>\n",
       "      <td>15.0</td>\n",
       "      <td>NaN</td>\n",
       "      <td>NaN</td>\n",
       "      <td>NaN</td>\n",
       "      <td>NaN</td>\n",
       "      <td>0.433081</td>\n",
       "      <td>1.675896</td>\n",
       "      <td>0.255114</td>\n",
       "      <td>4842</td>\n",
       "      <td>96.400002</td>\n",
       "      <td>96.400002</td>\n",
       "      <td>96.400002</td>\n",
       "      <td>576484.0</td>\n",
       "      <td>1873362.0</td>\n",
       "      <td>NaN</td>\n",
       "    </tr>\n",
       "    <tr>\n",
       "      <th>11</th>\n",
       "      <td>21-09-2024</td>\n",
       "      <td>169</td>\n",
       "      <td>2453.603491</td>\n",
       "      <td>9154.044427</td>\n",
       "      <td>56.0</td>\n",
       "      <td>55.0</td>\n",
       "      <td>NaN</td>\n",
       "      <td>NaN</td>\n",
       "      <td>NaN</td>\n",
       "      <td>NaN</td>\n",
       "      <td>0.534784</td>\n",
       "      <td>2.033103</td>\n",
       "      <td>0.254963</td>\n",
       "      <td>13097</td>\n",
       "      <td>96.400002</td>\n",
       "      <td>96.400002</td>\n",
       "      <td>96.400002</td>\n",
       "      <td>NaN</td>\n",
       "      <td>7384584.0</td>\n",
       "      <td>NaN</td>\n",
       "    </tr>\n",
       "    <tr>\n",
       "      <th>12</th>\n",
       "      <td>22-09-2024</td>\n",
       "      <td>236</td>\n",
       "      <td>2564.456341</td>\n",
       "      <td>11245.201210</td>\n",
       "      <td>25.0</td>\n",
       "      <td>25.0</td>\n",
       "      <td>NaN</td>\n",
       "      <td>NaN</td>\n",
       "      <td>NaN</td>\n",
       "      <td>NaN</td>\n",
       "      <td>0.729492</td>\n",
       "      <td>1.701365</td>\n",
       "      <td>0.259626</td>\n",
       "      <td>16597</td>\n",
       "      <td>96.400002</td>\n",
       "      <td>96.400002</td>\n",
       "      <td>96.400002</td>\n",
       "      <td>NaN</td>\n",
       "      <td>8769505.0</td>\n",
       "      <td>NaN</td>\n",
       "    </tr>\n",
       "    <tr>\n",
       "      <th>13</th>\n",
       "      <td>23-09-2024</td>\n",
       "      <td>195</td>\n",
       "      <td>2595.647254</td>\n",
       "      <td>11551.070710</td>\n",
       "      <td>75.0</td>\n",
       "      <td>69.0</td>\n",
       "      <td>NaN</td>\n",
       "      <td>NaN</td>\n",
       "      <td>NaN</td>\n",
       "      <td>NaN</td>\n",
       "      <td>0.664538</td>\n",
       "      <td>2.537116</td>\n",
       "      <td>0.251912</td>\n",
       "      <td>16433</td>\n",
       "      <td>96.400002</td>\n",
       "      <td>96.400002</td>\n",
       "      <td>96.400002</td>\n",
       "      <td>NaN</td>\n",
       "      <td>9158343.0</td>\n",
       "      <td>NaN</td>\n",
       "    </tr>\n",
       "    <tr>\n",
       "      <th>14</th>\n",
       "      <td>24-09-2024</td>\n",
       "      <td>113</td>\n",
       "      <td>2206.077549</td>\n",
       "      <td>5045.033482</td>\n",
       "      <td>33.0</td>\n",
       "      <td>33.0</td>\n",
       "      <td>19.135868</td>\n",
       "      <td>72.906845</td>\n",
       "      <td>19.135868</td>\n",
       "      <td>72.906845</td>\n",
       "      <td>0.493093</td>\n",
       "      <td>2.274814</td>\n",
       "      <td>0.245691</td>\n",
       "      <td>7389</td>\n",
       "      <td>96.400002</td>\n",
       "      <td>96.400002</td>\n",
       "      <td>96.400002</td>\n",
       "      <td>1059407.0</td>\n",
       "      <td>2968196.0</td>\n",
       "      <td>90398.0</td>\n",
       "    </tr>\n",
       "    <tr>\n",
       "      <th>15</th>\n",
       "      <td>25-09-2024</td>\n",
       "      <td>119</td>\n",
       "      <td>2268.803256</td>\n",
       "      <td>6805.071257</td>\n",
       "      <td>37.0</td>\n",
       "      <td>33.0</td>\n",
       "      <td>NaN</td>\n",
       "      <td>NaN</td>\n",
       "      <td>NaN</td>\n",
       "      <td>NaN</td>\n",
       "      <td>0.674703</td>\n",
       "      <td>1.966387</td>\n",
       "      <td>0.259626</td>\n",
       "      <td>9499</td>\n",
       "      <td>96.400002</td>\n",
       "      <td>96.400002</td>\n",
       "      <td>96.400002</td>\n",
       "      <td>NaN</td>\n",
       "      <td>4891920.0</td>\n",
       "      <td>77388.0</td>\n",
       "    </tr>\n",
       "    <tr>\n",
       "      <th>16</th>\n",
       "      <td>26-09-2024</td>\n",
       "      <td>111</td>\n",
       "      <td>2253.310010</td>\n",
       "      <td>5946.665298</td>\n",
       "      <td>20.0</td>\n",
       "      <td>20.0</td>\n",
       "      <td>19.132032</td>\n",
       "      <td>72.906967</td>\n",
       "      <td>19.135988</td>\n",
       "      <td>72.915977</td>\n",
       "      <td>0.613155</td>\n",
       "      <td>1.692445</td>\n",
       "      <td>0.245049</td>\n",
       "      <td>9054</td>\n",
       "      <td>96.400002</td>\n",
       "      <td>96.400002</td>\n",
       "      <td>96.400002</td>\n",
       "      <td>NaN</td>\n",
       "      <td>4890660.0</td>\n",
       "      <td>NaN</td>\n",
       "    </tr>\n",
       "    <tr>\n",
       "      <th>17</th>\n",
       "      <td>27-09-2024</td>\n",
       "      <td>83</td>\n",
       "      <td>2107.174391</td>\n",
       "      <td>3863.343998</td>\n",
       "      <td>12.0</td>\n",
       "      <td>12.0</td>\n",
       "      <td>NaN</td>\n",
       "      <td>NaN</td>\n",
       "      <td>NaN</td>\n",
       "      <td>NaN</td>\n",
       "      <td>0.432770</td>\n",
       "      <td>1.551127</td>\n",
       "      <td>0.270914</td>\n",
       "      <td>5901</td>\n",
       "      <td>96.400002</td>\n",
       "      <td>96.400002</td>\n",
       "      <td>96.400002</td>\n",
       "      <td>NaN</td>\n",
       "      <td>3068887.0</td>\n",
       "      <td>NaN</td>\n",
       "    </tr>\n",
       "    <tr>\n",
       "      <th>18</th>\n",
       "      <td>28-09-2024</td>\n",
       "      <td>104</td>\n",
       "      <td>2213.547705</td>\n",
       "      <td>5653.704893</td>\n",
       "      <td>32.0</td>\n",
       "      <td>31.0</td>\n",
       "      <td>NaN</td>\n",
       "      <td>NaN</td>\n",
       "      <td>NaN</td>\n",
       "      <td>NaN</td>\n",
       "      <td>0.639683</td>\n",
       "      <td>2.230133</td>\n",
       "      <td>0.259626</td>\n",
       "      <td>8286</td>\n",
       "      <td>96.400002</td>\n",
       "      <td>96.400002</td>\n",
       "      <td>96.400002</td>\n",
       "      <td>NaN</td>\n",
       "      <td>4394971.0</td>\n",
       "      <td>NaN</td>\n",
       "    </tr>\n",
       "    <tr>\n",
       "      <th>19</th>\n",
       "      <td>29-09-2024</td>\n",
       "      <td>114</td>\n",
       "      <td>2265.376765</td>\n",
       "      <td>5811.445250</td>\n",
       "      <td>23.0</td>\n",
       "      <td>23.0</td>\n",
       "      <td>NaN</td>\n",
       "      <td>NaN</td>\n",
       "      <td>NaN</td>\n",
       "      <td>NaN</td>\n",
       "      <td>0.657653</td>\n",
       "      <td>1.750020</td>\n",
       "      <td>0.259626</td>\n",
       "      <td>8683</td>\n",
       "      <td>96.400002</td>\n",
       "      <td>96.400002</td>\n",
       "      <td>96.400002</td>\n",
       "      <td>NaN</td>\n",
       "      <td>5041087.0</td>\n",
       "      <td>NaN</td>\n",
       "    </tr>\n",
       "    <tr>\n",
       "      <th>20</th>\n",
       "      <td>30-09-2024</td>\n",
       "      <td>130</td>\n",
       "      <td>2312.148876</td>\n",
       "      <td>6893.009204</td>\n",
       "      <td>38.0</td>\n",
       "      <td>37.0</td>\n",
       "      <td>19.134056</td>\n",
       "      <td>72.910057</td>\n",
       "      <td>19.134056</td>\n",
       "      <td>72.910057</td>\n",
       "      <td>0.786861</td>\n",
       "      <td>2.395821</td>\n",
       "      <td>0.270914</td>\n",
       "      <td>9757</td>\n",
       "      <td>95.800003</td>\n",
       "      <td>95.800003</td>\n",
       "      <td>95.800003</td>\n",
       "      <td>NaN</td>\n",
       "      <td>5696915.0</td>\n",
       "      <td>NaN</td>\n",
       "    </tr>\n",
       "    <tr>\n",
       "      <th>21</th>\n",
       "      <td>01-10-2024</td>\n",
       "      <td>182</td>\n",
       "      <td>2502.990556</td>\n",
       "      <td>10909.220210</td>\n",
       "      <td>75.0</td>\n",
       "      <td>75.0</td>\n",
       "      <td>19.132725</td>\n",
       "      <td>72.906837</td>\n",
       "      <td>19.136007</td>\n",
       "      <td>72.916847</td>\n",
       "      <td>0.674345</td>\n",
       "      <td>1.764388</td>\n",
       "      <td>0.259626</td>\n",
       "      <td>15486</td>\n",
       "      <td>95.800003</td>\n",
       "      <td>95.800003</td>\n",
       "      <td>95.800003</td>\n",
       "      <td>NaN</td>\n",
       "      <td>8135239.0</td>\n",
       "      <td>NaN</td>\n",
       "    </tr>\n",
       "    <tr>\n",
       "      <th>22</th>\n",
       "      <td>02-10-2024</td>\n",
       "      <td>161</td>\n",
       "      <td>2382.208399</td>\n",
       "      <td>9874.419612</td>\n",
       "      <td>61.0</td>\n",
       "      <td>45.0</td>\n",
       "      <td>19.116678</td>\n",
       "      <td>72.908470</td>\n",
       "      <td>19.134935</td>\n",
       "      <td>72.916374</td>\n",
       "      <td>0.590687</td>\n",
       "      <td>3.542593</td>\n",
       "      <td>0.248201</td>\n",
       "      <td>13488</td>\n",
       "      <td>95.800003</td>\n",
       "      <td>95.800003</td>\n",
       "      <td>95.800003</td>\n",
       "      <td>NaN</td>\n",
       "      <td>6542625.0</td>\n",
       "      <td>NaN</td>\n",
       "    </tr>\n",
       "    <tr>\n",
       "      <th>23</th>\n",
       "      <td>03-10-2024</td>\n",
       "      <td>121</td>\n",
       "      <td>2305.308117</td>\n",
       "      <td>7087.411425</td>\n",
       "      <td>43.0</td>\n",
       "      <td>36.0</td>\n",
       "      <td>NaN</td>\n",
       "      <td>NaN</td>\n",
       "      <td>NaN</td>\n",
       "      <td>NaN</td>\n",
       "      <td>0.609813</td>\n",
       "      <td>2.033126</td>\n",
       "      <td>0.250275</td>\n",
       "      <td>9924</td>\n",
       "      <td>95.199997</td>\n",
       "      <td>95.199997</td>\n",
       "      <td>95.199997</td>\n",
       "      <td>NaN</td>\n",
       "      <td>5631285.0</td>\n",
       "      <td>NaN</td>\n",
       "    </tr>\n",
       "    <tr>\n",
       "      <th>24</th>\n",
       "      <td>04-10-2024</td>\n",
       "      <td>95</td>\n",
       "      <td>2159.303584</td>\n",
       "      <td>4180.496034</td>\n",
       "      <td>9.0</td>\n",
       "      <td>9.0</td>\n",
       "      <td>NaN</td>\n",
       "      <td>NaN</td>\n",
       "      <td>NaN</td>\n",
       "      <td>NaN</td>\n",
       "      <td>0.688207</td>\n",
       "      <td>2.091832</td>\n",
       "      <td>0.259626</td>\n",
       "      <td>6136</td>\n",
       "      <td>95.199997</td>\n",
       "      <td>95.199997</td>\n",
       "      <td>95.199997</td>\n",
       "      <td>NaN</td>\n",
       "      <td>3921715.0</td>\n",
       "      <td>NaN</td>\n",
       "    </tr>\n",
       "    <tr>\n",
       "      <th>25</th>\n",
       "      <td>05-10-2024</td>\n",
       "      <td>132</td>\n",
       "      <td>2248.517334</td>\n",
       "      <td>6210.427886</td>\n",
       "      <td>46.0</td>\n",
       "      <td>44.0</td>\n",
       "      <td>NaN</td>\n",
       "      <td>NaN</td>\n",
       "      <td>NaN</td>\n",
       "      <td>NaN</td>\n",
       "      <td>0.472522</td>\n",
       "      <td>2.316148</td>\n",
       "      <td>0.259626</td>\n",
       "      <td>9060</td>\n",
       "      <td>95.199997</td>\n",
       "      <td>95.199997</td>\n",
       "      <td>95.199997</td>\n",
       "      <td>760708.0</td>\n",
       "      <td>4239951.0</td>\n",
       "      <td>NaN</td>\n",
       "    </tr>\n",
       "    <tr>\n",
       "      <th>26</th>\n",
       "      <td>06-10-2024</td>\n",
       "      <td>107</td>\n",
       "      <td>2204.098364</td>\n",
       "      <td>6566.045963</td>\n",
       "      <td>45.0</td>\n",
       "      <td>38.0</td>\n",
       "      <td>NaN</td>\n",
       "      <td>NaN</td>\n",
       "      <td>NaN</td>\n",
       "      <td>NaN</td>\n",
       "      <td>0.432097</td>\n",
       "      <td>2.279967</td>\n",
       "      <td>0.249836</td>\n",
       "      <td>9256</td>\n",
       "      <td>95.049999</td>\n",
       "      <td>95.199997</td>\n",
       "      <td>94.900002</td>\n",
       "      <td>NaN</td>\n",
       "      <td>4511043.0</td>\n",
       "      <td>NaN</td>\n",
       "    </tr>\n",
       "    <tr>\n",
       "      <th>27</th>\n",
       "      <td>07-10-2024</td>\n",
       "      <td>71</td>\n",
       "      <td>2095.073090</td>\n",
       "      <td>3748.496607</td>\n",
       "      <td>21.0</td>\n",
       "      <td>19.0</td>\n",
       "      <td>NaN</td>\n",
       "      <td>NaN</td>\n",
       "      <td>NaN</td>\n",
       "      <td>NaN</td>\n",
       "      <td>0.667431</td>\n",
       "      <td>1.972327</td>\n",
       "      <td>0.259626</td>\n",
       "      <td>5374</td>\n",
       "      <td>95.049999</td>\n",
       "      <td>95.199997</td>\n",
       "      <td>94.900002</td>\n",
       "      <td>NaN</td>\n",
       "      <td>3111367.0</td>\n",
       "      <td>NaN</td>\n",
       "    </tr>\n",
       "    <tr>\n",
       "      <th>28</th>\n",
       "      <td>08-10-2024</td>\n",
       "      <td>120</td>\n",
       "      <td>2276.423276</td>\n",
       "      <td>6692.628278</td>\n",
       "      <td>29.0</td>\n",
       "      <td>29.0</td>\n",
       "      <td>NaN</td>\n",
       "      <td>NaN</td>\n",
       "      <td>NaN</td>\n",
       "      <td>NaN</td>\n",
       "      <td>0.577324</td>\n",
       "      <td>1.894852</td>\n",
       "      <td>0.259626</td>\n",
       "      <td>9815</td>\n",
       "      <td>94.599998</td>\n",
       "      <td>94.599998</td>\n",
       "      <td>94.599998</td>\n",
       "      <td>NaN</td>\n",
       "      <td>5422727.0</td>\n",
       "      <td>NaN</td>\n",
       "    </tr>\n",
       "    <tr>\n",
       "      <th>29</th>\n",
       "      <td>09-10-2024</td>\n",
       "      <td>113</td>\n",
       "      <td>2197.427118</td>\n",
       "      <td>5562.009233</td>\n",
       "      <td>9.0</td>\n",
       "      <td>9.0</td>\n",
       "      <td>19.106987</td>\n",
       "      <td>72.884644</td>\n",
       "      <td>19.136051</td>\n",
       "      <td>72.909851</td>\n",
       "      <td>0.598266</td>\n",
       "      <td>1.592931</td>\n",
       "      <td>0.245521</td>\n",
       "      <td>8282</td>\n",
       "      <td>94.599998</td>\n",
       "      <td>94.599998</td>\n",
       "      <td>94.599998</td>\n",
       "      <td>NaN</td>\n",
       "      <td>2888786.0</td>\n",
       "      <td>725946.0</td>\n",
       "    </tr>\n",
       "    <tr>\n",
       "      <th>30</th>\n",
       "      <td>10-10-2024</td>\n",
       "      <td>186</td>\n",
       "      <td>2467.123991</td>\n",
       "      <td>10004.103880</td>\n",
       "      <td>43.0</td>\n",
       "      <td>41.0</td>\n",
       "      <td>NaN</td>\n",
       "      <td>NaN</td>\n",
       "      <td>NaN</td>\n",
       "      <td>NaN</td>\n",
       "      <td>0.816794</td>\n",
       "      <td>2.132991</td>\n",
       "      <td>0.259626</td>\n",
       "      <td>14786</td>\n",
       "      <td>94.599998</td>\n",
       "      <td>94.599998</td>\n",
       "      <td>94.599998</td>\n",
       "      <td>180626.0</td>\n",
       "      <td>7203954.0</td>\n",
       "      <td>246392.0</td>\n",
       "    </tr>\n",
       "    <tr>\n",
       "      <th>31</th>\n",
       "      <td>11-10-2024</td>\n",
       "      <td>54</td>\n",
       "      <td>2078.982549</td>\n",
       "      <td>1475.118999</td>\n",
       "      <td>25.0</td>\n",
       "      <td>25.0</td>\n",
       "      <td>NaN</td>\n",
       "      <td>NaN</td>\n",
       "      <td>NaN</td>\n",
       "      <td>NaN</td>\n",
       "      <td>0.408009</td>\n",
       "      <td>1.960492</td>\n",
       "      <td>0.266726</td>\n",
       "      <td>2375</td>\n",
       "      <td>94.599998</td>\n",
       "      <td>94.599998</td>\n",
       "      <td>94.599998</td>\n",
       "      <td>1395044.0</td>\n",
       "      <td>1516796.0</td>\n",
       "      <td>NaN</td>\n",
       "    </tr>\n",
       "    <tr>\n",
       "      <th>32</th>\n",
       "      <td>12-10-2024</td>\n",
       "      <td>39</td>\n",
       "      <td>1937.999314</td>\n",
       "      <td>1425.707189</td>\n",
       "      <td>NaN</td>\n",
       "      <td>NaN</td>\n",
       "      <td>NaN</td>\n",
       "      <td>NaN</td>\n",
       "      <td>NaN</td>\n",
       "      <td>NaN</td>\n",
       "      <td>0.764960</td>\n",
       "      <td>1.474782</td>\n",
       "      <td>0.259626</td>\n",
       "      <td>2399</td>\n",
       "      <td>94.599998</td>\n",
       "      <td>94.599998</td>\n",
       "      <td>94.599998</td>\n",
       "      <td>NaN</td>\n",
       "      <td>1209805.0</td>\n",
       "      <td>NaN</td>\n",
       "    </tr>\n",
       "    <tr>\n",
       "      <th>33</th>\n",
       "      <td>13-10-2024</td>\n",
       "      <td>109</td>\n",
       "      <td>2234.355367</td>\n",
       "      <td>5008.021662</td>\n",
       "      <td>15.0</td>\n",
       "      <td>15.0</td>\n",
       "      <td>19.131031</td>\n",
       "      <td>72.904755</td>\n",
       "      <td>19.135965</td>\n",
       "      <td>72.915321</td>\n",
       "      <td>0.681864</td>\n",
       "      <td>1.838842</td>\n",
       "      <td>0.059322</td>\n",
       "      <td>7598</td>\n",
       "      <td>94.599998</td>\n",
       "      <td>94.599998</td>\n",
       "      <td>94.599998</td>\n",
       "      <td>NaN</td>\n",
       "      <td>4983864.0</td>\n",
       "      <td>NaN</td>\n",
       "    </tr>\n",
       "    <tr>\n",
       "      <th>34</th>\n",
       "      <td>14-10-2024</td>\n",
       "      <td>212</td>\n",
       "      <td>2639.329941</td>\n",
       "      <td>11977.819420</td>\n",
       "      <td>80.0</td>\n",
       "      <td>71.0</td>\n",
       "      <td>NaN</td>\n",
       "      <td>NaN</td>\n",
       "      <td>NaN</td>\n",
       "      <td>NaN</td>\n",
       "      <td>0.533640</td>\n",
       "      <td>2.420673</td>\n",
       "      <td>0.251528</td>\n",
       "      <td>17042</td>\n",
       "      <td>93.500000</td>\n",
       "      <td>93.500000</td>\n",
       "      <td>93.500000</td>\n",
       "      <td>242930.0</td>\n",
       "      <td>9798729.0</td>\n",
       "      <td>NaN</td>\n",
       "    </tr>\n",
       "    <tr>\n",
       "      <th>35</th>\n",
       "      <td>15-10-2024</td>\n",
       "      <td>85</td>\n",
       "      <td>2143.298248</td>\n",
       "      <td>4284.300135</td>\n",
       "      <td>22.0</td>\n",
       "      <td>22.0</td>\n",
       "      <td>NaN</td>\n",
       "      <td>NaN</td>\n",
       "      <td>NaN</td>\n",
       "      <td>NaN</td>\n",
       "      <td>0.461032</td>\n",
       "      <td>1.722578</td>\n",
       "      <td>0.248792</td>\n",
       "      <td>6216</td>\n",
       "      <td>93.500000</td>\n",
       "      <td>93.500000</td>\n",
       "      <td>93.500000</td>\n",
       "      <td>NaN</td>\n",
       "      <td>4017226.0</td>\n",
       "      <td>NaN</td>\n",
       "    </tr>\n",
       "    <tr>\n",
       "      <th>36</th>\n",
       "      <td>16-10-2024</td>\n",
       "      <td>66</td>\n",
       "      <td>2077.473666</td>\n",
       "      <td>3845.084949</td>\n",
       "      <td>22.0</td>\n",
       "      <td>22.0</td>\n",
       "      <td>NaN</td>\n",
       "      <td>NaN</td>\n",
       "      <td>NaN</td>\n",
       "      <td>NaN</td>\n",
       "      <td>0.500602</td>\n",
       "      <td>1.836777</td>\n",
       "      <td>0.255321</td>\n",
       "      <td>5491</td>\n",
       "      <td>93.500000</td>\n",
       "      <td>93.500000</td>\n",
       "      <td>93.500000</td>\n",
       "      <td>NaN</td>\n",
       "      <td>3155566.0</td>\n",
       "      <td>NaN</td>\n",
       "    </tr>\n",
       "    <tr>\n",
       "      <th>37</th>\n",
       "      <td>17-10-2024</td>\n",
       "      <td>125</td>\n",
       "      <td>2299.925090</td>\n",
       "      <td>6793.234093</td>\n",
       "      <td>38.0</td>\n",
       "      <td>38.0</td>\n",
       "      <td>NaN</td>\n",
       "      <td>NaN</td>\n",
       "      <td>NaN</td>\n",
       "      <td>NaN</td>\n",
       "      <td>0.523211</td>\n",
       "      <td>1.853842</td>\n",
       "      <td>0.249301</td>\n",
       "      <td>9562</td>\n",
       "      <td>92.900002</td>\n",
       "      <td>92.900002</td>\n",
       "      <td>92.900002</td>\n",
       "      <td>NaN</td>\n",
       "      <td>5842626.0</td>\n",
       "      <td>92757.0</td>\n",
       "    </tr>\n",
       "    <tr>\n",
       "      <th>38</th>\n",
       "      <td>18-10-2024</td>\n",
       "      <td>67</td>\n",
       "      <td>1981.543921</td>\n",
       "      <td>2970.601042</td>\n",
       "      <td>5.0</td>\n",
       "      <td>5.0</td>\n",
       "      <td>NaN</td>\n",
       "      <td>NaN</td>\n",
       "      <td>NaN</td>\n",
       "      <td>NaN</td>\n",
       "      <td>0.475609</td>\n",
       "      <td>2.006581</td>\n",
       "      <td>0.248253</td>\n",
       "      <td>4440</td>\n",
       "      <td>92.900002</td>\n",
       "      <td>92.900002</td>\n",
       "      <td>92.900002</td>\n",
       "      <td>NaN</td>\n",
       "      <td>2021717.0</td>\n",
       "      <td>NaN</td>\n",
       "    </tr>\n",
       "    <tr>\n",
       "      <th>39</th>\n",
       "      <td>19-10-2024</td>\n",
       "      <td>108</td>\n",
       "      <td>2176.654596</td>\n",
       "      <td>5646.263958</td>\n",
       "      <td>26.0</td>\n",
       "      <td>23.0</td>\n",
       "      <td>NaN</td>\n",
       "      <td>NaN</td>\n",
       "      <td>NaN</td>\n",
       "      <td>NaN</td>\n",
       "      <td>0.465153</td>\n",
       "      <td>2.286031</td>\n",
       "      <td>0.259626</td>\n",
       "      <td>8455</td>\n",
       "      <td>93.800003</td>\n",
       "      <td>93.800003</td>\n",
       "      <td>93.800003</td>\n",
       "      <td>NaN</td>\n",
       "      <td>4538250.0</td>\n",
       "      <td>NaN</td>\n",
       "    </tr>\n",
       "    <tr>\n",
       "      <th>40</th>\n",
       "      <td>20-10-2024</td>\n",
       "      <td>42</td>\n",
       "      <td>1966.114419</td>\n",
       "      <td>1837.647733</td>\n",
       "      <td>2.0</td>\n",
       "      <td>2.0</td>\n",
       "      <td>NaN</td>\n",
       "      <td>NaN</td>\n",
       "      <td>NaN</td>\n",
       "      <td>NaN</td>\n",
       "      <td>0.667951</td>\n",
       "      <td>1.788284</td>\n",
       "      <td>0.282202</td>\n",
       "      <td>3132</td>\n",
       "      <td>93.800003</td>\n",
       "      <td>93.800003</td>\n",
       "      <td>93.800003</td>\n",
       "      <td>NaN</td>\n",
       "      <td>1685868.0</td>\n",
       "      <td>NaN</td>\n",
       "    </tr>\n",
       "    <tr>\n",
       "      <th>41</th>\n",
       "      <td>21-10-2024</td>\n",
       "      <td>52</td>\n",
       "      <td>2007.603461</td>\n",
       "      <td>2278.137687</td>\n",
       "      <td>4.0</td>\n",
       "      <td>4.0</td>\n",
       "      <td>NaN</td>\n",
       "      <td>NaN</td>\n",
       "      <td>NaN</td>\n",
       "      <td>NaN</td>\n",
       "      <td>0.554747</td>\n",
       "      <td>1.786598</td>\n",
       "      <td>0.259626</td>\n",
       "      <td>3614</td>\n",
       "      <td>93.800003</td>\n",
       "      <td>93.800003</td>\n",
       "      <td>93.800003</td>\n",
       "      <td>NaN</td>\n",
       "      <td>2219334.0</td>\n",
       "      <td>NaN</td>\n",
       "    </tr>\n",
       "    <tr>\n",
       "      <th>42</th>\n",
       "      <td>22-10-2024</td>\n",
       "      <td>113</td>\n",
       "      <td>2185.389732</td>\n",
       "      <td>5576.293363</td>\n",
       "      <td>25.0</td>\n",
       "      <td>24.0</td>\n",
       "      <td>NaN</td>\n",
       "      <td>NaN</td>\n",
       "      <td>NaN</td>\n",
       "      <td>NaN</td>\n",
       "      <td>0.562814</td>\n",
       "      <td>1.972128</td>\n",
       "      <td>0.257935</td>\n",
       "      <td>8046</td>\n",
       "      <td>93.800003</td>\n",
       "      <td>93.800003</td>\n",
       "      <td>93.800003</td>\n",
       "      <td>NaN</td>\n",
       "      <td>4505306.0</td>\n",
       "      <td>NaN</td>\n",
       "    </tr>\n",
       "    <tr>\n",
       "      <th>43</th>\n",
       "      <td>23-10-2024</td>\n",
       "      <td>180</td>\n",
       "      <td>2483.023970</td>\n",
       "      <td>9379.057541</td>\n",
       "      <td>40.0</td>\n",
       "      <td>39.0</td>\n",
       "      <td>NaN</td>\n",
       "      <td>NaN</td>\n",
       "      <td>NaN</td>\n",
       "      <td>NaN</td>\n",
       "      <td>0.458422</td>\n",
       "      <td>2.023665</td>\n",
       "      <td>0.248721</td>\n",
       "      <td>13618</td>\n",
       "      <td>93.000000</td>\n",
       "      <td>93.000000</td>\n",
       "      <td>93.000000</td>\n",
       "      <td>NaN</td>\n",
       "      <td>8345193.0</td>\n",
       "      <td>NaN</td>\n",
       "    </tr>\n",
       "    <tr>\n",
       "      <th>44</th>\n",
       "      <td>24-10-2024</td>\n",
       "      <td>87</td>\n",
       "      <td>2030.408226</td>\n",
       "      <td>4104.330008</td>\n",
       "      <td>13.0</td>\n",
       "      <td>13.0</td>\n",
       "      <td>NaN</td>\n",
       "      <td>NaN</td>\n",
       "      <td>NaN</td>\n",
       "      <td>NaN</td>\n",
       "      <td>0.500048</td>\n",
       "      <td>1.899297</td>\n",
       "      <td>0.257809</td>\n",
       "      <td>6061</td>\n",
       "      <td>93.000000</td>\n",
       "      <td>93.000000</td>\n",
       "      <td>93.000000</td>\n",
       "      <td>NaN</td>\n",
       "      <td>2636683.0</td>\n",
       "      <td>NaN</td>\n",
       "    </tr>\n",
       "    <tr>\n",
       "      <th>45</th>\n",
       "      <td>25-10-2024</td>\n",
       "      <td>49</td>\n",
       "      <td>1974.524221</td>\n",
       "      <td>2511.424468</td>\n",
       "      <td>6.0</td>\n",
       "      <td>6.0</td>\n",
       "      <td>NaN</td>\n",
       "      <td>NaN</td>\n",
       "      <td>NaN</td>\n",
       "      <td>NaN</td>\n",
       "      <td>0.755135</td>\n",
       "      <td>1.820177</td>\n",
       "      <td>0.270914</td>\n",
       "      <td>3720</td>\n",
       "      <td>93.000000</td>\n",
       "      <td>93.000000</td>\n",
       "      <td>93.000000</td>\n",
       "      <td>NaN</td>\n",
       "      <td>1779955.0</td>\n",
       "      <td>60123.0</td>\n",
       "    </tr>\n",
       "    <tr>\n",
       "      <th>46</th>\n",
       "      <td>26-10-2024</td>\n",
       "      <td>35</td>\n",
       "      <td>1930.633956</td>\n",
       "      <td>1334.236774</td>\n",
       "      <td>2.0</td>\n",
       "      <td>2.0</td>\n",
       "      <td>NaN</td>\n",
       "      <td>NaN</td>\n",
       "      <td>NaN</td>\n",
       "      <td>NaN</td>\n",
       "      <td>0.762247</td>\n",
       "      <td>1.628978</td>\n",
       "      <td>0.270914</td>\n",
       "      <td>2174</td>\n",
       "      <td>93.000000</td>\n",
       "      <td>93.000000</td>\n",
       "      <td>93.000000</td>\n",
       "      <td>NaN</td>\n",
       "      <td>1343645.0</td>\n",
       "      <td>NaN</td>\n",
       "    </tr>\n",
       "    <tr>\n",
       "      <th>47</th>\n",
       "      <td>27-10-2024</td>\n",
       "      <td>63</td>\n",
       "      <td>2046.123561</td>\n",
       "      <td>2971.028649</td>\n",
       "      <td>18.0</td>\n",
       "      <td>18.0</td>\n",
       "      <td>NaN</td>\n",
       "      <td>NaN</td>\n",
       "      <td>NaN</td>\n",
       "      <td>NaN</td>\n",
       "      <td>0.594631</td>\n",
       "      <td>1.652333</td>\n",
       "      <td>0.257571</td>\n",
       "      <td>4556</td>\n",
       "      <td>93.000000</td>\n",
       "      <td>93.000000</td>\n",
       "      <td>93.000000</td>\n",
       "      <td>423550.0</td>\n",
       "      <td>2392955.0</td>\n",
       "      <td>NaN</td>\n",
       "    </tr>\n",
       "    <tr>\n",
       "      <th>48</th>\n",
       "      <td>28-10-2024</td>\n",
       "      <td>58</td>\n",
       "      <td>2038.393507</td>\n",
       "      <td>3491.297804</td>\n",
       "      <td>22.0</td>\n",
       "      <td>22.0</td>\n",
       "      <td>NaN</td>\n",
       "      <td>NaN</td>\n",
       "      <td>NaN</td>\n",
       "      <td>NaN</td>\n",
       "      <td>0.475089</td>\n",
       "      <td>1.698269</td>\n",
       "      <td>0.259626</td>\n",
       "      <td>4994</td>\n",
       "      <td>93.000000</td>\n",
       "      <td>93.000000</td>\n",
       "      <td>93.000000</td>\n",
       "      <td>NaN</td>\n",
       "      <td>2744486.0</td>\n",
       "      <td>NaN</td>\n",
       "    </tr>\n",
       "    <tr>\n",
       "      <th>49</th>\n",
       "      <td>29-10-2024</td>\n",
       "      <td>77</td>\n",
       "      <td>2024.504167</td>\n",
       "      <td>3629.165922</td>\n",
       "      <td>7.0</td>\n",
       "      <td>7.0</td>\n",
       "      <td>NaN</td>\n",
       "      <td>NaN</td>\n",
       "      <td>NaN</td>\n",
       "      <td>NaN</td>\n",
       "      <td>0.534970</td>\n",
       "      <td>2.028001</td>\n",
       "      <td>0.250766</td>\n",
       "      <td>5655</td>\n",
       "      <td>93.000000</td>\n",
       "      <td>93.000000</td>\n",
       "      <td>93.000000</td>\n",
       "      <td>NaN</td>\n",
       "      <td>2560169.0</td>\n",
       "      <td>NaN</td>\n",
       "    </tr>\n",
       "    <tr>\n",
       "      <th>50</th>\n",
       "      <td>30-10-2024</td>\n",
       "      <td>125</td>\n",
       "      <td>2236.215070</td>\n",
       "      <td>5712.507929</td>\n",
       "      <td>38.0</td>\n",
       "      <td>38.0</td>\n",
       "      <td>19.116604</td>\n",
       "      <td>72.909927</td>\n",
       "      <td>19.125086</td>\n",
       "      <td>72.916771</td>\n",
       "      <td>0.564592</td>\n",
       "      <td>1.820643</td>\n",
       "      <td>0.240630</td>\n",
       "      <td>8748</td>\n",
       "      <td>93.000000</td>\n",
       "      <td>93.000000</td>\n",
       "      <td>93.000000</td>\n",
       "      <td>840549.0</td>\n",
       "      <td>4077331.0</td>\n",
       "      <td>151110.0</td>\n",
       "    </tr>\n",
       "    <tr>\n",
       "      <th>51</th>\n",
       "      <td>31-10-2024</td>\n",
       "      <td>76</td>\n",
       "      <td>2085.720536</td>\n",
       "      <td>4148.086725</td>\n",
       "      <td>21.0</td>\n",
       "      <td>21.0</td>\n",
       "      <td>NaN</td>\n",
       "      <td>NaN</td>\n",
       "      <td>NaN</td>\n",
       "      <td>NaN</td>\n",
       "      <td>0.515567</td>\n",
       "      <td>1.578714</td>\n",
       "      <td>0.249194</td>\n",
       "      <td>6158</td>\n",
       "      <td>93.000000</td>\n",
       "      <td>93.000000</td>\n",
       "      <td>93.000000</td>\n",
       "      <td>NaN</td>\n",
       "      <td>3359102.0</td>\n",
       "      <td>NaN</td>\n",
       "    </tr>\n",
       "    <tr>\n",
       "      <th>52</th>\n",
       "      <td>01-11-2024</td>\n",
       "      <td>47</td>\n",
       "      <td>1932.316121</td>\n",
       "      <td>2004.422026</td>\n",
       "      <td>3.0</td>\n",
       "      <td>3.0</td>\n",
       "      <td>NaN</td>\n",
       "      <td>NaN</td>\n",
       "      <td>NaN</td>\n",
       "      <td>NaN</td>\n",
       "      <td>0.540703</td>\n",
       "      <td>1.588256</td>\n",
       "      <td>0.249318</td>\n",
       "      <td>3198</td>\n",
       "      <td>93.000000</td>\n",
       "      <td>93.000000</td>\n",
       "      <td>93.000000</td>\n",
       "      <td>NaN</td>\n",
       "      <td>1366713.0</td>\n",
       "      <td>NaN</td>\n",
       "    </tr>\n",
       "    <tr>\n",
       "      <th>53</th>\n",
       "      <td>02-11-2024</td>\n",
       "      <td>49</td>\n",
       "      <td>1978.546552</td>\n",
       "      <td>2583.609161</td>\n",
       "      <td>10.0</td>\n",
       "      <td>10.0</td>\n",
       "      <td>NaN</td>\n",
       "      <td>NaN</td>\n",
       "      <td>NaN</td>\n",
       "      <td>NaN</td>\n",
       "      <td>0.523404</td>\n",
       "      <td>1.722840</td>\n",
       "      <td>0.249310</td>\n",
       "      <td>3939</td>\n",
       "      <td>93.000000</td>\n",
       "      <td>93.000000</td>\n",
       "      <td>93.000000</td>\n",
       "      <td>NaN</td>\n",
       "      <td>1961587.0</td>\n",
       "      <td>NaN</td>\n",
       "    </tr>\n",
       "    <tr>\n",
       "      <th>54</th>\n",
       "      <td>03-11-2024</td>\n",
       "      <td>53</td>\n",
       "      <td>2058.398162</td>\n",
       "      <td>3359.153538</td>\n",
       "      <td>8.0</td>\n",
       "      <td>8.0</td>\n",
       "      <td>19.132862</td>\n",
       "      <td>72.906998</td>\n",
       "      <td>19.136028</td>\n",
       "      <td>72.915215</td>\n",
       "      <td>0.480351</td>\n",
       "      <td>3.173061</td>\n",
       "      <td>0.270914</td>\n",
       "      <td>4124</td>\n",
       "      <td>93.000000</td>\n",
       "      <td>93.000000</td>\n",
       "      <td>93.000000</td>\n",
       "      <td>NaN</td>\n",
       "      <td>3004359.0</td>\n",
       "      <td>NaN</td>\n",
       "    </tr>\n",
       "    <tr>\n",
       "      <th>55</th>\n",
       "      <td>04-11-2024</td>\n",
       "      <td>69</td>\n",
       "      <td>2067.423189</td>\n",
       "      <td>3237.141167</td>\n",
       "      <td>11.0</td>\n",
       "      <td>11.0</td>\n",
       "      <td>19.136070</td>\n",
       "      <td>72.906967</td>\n",
       "      <td>19.136070</td>\n",
       "      <td>72.906967</td>\n",
       "      <td>0.532771</td>\n",
       "      <td>1.796040</td>\n",
       "      <td>0.257983</td>\n",
       "      <td>5146</td>\n",
       "      <td>93.000000</td>\n",
       "      <td>93.000000</td>\n",
       "      <td>93.000000</td>\n",
       "      <td>NaN</td>\n",
       "      <td>3121533.0</td>\n",
       "      <td>NaN</td>\n",
       "    </tr>\n",
       "    <tr>\n",
       "      <th>56</th>\n",
       "      <td>05-11-2024</td>\n",
       "      <td>30</td>\n",
       "      <td>1898.085045</td>\n",
       "      <td>1431.219832</td>\n",
       "      <td>2.0</td>\n",
       "      <td>2.0</td>\n",
       "      <td>NaN</td>\n",
       "      <td>NaN</td>\n",
       "      <td>NaN</td>\n",
       "      <td>NaN</td>\n",
       "      <td>0.716969</td>\n",
       "      <td>1.773352</td>\n",
       "      <td>0.267128</td>\n",
       "      <td>2410</td>\n",
       "      <td>93.000000</td>\n",
       "      <td>93.000000</td>\n",
       "      <td>93.000000</td>\n",
       "      <td>NaN</td>\n",
       "      <td>922933.0</td>\n",
       "      <td>NaN</td>\n",
       "    </tr>\n",
       "    <tr>\n",
       "      <th>57</th>\n",
       "      <td>06-11-2024</td>\n",
       "      <td>86</td>\n",
       "      <td>2106.849327</td>\n",
       "      <td>4682.075850</td>\n",
       "      <td>20.0</td>\n",
       "      <td>20.0</td>\n",
       "      <td>NaN</td>\n",
       "      <td>NaN</td>\n",
       "      <td>NaN</td>\n",
       "      <td>NaN</td>\n",
       "      <td>0.533443</td>\n",
       "      <td>1.733650</td>\n",
       "      <td>0.259626</td>\n",
       "      <td>6852</td>\n",
       "      <td>93.000000</td>\n",
       "      <td>93.000000</td>\n",
       "      <td>93.000000</td>\n",
       "      <td>NaN</td>\n",
       "      <td>3633425.0</td>\n",
       "      <td>NaN</td>\n",
       "    </tr>\n",
       "    <tr>\n",
       "      <th>58</th>\n",
       "      <td>07-11-2024</td>\n",
       "      <td>98</td>\n",
       "      <td>2008.770068</td>\n",
       "      <td>5082.179375</td>\n",
       "      <td>19.0</td>\n",
       "      <td>19.0</td>\n",
       "      <td>NaN</td>\n",
       "      <td>NaN</td>\n",
       "      <td>NaN</td>\n",
       "      <td>NaN</td>\n",
       "      <td>0.651756</td>\n",
       "      <td>1.870291</td>\n",
       "      <td>0.282202</td>\n",
       "      <td>7493</td>\n",
       "      <td>93.000000</td>\n",
       "      <td>93.000000</td>\n",
       "      <td>93.000000</td>\n",
       "      <td>NaN</td>\n",
       "      <td>2360011.0</td>\n",
       "      <td>NaN</td>\n",
       "    </tr>\n",
       "    <tr>\n",
       "      <th>59</th>\n",
       "      <td>08-11-2024</td>\n",
       "      <td>81</td>\n",
       "      <td>2058.210590</td>\n",
       "      <td>3580.833601</td>\n",
       "      <td>5.0</td>\n",
       "      <td>5.0</td>\n",
       "      <td>NaN</td>\n",
       "      <td>NaN</td>\n",
       "      <td>NaN</td>\n",
       "      <td>NaN</td>\n",
       "      <td>0.499969</td>\n",
       "      <td>1.896458</td>\n",
       "      <td>0.270914</td>\n",
       "      <td>5463</td>\n",
       "      <td>93.000000</td>\n",
       "      <td>93.000000</td>\n",
       "      <td>93.000000</td>\n",
       "      <td>NaN</td>\n",
       "      <td>3001925.0</td>\n",
       "      <td>NaN</td>\n",
       "    </tr>\n",
       "  </tbody>\n",
       "</table>\n",
       "</div>"
      ],
      "text/plain": [
       "          Date  Move Minutes count  Calories (kcal)  Distance (m)  \\\n",
       "0   10-09-2024                 121       867.958096   6470.376641   \n",
       "1   11-09-2024                  93      2214.801273   5181.514751   \n",
       "2   12-09-2024                 114      2206.899517   5854.029477   \n",
       "3   13-09-2024                  46      2008.695336   1995.621970   \n",
       "4   14-09-2024                  89      2198.116329   5026.990015   \n",
       "5   15-09-2024                  57      2027.296743   2641.325350   \n",
       "6   16-09-2024                  34      1888.267800   1346.213281   \n",
       "7   17-09-2024                 116      2261.983096   5356.043999   \n",
       "8   18-09-2024                 157      2438.603836   8996.358801   \n",
       "9   19-09-2024                 108      2224.768637   4972.758426   \n",
       "10  20-09-2024                  76      2060.604710   3150.882875   \n",
       "11  21-09-2024                 169      2453.603491   9154.044427   \n",
       "12  22-09-2024                 236      2564.456341  11245.201210   \n",
       "13  23-09-2024                 195      2595.647254  11551.070710   \n",
       "14  24-09-2024                 113      2206.077549   5045.033482   \n",
       "15  25-09-2024                 119      2268.803256   6805.071257   \n",
       "16  26-09-2024                 111      2253.310010   5946.665298   \n",
       "17  27-09-2024                  83      2107.174391   3863.343998   \n",
       "18  28-09-2024                 104      2213.547705   5653.704893   \n",
       "19  29-09-2024                 114      2265.376765   5811.445250   \n",
       "20  30-09-2024                 130      2312.148876   6893.009204   \n",
       "21  01-10-2024                 182      2502.990556  10909.220210   \n",
       "22  02-10-2024                 161      2382.208399   9874.419612   \n",
       "23  03-10-2024                 121      2305.308117   7087.411425   \n",
       "24  04-10-2024                  95      2159.303584   4180.496034   \n",
       "25  05-10-2024                 132      2248.517334   6210.427886   \n",
       "26  06-10-2024                 107      2204.098364   6566.045963   \n",
       "27  07-10-2024                  71      2095.073090   3748.496607   \n",
       "28  08-10-2024                 120      2276.423276   6692.628278   \n",
       "29  09-10-2024                 113      2197.427118   5562.009233   \n",
       "30  10-10-2024                 186      2467.123991  10004.103880   \n",
       "31  11-10-2024                  54      2078.982549   1475.118999   \n",
       "32  12-10-2024                  39      1937.999314   1425.707189   \n",
       "33  13-10-2024                 109      2234.355367   5008.021662   \n",
       "34  14-10-2024                 212      2639.329941  11977.819420   \n",
       "35  15-10-2024                  85      2143.298248   4284.300135   \n",
       "36  16-10-2024                  66      2077.473666   3845.084949   \n",
       "37  17-10-2024                 125      2299.925090   6793.234093   \n",
       "38  18-10-2024                  67      1981.543921   2970.601042   \n",
       "39  19-10-2024                 108      2176.654596   5646.263958   \n",
       "40  20-10-2024                  42      1966.114419   1837.647733   \n",
       "41  21-10-2024                  52      2007.603461   2278.137687   \n",
       "42  22-10-2024                 113      2185.389732   5576.293363   \n",
       "43  23-10-2024                 180      2483.023970   9379.057541   \n",
       "44  24-10-2024                  87      2030.408226   4104.330008   \n",
       "45  25-10-2024                  49      1974.524221   2511.424468   \n",
       "46  26-10-2024                  35      1930.633956   1334.236774   \n",
       "47  27-10-2024                  63      2046.123561   2971.028649   \n",
       "48  28-10-2024                  58      2038.393507   3491.297804   \n",
       "49  29-10-2024                  77      2024.504167   3629.165922   \n",
       "50  30-10-2024                 125      2236.215070   5712.507929   \n",
       "51  31-10-2024                  76      2085.720536   4148.086725   \n",
       "52  01-11-2024                  47      1932.316121   2004.422026   \n",
       "53  02-11-2024                  49      1978.546552   2583.609161   \n",
       "54  03-11-2024                  53      2058.398162   3359.153538   \n",
       "55  04-11-2024                  69      2067.423189   3237.141167   \n",
       "56  05-11-2024                  30      1898.085045   1431.219832   \n",
       "57  06-11-2024                  86      2106.849327   4682.075850   \n",
       "58  07-11-2024                  98      2008.770068   5082.179375   \n",
       "59  08-11-2024                  81      2058.210590   3580.833601   \n",
       "\n",
       "    Heart Points  Heart Minutes  Low latitude (deg)  Low longitude (deg)  \\\n",
       "0           37.0           37.0                 NaN                  NaN   \n",
       "1           28.0           28.0                 NaN                  NaN   \n",
       "2           26.0           24.0                 NaN                  NaN   \n",
       "3            2.0            2.0                 NaN                  NaN   \n",
       "4           25.0           24.0                 NaN                  NaN   \n",
       "5            2.0            2.0                 NaN                  NaN   \n",
       "6            NaN            NaN                 NaN                  NaN   \n",
       "7           16.0           16.0                 NaN                  NaN   \n",
       "8           52.0           51.0                 NaN                  NaN   \n",
       "9           20.0           20.0                 NaN                  NaN   \n",
       "10          15.0           15.0                 NaN                  NaN   \n",
       "11          56.0           55.0                 NaN                  NaN   \n",
       "12          25.0           25.0                 NaN                  NaN   \n",
       "13          75.0           69.0                 NaN                  NaN   \n",
       "14          33.0           33.0           19.135868            72.906845   \n",
       "15          37.0           33.0                 NaN                  NaN   \n",
       "16          20.0           20.0           19.132032            72.906967   \n",
       "17          12.0           12.0                 NaN                  NaN   \n",
       "18          32.0           31.0                 NaN                  NaN   \n",
       "19          23.0           23.0                 NaN                  NaN   \n",
       "20          38.0           37.0           19.134056            72.910057   \n",
       "21          75.0           75.0           19.132725            72.906837   \n",
       "22          61.0           45.0           19.116678            72.908470   \n",
       "23          43.0           36.0                 NaN                  NaN   \n",
       "24           9.0            9.0                 NaN                  NaN   \n",
       "25          46.0           44.0                 NaN                  NaN   \n",
       "26          45.0           38.0                 NaN                  NaN   \n",
       "27          21.0           19.0                 NaN                  NaN   \n",
       "28          29.0           29.0                 NaN                  NaN   \n",
       "29           9.0            9.0           19.106987            72.884644   \n",
       "30          43.0           41.0                 NaN                  NaN   \n",
       "31          25.0           25.0                 NaN                  NaN   \n",
       "32           NaN            NaN                 NaN                  NaN   \n",
       "33          15.0           15.0           19.131031            72.904755   \n",
       "34          80.0           71.0                 NaN                  NaN   \n",
       "35          22.0           22.0                 NaN                  NaN   \n",
       "36          22.0           22.0                 NaN                  NaN   \n",
       "37          38.0           38.0                 NaN                  NaN   \n",
       "38           5.0            5.0                 NaN                  NaN   \n",
       "39          26.0           23.0                 NaN                  NaN   \n",
       "40           2.0            2.0                 NaN                  NaN   \n",
       "41           4.0            4.0                 NaN                  NaN   \n",
       "42          25.0           24.0                 NaN                  NaN   \n",
       "43          40.0           39.0                 NaN                  NaN   \n",
       "44          13.0           13.0                 NaN                  NaN   \n",
       "45           6.0            6.0                 NaN                  NaN   \n",
       "46           2.0            2.0                 NaN                  NaN   \n",
       "47          18.0           18.0                 NaN                  NaN   \n",
       "48          22.0           22.0                 NaN                  NaN   \n",
       "49           7.0            7.0                 NaN                  NaN   \n",
       "50          38.0           38.0           19.116604            72.909927   \n",
       "51          21.0           21.0                 NaN                  NaN   \n",
       "52           3.0            3.0                 NaN                  NaN   \n",
       "53          10.0           10.0                 NaN                  NaN   \n",
       "54           8.0            8.0           19.132862            72.906998   \n",
       "55          11.0           11.0           19.136070            72.906967   \n",
       "56           2.0            2.0                 NaN                  NaN   \n",
       "57          20.0           20.0                 NaN                  NaN   \n",
       "58          19.0           19.0                 NaN                  NaN   \n",
       "59           5.0            5.0                 NaN                  NaN   \n",
       "\n",
       "    High latitude (deg)  High longitude (deg)  Average speed (m/s)  \\\n",
       "0                   NaN                   NaN             0.617043   \n",
       "1                   NaN                   NaN             0.697694   \n",
       "2                   NaN                   NaN             0.596009   \n",
       "3                   NaN                   NaN             0.741684   \n",
       "4                   NaN                   NaN             0.617862   \n",
       "5                   NaN                   NaN             0.499457   \n",
       "6                   NaN                   NaN             0.530444   \n",
       "7                   NaN                   NaN             0.611620   \n",
       "8                   NaN                   NaN             0.524578   \n",
       "9                   NaN                   NaN             0.551888   \n",
       "10                  NaN                   NaN             0.433081   \n",
       "11                  NaN                   NaN             0.534784   \n",
       "12                  NaN                   NaN             0.729492   \n",
       "13                  NaN                   NaN             0.664538   \n",
       "14            19.135868             72.906845             0.493093   \n",
       "15                  NaN                   NaN             0.674703   \n",
       "16            19.135988             72.915977             0.613155   \n",
       "17                  NaN                   NaN             0.432770   \n",
       "18                  NaN                   NaN             0.639683   \n",
       "19                  NaN                   NaN             0.657653   \n",
       "20            19.134056             72.910057             0.786861   \n",
       "21            19.136007             72.916847             0.674345   \n",
       "22            19.134935             72.916374             0.590687   \n",
       "23                  NaN                   NaN             0.609813   \n",
       "24                  NaN                   NaN             0.688207   \n",
       "25                  NaN                   NaN             0.472522   \n",
       "26                  NaN                   NaN             0.432097   \n",
       "27                  NaN                   NaN             0.667431   \n",
       "28                  NaN                   NaN             0.577324   \n",
       "29            19.136051             72.909851             0.598266   \n",
       "30                  NaN                   NaN             0.816794   \n",
       "31                  NaN                   NaN             0.408009   \n",
       "32                  NaN                   NaN             0.764960   \n",
       "33            19.135965             72.915321             0.681864   \n",
       "34                  NaN                   NaN             0.533640   \n",
       "35                  NaN                   NaN             0.461032   \n",
       "36                  NaN                   NaN             0.500602   \n",
       "37                  NaN                   NaN             0.523211   \n",
       "38                  NaN                   NaN             0.475609   \n",
       "39                  NaN                   NaN             0.465153   \n",
       "40                  NaN                   NaN             0.667951   \n",
       "41                  NaN                   NaN             0.554747   \n",
       "42                  NaN                   NaN             0.562814   \n",
       "43                  NaN                   NaN             0.458422   \n",
       "44                  NaN                   NaN             0.500048   \n",
       "45                  NaN                   NaN             0.755135   \n",
       "46                  NaN                   NaN             0.762247   \n",
       "47                  NaN                   NaN             0.594631   \n",
       "48                  NaN                   NaN             0.475089   \n",
       "49                  NaN                   NaN             0.534970   \n",
       "50            19.125086             72.916771             0.564592   \n",
       "51                  NaN                   NaN             0.515567   \n",
       "52                  NaN                   NaN             0.540703   \n",
       "53                  NaN                   NaN             0.523404   \n",
       "54            19.136028             72.915215             0.480351   \n",
       "55            19.136070             72.906967             0.532771   \n",
       "56                  NaN                   NaN             0.716969   \n",
       "57                  NaN                   NaN             0.533443   \n",
       "58                  NaN                   NaN             0.651756   \n",
       "59                  NaN                   NaN             0.499969   \n",
       "\n",
       "    Max speed (m/s)  Min speed (m/s)  Step count  Average weight (kg)  \\\n",
       "0          1.847389         0.255037        9291            96.400002   \n",
       "1          1.877624         0.259626        7345            96.400002   \n",
       "2          2.006888         0.270914        8536            96.400002   \n",
       "3          1.592073         0.259626        3213            96.400002   \n",
       "4          2.085506         0.255020        7218            96.400002   \n",
       "5          1.671849         0.270914        4127            96.400002   \n",
       "6          1.749261         0.338642        2094            96.400002   \n",
       "7          1.732727         0.259626        7849            96.400002   \n",
       "8          1.923631         0.258285       12687            96.400002   \n",
       "9          1.742083         0.259626        7471            96.400002   \n",
       "10         1.675896         0.255114        4842            96.400002   \n",
       "11         2.033103         0.254963       13097            96.400002   \n",
       "12         1.701365         0.259626       16597            96.400002   \n",
       "13         2.537116         0.251912       16433            96.400002   \n",
       "14         2.274814         0.245691        7389            96.400002   \n",
       "15         1.966387         0.259626        9499            96.400002   \n",
       "16         1.692445         0.245049        9054            96.400002   \n",
       "17         1.551127         0.270914        5901            96.400002   \n",
       "18         2.230133         0.259626        8286            96.400002   \n",
       "19         1.750020         0.259626        8683            96.400002   \n",
       "20         2.395821         0.270914        9757            95.800003   \n",
       "21         1.764388         0.259626       15486            95.800003   \n",
       "22         3.542593         0.248201       13488            95.800003   \n",
       "23         2.033126         0.250275        9924            95.199997   \n",
       "24         2.091832         0.259626        6136            95.199997   \n",
       "25         2.316148         0.259626        9060            95.199997   \n",
       "26         2.279967         0.249836        9256            95.049999   \n",
       "27         1.972327         0.259626        5374            95.049999   \n",
       "28         1.894852         0.259626        9815            94.599998   \n",
       "29         1.592931         0.245521        8282            94.599998   \n",
       "30         2.132991         0.259626       14786            94.599998   \n",
       "31         1.960492         0.266726        2375            94.599998   \n",
       "32         1.474782         0.259626        2399            94.599998   \n",
       "33         1.838842         0.059322        7598            94.599998   \n",
       "34         2.420673         0.251528       17042            93.500000   \n",
       "35         1.722578         0.248792        6216            93.500000   \n",
       "36         1.836777         0.255321        5491            93.500000   \n",
       "37         1.853842         0.249301        9562            92.900002   \n",
       "38         2.006581         0.248253        4440            92.900002   \n",
       "39         2.286031         0.259626        8455            93.800003   \n",
       "40         1.788284         0.282202        3132            93.800003   \n",
       "41         1.786598         0.259626        3614            93.800003   \n",
       "42         1.972128         0.257935        8046            93.800003   \n",
       "43         2.023665         0.248721       13618            93.000000   \n",
       "44         1.899297         0.257809        6061            93.000000   \n",
       "45         1.820177         0.270914        3720            93.000000   \n",
       "46         1.628978         0.270914        2174            93.000000   \n",
       "47         1.652333         0.257571        4556            93.000000   \n",
       "48         1.698269         0.259626        4994            93.000000   \n",
       "49         2.028001         0.250766        5655            93.000000   \n",
       "50         1.820643         0.240630        8748            93.000000   \n",
       "51         1.578714         0.249194        6158            93.000000   \n",
       "52         1.588256         0.249318        3198            93.000000   \n",
       "53         1.722840         0.249310        3939            93.000000   \n",
       "54         3.173061         0.270914        4124            93.000000   \n",
       "55         1.796040         0.257983        5146            93.000000   \n",
       "56         1.773352         0.267128        2410            93.000000   \n",
       "57         1.733650         0.259626        6852            93.000000   \n",
       "58         1.870291         0.282202        7493            93.000000   \n",
       "59         1.896458         0.270914        5463            93.000000   \n",
       "\n",
       "    Max weight (kg)  Min weight (kg)  Cycling duration (ms)  \\\n",
       "0         96.400002        96.400002                    NaN   \n",
       "1         96.400002        96.400002                    NaN   \n",
       "2         96.400002        96.400002                    NaN   \n",
       "3         96.400002        96.400002                    NaN   \n",
       "4         96.400002        96.400002                    NaN   \n",
       "5         96.400002        96.400002                    NaN   \n",
       "6         96.400002        96.400002                    NaN   \n",
       "7         96.400002        96.400002                    NaN   \n",
       "8         96.400002        96.400002                    NaN   \n",
       "9         96.400002        96.400002                    NaN   \n",
       "10        96.400002        96.400002               576484.0   \n",
       "11        96.400002        96.400002                    NaN   \n",
       "12        96.400002        96.400002                    NaN   \n",
       "13        96.400002        96.400002                    NaN   \n",
       "14        96.400002        96.400002              1059407.0   \n",
       "15        96.400002        96.400002                    NaN   \n",
       "16        96.400002        96.400002                    NaN   \n",
       "17        96.400002        96.400002                    NaN   \n",
       "18        96.400002        96.400002                    NaN   \n",
       "19        96.400002        96.400002                    NaN   \n",
       "20        95.800003        95.800003                    NaN   \n",
       "21        95.800003        95.800003                    NaN   \n",
       "22        95.800003        95.800003                    NaN   \n",
       "23        95.199997        95.199997                    NaN   \n",
       "24        95.199997        95.199997                    NaN   \n",
       "25        95.199997        95.199997               760708.0   \n",
       "26        95.199997        94.900002                    NaN   \n",
       "27        95.199997        94.900002                    NaN   \n",
       "28        94.599998        94.599998                    NaN   \n",
       "29        94.599998        94.599998                    NaN   \n",
       "30        94.599998        94.599998               180626.0   \n",
       "31        94.599998        94.599998              1395044.0   \n",
       "32        94.599998        94.599998                    NaN   \n",
       "33        94.599998        94.599998                    NaN   \n",
       "34        93.500000        93.500000               242930.0   \n",
       "35        93.500000        93.500000                    NaN   \n",
       "36        93.500000        93.500000                    NaN   \n",
       "37        92.900002        92.900002                    NaN   \n",
       "38        92.900002        92.900002                    NaN   \n",
       "39        93.800003        93.800003                    NaN   \n",
       "40        93.800003        93.800003                    NaN   \n",
       "41        93.800003        93.800003                    NaN   \n",
       "42        93.800003        93.800003                    NaN   \n",
       "43        93.000000        93.000000                    NaN   \n",
       "44        93.000000        93.000000                    NaN   \n",
       "45        93.000000        93.000000                    NaN   \n",
       "46        93.000000        93.000000                    NaN   \n",
       "47        93.000000        93.000000               423550.0   \n",
       "48        93.000000        93.000000                    NaN   \n",
       "49        93.000000        93.000000                    NaN   \n",
       "50        93.000000        93.000000               840549.0   \n",
       "51        93.000000        93.000000                    NaN   \n",
       "52        93.000000        93.000000                    NaN   \n",
       "53        93.000000        93.000000                    NaN   \n",
       "54        93.000000        93.000000                    NaN   \n",
       "55        93.000000        93.000000                    NaN   \n",
       "56        93.000000        93.000000                    NaN   \n",
       "57        93.000000        93.000000                    NaN   \n",
       "58        93.000000        93.000000                    NaN   \n",
       "59        93.000000        93.000000                    NaN   \n",
       "\n",
       "    Walking duration (ms)  Running duration (ms)  \n",
       "0               3597666.0                    NaN  \n",
       "1               4404096.0                    NaN  \n",
       "2               4312091.0                    NaN  \n",
       "3               1841216.0                    NaN  \n",
       "4               3771774.0               189190.0  \n",
       "5               2071266.0                    NaN  \n",
       "6                339929.0                    NaN  \n",
       "7               4995234.0                    NaN  \n",
       "8               7200587.0                    NaN  \n",
       "9               4534852.0                    NaN  \n",
       "10              1873362.0                    NaN  \n",
       "11              7384584.0                    NaN  \n",
       "12              8769505.0                    NaN  \n",
       "13              9158343.0                    NaN  \n",
       "14              2968196.0                90398.0  \n",
       "15              4891920.0                77388.0  \n",
       "16              4890660.0                    NaN  \n",
       "17              3068887.0                    NaN  \n",
       "18              4394971.0                    NaN  \n",
       "19              5041087.0                    NaN  \n",
       "20              5696915.0                    NaN  \n",
       "21              8135239.0                    NaN  \n",
       "22              6542625.0                    NaN  \n",
       "23              5631285.0                    NaN  \n",
       "24              3921715.0                    NaN  \n",
       "25              4239951.0                    NaN  \n",
       "26              4511043.0                    NaN  \n",
       "27              3111367.0                    NaN  \n",
       "28              5422727.0                    NaN  \n",
       "29              2888786.0               725946.0  \n",
       "30              7203954.0               246392.0  \n",
       "31              1516796.0                    NaN  \n",
       "32              1209805.0                    NaN  \n",
       "33              4983864.0                    NaN  \n",
       "34              9798729.0                    NaN  \n",
       "35              4017226.0                    NaN  \n",
       "36              3155566.0                    NaN  \n",
       "37              5842626.0                92757.0  \n",
       "38              2021717.0                    NaN  \n",
       "39              4538250.0                    NaN  \n",
       "40              1685868.0                    NaN  \n",
       "41              2219334.0                    NaN  \n",
       "42              4505306.0                    NaN  \n",
       "43              8345193.0                    NaN  \n",
       "44              2636683.0                    NaN  \n",
       "45              1779955.0                60123.0  \n",
       "46              1343645.0                    NaN  \n",
       "47              2392955.0                    NaN  \n",
       "48              2744486.0                    NaN  \n",
       "49              2560169.0                    NaN  \n",
       "50              4077331.0               151110.0  \n",
       "51              3359102.0                    NaN  \n",
       "52              1366713.0                    NaN  \n",
       "53              1961587.0                    NaN  \n",
       "54              3004359.0                    NaN  \n",
       "55              3121533.0                    NaN  \n",
       "56               922933.0                    NaN  \n",
       "57              3633425.0                    NaN  \n",
       "58              2360011.0                    NaN  \n",
       "59              3001925.0                    NaN  "
      ]
     },
     "execution_count": 44,
     "metadata": {},
     "output_type": "execute_result"
    }
   ],
   "source": [
    "import pandas as pd\n",
    "data = pd.read_csv('fitness_data_google_fit.csv')\n",
    "data.head(60)"
   ]
  },
  {
   "cell_type": "markdown",
   "id": "ff2638e8-c569-45ca-9cb2-d7fe7bde4266",
   "metadata": {},
   "source": [
    "## filling nan values with 0"
   ]
  },
  {
   "cell_type": "code",
   "execution_count": 32,
   "id": "a2e4c7e3-0683-4f3a-ba76-90be3e724f7e",
   "metadata": {
    "scrolled": true
   },
   "outputs": [],
   "source": [
    "data.fillna(0.0, inplace=True)"
   ]
  },
  {
   "cell_type": "markdown",
   "id": "43d5afe9-a892-466c-afbc-46d3b518815e",
   "metadata": {},
   "source": [
    "## new column with walking duration in min\n"
   ]
  },
  {
   "cell_type": "code",
   "execution_count": 33,
   "id": "da567e80-cc7d-404a-bdfb-5eac4f212d66",
   "metadata": {
    "scrolled": true
   },
   "outputs": [
    {
     "data": {
      "text/html": [
       "<div>\n",
       "<style scoped>\n",
       "    .dataframe tbody tr th:only-of-type {\n",
       "        vertical-align: middle;\n",
       "    }\n",
       "\n",
       "    .dataframe tbody tr th {\n",
       "        vertical-align: top;\n",
       "    }\n",
       "\n",
       "    .dataframe thead th {\n",
       "        text-align: right;\n",
       "    }\n",
       "</style>\n",
       "<table border=\"1\" class=\"dataframe\">\n",
       "  <thead>\n",
       "    <tr style=\"text-align: right;\">\n",
       "      <th></th>\n",
       "      <th>Date</th>\n",
       "      <th>Move Minutes count</th>\n",
       "      <th>Calories (kcal)</th>\n",
       "      <th>Distance (m)</th>\n",
       "      <th>Heart Points</th>\n",
       "      <th>Heart Minutes</th>\n",
       "      <th>Low latitude (deg)</th>\n",
       "      <th>Low longitude (deg)</th>\n",
       "      <th>High latitude (deg)</th>\n",
       "      <th>High longitude (deg)</th>\n",
       "      <th>...</th>\n",
       "      <th>Max speed (m/s)</th>\n",
       "      <th>Min speed (m/s)</th>\n",
       "      <th>Step count</th>\n",
       "      <th>Average weight (kg)</th>\n",
       "      <th>Max weight (kg)</th>\n",
       "      <th>Min weight (kg)</th>\n",
       "      <th>Cycling duration (ms)</th>\n",
       "      <th>Walking duration (ms)</th>\n",
       "      <th>Running duration (ms)</th>\n",
       "      <th>Walking duration (min)</th>\n",
       "    </tr>\n",
       "  </thead>\n",
       "  <tbody>\n",
       "    <tr>\n",
       "      <th>0</th>\n",
       "      <td>10-09-2024</td>\n",
       "      <td>121</td>\n",
       "      <td>867.958096</td>\n",
       "      <td>6470.376641</td>\n",
       "      <td>37.0</td>\n",
       "      <td>37.0</td>\n",
       "      <td>0.0</td>\n",
       "      <td>0.0</td>\n",
       "      <td>0.0</td>\n",
       "      <td>0.0</td>\n",
       "      <td>...</td>\n",
       "      <td>1.847389</td>\n",
       "      <td>0.255037</td>\n",
       "      <td>9291</td>\n",
       "      <td>96.400002</td>\n",
       "      <td>96.400002</td>\n",
       "      <td>96.400002</td>\n",
       "      <td>0.0</td>\n",
       "      <td>3597666.0</td>\n",
       "      <td>0.0</td>\n",
       "      <td>59.961100</td>\n",
       "    </tr>\n",
       "    <tr>\n",
       "      <th>1</th>\n",
       "      <td>11-09-2024</td>\n",
       "      <td>93</td>\n",
       "      <td>2214.801273</td>\n",
       "      <td>5181.514751</td>\n",
       "      <td>28.0</td>\n",
       "      <td>28.0</td>\n",
       "      <td>0.0</td>\n",
       "      <td>0.0</td>\n",
       "      <td>0.0</td>\n",
       "      <td>0.0</td>\n",
       "      <td>...</td>\n",
       "      <td>1.877624</td>\n",
       "      <td>0.259626</td>\n",
       "      <td>7345</td>\n",
       "      <td>96.400002</td>\n",
       "      <td>96.400002</td>\n",
       "      <td>96.400002</td>\n",
       "      <td>0.0</td>\n",
       "      <td>4404096.0</td>\n",
       "      <td>0.0</td>\n",
       "      <td>73.401600</td>\n",
       "    </tr>\n",
       "    <tr>\n",
       "      <th>2</th>\n",
       "      <td>12-09-2024</td>\n",
       "      <td>114</td>\n",
       "      <td>2206.899517</td>\n",
       "      <td>5854.029477</td>\n",
       "      <td>26.0</td>\n",
       "      <td>24.0</td>\n",
       "      <td>0.0</td>\n",
       "      <td>0.0</td>\n",
       "      <td>0.0</td>\n",
       "      <td>0.0</td>\n",
       "      <td>...</td>\n",
       "      <td>2.006888</td>\n",
       "      <td>0.270914</td>\n",
       "      <td>8536</td>\n",
       "      <td>96.400002</td>\n",
       "      <td>96.400002</td>\n",
       "      <td>96.400002</td>\n",
       "      <td>0.0</td>\n",
       "      <td>4312091.0</td>\n",
       "      <td>0.0</td>\n",
       "      <td>71.868183</td>\n",
       "    </tr>\n",
       "    <tr>\n",
       "      <th>3</th>\n",
       "      <td>13-09-2024</td>\n",
       "      <td>46</td>\n",
       "      <td>2008.695336</td>\n",
       "      <td>1995.621970</td>\n",
       "      <td>2.0</td>\n",
       "      <td>2.0</td>\n",
       "      <td>0.0</td>\n",
       "      <td>0.0</td>\n",
       "      <td>0.0</td>\n",
       "      <td>0.0</td>\n",
       "      <td>...</td>\n",
       "      <td>1.592073</td>\n",
       "      <td>0.259626</td>\n",
       "      <td>3213</td>\n",
       "      <td>96.400002</td>\n",
       "      <td>96.400002</td>\n",
       "      <td>96.400002</td>\n",
       "      <td>0.0</td>\n",
       "      <td>1841216.0</td>\n",
       "      <td>0.0</td>\n",
       "      <td>30.686933</td>\n",
       "    </tr>\n",
       "    <tr>\n",
       "      <th>4</th>\n",
       "      <td>14-09-2024</td>\n",
       "      <td>89</td>\n",
       "      <td>2198.116329</td>\n",
       "      <td>5026.990015</td>\n",
       "      <td>25.0</td>\n",
       "      <td>24.0</td>\n",
       "      <td>0.0</td>\n",
       "      <td>0.0</td>\n",
       "      <td>0.0</td>\n",
       "      <td>0.0</td>\n",
       "      <td>...</td>\n",
       "      <td>2.085506</td>\n",
       "      <td>0.255020</td>\n",
       "      <td>7218</td>\n",
       "      <td>96.400002</td>\n",
       "      <td>96.400002</td>\n",
       "      <td>96.400002</td>\n",
       "      <td>0.0</td>\n",
       "      <td>3771774.0</td>\n",
       "      <td>189190.0</td>\n",
       "      <td>62.862900</td>\n",
       "    </tr>\n",
       "  </tbody>\n",
       "</table>\n",
       "<p>5 rows × 21 columns</p>\n",
       "</div>"
      ],
      "text/plain": [
       "         Date  Move Minutes count  Calories (kcal)  Distance (m)  \\\n",
       "0  10-09-2024                 121       867.958096   6470.376641   \n",
       "1  11-09-2024                  93      2214.801273   5181.514751   \n",
       "2  12-09-2024                 114      2206.899517   5854.029477   \n",
       "3  13-09-2024                  46      2008.695336   1995.621970   \n",
       "4  14-09-2024                  89      2198.116329   5026.990015   \n",
       "\n",
       "   Heart Points  Heart Minutes  Low latitude (deg)  Low longitude (deg)  \\\n",
       "0          37.0           37.0                 0.0                  0.0   \n",
       "1          28.0           28.0                 0.0                  0.0   \n",
       "2          26.0           24.0                 0.0                  0.0   \n",
       "3           2.0            2.0                 0.0                  0.0   \n",
       "4          25.0           24.0                 0.0                  0.0   \n",
       "\n",
       "   High latitude (deg)  High longitude (deg)  ...  Max speed (m/s)  \\\n",
       "0                  0.0                   0.0  ...         1.847389   \n",
       "1                  0.0                   0.0  ...         1.877624   \n",
       "2                  0.0                   0.0  ...         2.006888   \n",
       "3                  0.0                   0.0  ...         1.592073   \n",
       "4                  0.0                   0.0  ...         2.085506   \n",
       "\n",
       "   Min speed (m/s)  Step count  Average weight (kg)  Max weight (kg)  \\\n",
       "0         0.255037        9291            96.400002        96.400002   \n",
       "1         0.259626        7345            96.400002        96.400002   \n",
       "2         0.270914        8536            96.400002        96.400002   \n",
       "3         0.259626        3213            96.400002        96.400002   \n",
       "4         0.255020        7218            96.400002        96.400002   \n",
       "\n",
       "   Min weight (kg)  Cycling duration (ms)  Walking duration (ms)  \\\n",
       "0        96.400002                    0.0              3597666.0   \n",
       "1        96.400002                    0.0              4404096.0   \n",
       "2        96.400002                    0.0              4312091.0   \n",
       "3        96.400002                    0.0              1841216.0   \n",
       "4        96.400002                    0.0              3771774.0   \n",
       "\n",
       "   Running duration (ms)  Walking duration (min)  \n",
       "0                    0.0               59.961100  \n",
       "1                    0.0               73.401600  \n",
       "2                    0.0               71.868183  \n",
       "3                    0.0               30.686933  \n",
       "4               189190.0               62.862900  \n",
       "\n",
       "[5 rows x 21 columns]"
      ]
     },
     "execution_count": 33,
     "metadata": {},
     "output_type": "execute_result"
    }
   ],
   "source": [
    "data['Walking duration (min)']=data['Walking duration (ms)']/60000\n",
    "data.head(5)"
   ]
  },
  {
   "cell_type": "markdown",
   "id": "ada9c5cd-1a4f-4ecd-9b16-228d9797b37b",
   "metadata": {},
   "source": [
    "## Basic MAX MIN AVG stats"
   ]
  },
  {
   "cell_type": "code",
   "execution_count": 34,
   "id": "67596598-8837-4bb3-bdf2-51ecc26affb8",
   "metadata": {},
   "outputs": [
    {
     "name": "stdout",
     "output_type": "stream",
     "text": [
      "max calorie burnt in (kcal): 2639.329941 \n",
      "min calorie burnt in (kcal): 867.9580958 \n",
      "avg calorie burnt in (kcal): 2084.891246258\n",
      "max step count: 17042 \n",
      "min step count: 658 \n",
      "avg step count: 6024.04\n"
     ]
    }
   ],
   "source": [
    "print('max calorie burnt in (kcal):',data['Calories (kcal)'].max(),'\\nmin calorie burnt in (kcal):',data['Calories (kcal)'].min(),'\\navg calorie burnt in (kcal):',data['Calories (kcal)'].mean())\n",
    "print('max step count:',data['Step count'].max(), '\\nmin step count:',data['Step count'].min(), '\\navg step count:',data['Step count'].mean())"
   ]
  },
  {
   "cell_type": "markdown",
   "id": "afcb8db8-ae28-493b-aa2b-4b80923d7dbf",
   "metadata": {},
   "source": [
    "# Plots\n",
    "## 1- Line plot\n",
    "### Date vs Average weight (kg) plot"
   ]
  },
  {
   "cell_type": "code",
   "execution_count": 35,
   "id": "087bfdd7-2026-4ae6-8625-b9c0dbfd7271",
   "metadata": {},
   "outputs": [
    {
     "data": {
      "image/png": "[encoded data removed]",
      "text/plain": [
       "<Figure size 2500x600 with 1 Axes>"
      ]
     },
     "metadata": {},
     "output_type": "display_data"
    }
   ],
   "source": [
    "plt.figure(figsize=(25,6))\n",
    "sns.lineplot(x=data['Date'], y=data['Average weight (kg)'])\n",
    "plt.xticks(rotation=45)\n",
    "plt.tight_layout()\n",
    "plt.title('Date vs Average weight (kg)' )# Adjust layout to avoid clipping\n",
    "plt.show()\n",
    "\n",
    "\n"
   ]
  },
  {
   "cell_type": "markdown",
   "id": "4a61d304-5123-41a9-9f8c-dba686741c9f",
   "metadata": {},
   "source": [
    "#### the x axis labelling was coming too congested so below is the solution, reduce the labelling parts"
   ]
  },
  {
   "cell_type": "code",
   "execution_count": 36,
   "id": "e655411c-c040-436f-a81e-d0d2422c03fc",
   "metadata": {},
   "outputs": [
    {
     "data": {
      "image/png": "[encoded data removed]",
      "text/plain": [
       "<Figure size 2000x600 with 1 Axes>"
      ]
     },
     "metadata": {},
     "output_type": "display_data"
    }
   ],
   "source": [
    "plt.figure(figsize=(20, 6))\n",
    "sns.lineplot(y=data['Average weight (kg)'], x=data['Date'])\n",
    "plt.xticks(ticks=data['Date'][::10], rotation=45)  # Show every 10th date\n",
    "plt.tight_layout()\n",
    "plt.show()\n"
   ]
  },
  {
   "cell_type": "markdown",
   "id": "26fa2b42-af7c-419f-8651-c91390227303",
   "metadata": {},
   "source": [
    "## 2- Scatter plot\n",
    "### Step Count vs Calories (kcal) scatter plot\n"
   ]
  },
  {
   "cell_type": "code",
   "execution_count": 37,
   "id": "b4650611-6ffa-463f-87b8-a01e57863d1c",
   "metadata": {},
   "outputs": [
    {
     "data": {
      "image/png": "[encoded data removed]",
      "text/plain": [
       "<Figure size 2500x600 with 1 Axes>"
      ]
     },
     "metadata": {},
     "output_type": "display_data"
    }
   ],
   "source": [
    "plt.figure(figsize=(20, 6))\n",
    "sns.lineplot(y=data['Average weight (kg)'], x=data['Date'])\n",
    "plt.xticks(ticks=data['Date'][::10], rotation=45)  # Show every 10th date\n",
    "plt.tight_layout()\n",
    "plt.show()\n",
    "\n"
   ]
  },
  {
   "cell_type": "markdown",
   "id": "c8868e93-567b-4e57-ad73-18794ccb86f9",
   "metadata": {},
   "source": [
    "### adding regression line using seaborn"
   ]
  },
  {
   "cell_type": "code",
   "execution_count": 38,
   "id": "77be7203-4bc1-43fd-9a05-5fb1c023c54e",
   "metadata": {},
   "outputs": [
    {
     "data": {
      "image/png": "[encoded data removed]",
      "text/plain": [
       "<Figure size 2500x600 with 1 Axes>"
      ]
     },
     "metadata": {},
     "output_type": "display_data"
    }
   ],
   "source": [
    "\n",
    "plt.figure(figsize=(25,6))\n",
    "sns.regplot(x=data['Walking duration (min)'], y=data['Calories (kcal)'], scatter=True, line_kws={\"color\": \"red\"})\n",
    "plt.xticks(rotation=45)\n",
    "plt.tight_layout()       # Adjust layout to avoid clipping\n",
    "plt.show()"
   ]
  },
  {
   "cell_type": "markdown",
   "id": "48a4c80b-84cd-45db-8b05-4f7b8426eb99",
   "metadata": {},
   "source": [
    "### other library plotly.express allows zooming in "
   ]
  },
  {
   "cell_type": "code",
   "execution_count": 39,
   "id": "88a95f16-fca5-4153-844f-df5ea1d375b3",
   "metadata": {},
   "outputs": [
    {
     "data": {
      "application/vnd.plotly.v1+json": {
       "config": {
        "plotlyServerURL": "https://plot.ly"
       },
       "data": [
        {
         "hovertemplate": "Walking duration (min)=%{x}<br>Calories (kcal)=%{y}<extra></extra>",
         "legendgroup": "",
         "marker": {
          "color": "#636efa",
          "size": 3,
          "symbol": "circle"
         },
         "mode": "markers",
         "name": "",
         "orientation": "v",
         "showlegend": false,
         "type": "scatter",
         "x": [
          59.9611,
          73.4016,
          71.86818333333333,
          30.686933333333332,
          62.8629,
          34.5211,
          5.665483333333333,
          83.2539,
          120.00978333333333,
          75.58086666666667,
          31.2227,
          123.0764,
          146.15841666666665,
          152.63905,
          49.46993333333333,
          81.532,
          81.511,
          51.14811666666667,
          73.24951666666666,
          84.01811666666667,
          94.94858333333333,
          135.58731666666668,
          109.04375,
          93.85475,
          65.36191666666667,
          70.66585,
          75.18405,
          51.856116666666665,
          90.37878333333333,
          48.146433333333334,
          120.0659,
          25.279933333333332,
          20.163416666666667,
          83.0644,
          163.31215,
          66.95376666666667,
          52.59276666666667,
          97.3771,
          33.695283333333336,
          75.6375,
          28.0978,
          36.9889,
          75.08843333333333,
          139.08655,
          43.944716666666665,
          29.665916666666668,
          22.394083333333334,
          39.882583333333336,
          45.74143333333333,
          42.66948333333333,
          67.95551666666667,
          55.985033333333334,
          22.77855,
          32.69311666666667,
          50.07265,
          52.02555,
          15.382216666666666,
          60.55708333333333,
          39.33351666666667,
          50.03208333333333,
          51.35328333333333,
          94.32863333333333,
          51.286033333333336,
          45.749583333333334,
          43.02243333333333,
          87.2185,
          39.97586666666667,
          55.824783333333336,
          61.57655,
          18.97148333333333,
          33.8259,
          35.869033333333334,
          44.234316666666665,
          56.784016666666666,
          31.276233333333334,
          49.25111666666667,
          17.97105,
          34.362966666666665,
          94.9345,
          100.301,
          15.7111,
          0,
          18.031266666666667,
          4.028133333333333,
          14.985116666666666,
          21.501033333333332,
          10.188366666666667,
          10.152283333333333,
          1.5405666666666666,
          0.50175,
          47.78295,
          4.7323,
          46.411966666666665,
          2.8373333333333335,
          21.335166666666666,
          16.7231,
          8.46865,
          6.926416666666666,
          15.176683333333333,
          0
         ],
         "xaxis": "x",
         "y": [
          867.9580958,
          2214.801273,
          2206.899517,
          2008.695336,
          2198.116329,
          2027.296743,
          1888.2678,
          2261.983096,
          2438.603836,
          2224.768637,
          2060.60471,
          2453.603491,
          2564.456341,
          2595.647254,
          2206.077549,
          2268.803256,
          2253.31001,
          2107.174391,
          2213.547705,
          2265.376765,
          2312.148876,
          2502.990556,
          2382.208399,
          2305.308117,
          2159.303584,
          2248.517334,
          2204.098364,
          2095.07309,
          2276.423276,
          2197.427118,
          2467.123991,
          2078.982549,
          1937.999314,
          2234.355367,
          2639.329941,
          2143.298248,
          2077.473666,
          2299.92509,
          1981.543921,
          2176.654596,
          1966.114419,
          2007.603461,
          2185.389732,
          2483.02397,
          2030.408226,
          1974.524221,
          1930.633956,
          2046.123561,
          2038.393507,
          2024.504167,
          2236.21507,
          2085.720536,
          1932.316121,
          1978.546552,
          2058.398162,
          2067.423189,
          1898.085045,
          2106.849327,
          2008.770068,
          2058.21059,
          2064.316495,
          2305.48834,
          2064.00549,
          2038.419954,
          2069.597403,
          2230.090756,
          2011.744899,
          2100.364229,
          2111.560611,
          1914.672058,
          1983.31788,
          1992.775023,
          2031.469336,
          2089.637506,
          2037.279471,
          2056.181137,
          1910.048658,
          1985.799936,
          2266.642733,
          2290.515802,
          1899.604705,
          1826.99997,
          1910.326962,
          1845.614981,
          1950.81168,
          1926.361693,
          1874.082867,
          1873.91621,
          1834.119314,
          1829.318682,
          2047.816938,
          1848.86917,
          2041.481303,
          1840.121082,
          1925.59511,
          1904.281566,
          1866.135731,
          1859.008673,
          1897.13519,
          1770.16367
         ],
         "yaxis": "y"
        }
       ],
       "layout": {
        "autosize": true,
        "legend": {
         "tracegroupgap": 0
        },
        "template": {
         "data": {
          "bar": [
           {
            "error_x": {
             "color": "#2a3f5f"
            },
            "error_y": {
             "color": "#2a3f5f"
            },
            "marker": {
             "line": {
              "color": "#E5ECF6",
              "width": 0.5
             },
             "pattern": {
              "fillmode": "overlay",
              "size": 10,
              "solidity": 0.2
             }
            },
            "type": "bar"
           }
          ],
          "barpolar": [
           {
            "marker": {
             "line": {
              "color": "#E5ECF6",
              "width": 0.5
             },
             "pattern": {
              "fillmode": "overlay",
              "size": 10,
              "solidity": 0.2
             }
            },
            "type": "barpolar"
           }
          ],
          "carpet": [
           {
            "aaxis": {
             "endlinecolor": "#2a3f5f",
             "gridcolor": "white",
             "linecolor": "white",
             "minorgridcolor": "white",
             "startlinecolor": "#2a3f5f"
            },
            "baxis": {
             "endlinecolor": "#2a3f5f",
             "gridcolor": "white",
             "linecolor": "white",
             "minorgridcolor": "white",
             "startlinecolor": "#2a3f5f"
            },
            "type": "carpet"
           }
          ],
          "choropleth": [
           {
            "colorbar": {
             "outlinewidth": 0,
             "ticks": ""
            },
            "type": "choropleth"
           }
          ],
          "contour": [
           {
            "colorbar": {
             "outlinewidth": 0,
             "ticks": ""
            },
            "colorscale": [
             [
              0,
              "#0d0887"
             ],
             [
              0.1111111111111111,
              "#46039f"
             ],
             [
              0.2222222222222222,
              "#7201a8"
             ],
             [
              0.3333333333333333,
              "#9c179e"
             ],
             [
              0.4444444444444444,
              "#bd3786"
             ],
             [
              0.5555555555555556,
              "#d8576b"
             ],
             [
              0.6666666666666666,
              "#ed7953"
             ],
             [
              0.7777777777777778,
              "#fb9f3a"
             ],
             [
              0.8888888888888888,
              "#fdca26"
             ],
             [
              1,
              "#f0f921"
             ]
            ],
            "type": "contour"
           }
          ],
          "contourcarpet": [
           {
            "colorbar": {
             "outlinewidth": 0,
             "ticks": ""
            },
            "type": "contourcarpet"
           }
          ],
          "heatmap": [
           {
            "colorbar": {
             "outlinewidth": 0,
             "ticks": ""
            },
            "colorscale": [
             [
              0,
              "#0d0887"
             ],
             [
              0.1111111111111111,
              "#46039f"
             ],
             [
              0.2222222222222222,
              "#7201a8"
             ],
             [
              0.3333333333333333,
              "#9c179e"
             ],
             [
              0.4444444444444444,
              "#bd3786"
             ],
             [
              0.5555555555555556,
              "#d8576b"
             ],
             [
              0.6666666666666666,
              "#ed7953"
             ],
             [
              0.7777777777777778,
              "#fb9f3a"
             ],
             [
              0.8888888888888888,
              "#fdca26"
             ],
             [
              1,
              "#f0f921"
             ]
            ],
            "type": "heatmap"
           }
          ],
          "heatmapgl": [
           {
            "colorbar": {
             "outlinewidth": 0,
             "ticks": ""
            },
            "colorscale": [
             [
              0,
              "#0d0887"
             ],
             [
              0.1111111111111111,
              "#46039f"
             ],
             [
              0.2222222222222222,
              "#7201a8"
             ],
             [
              0.3333333333333333,
              "#9c179e"
             ],
             [
              0.4444444444444444,
              "#bd3786"
             ],
             [
              0.5555555555555556,
              "#d8576b"
             ],
             [
              0.6666666666666666,
              "#ed7953"
             ],
             [
              0.7777777777777778,
              "#fb9f3a"
             ],
             [
              0.8888888888888888,
              "#fdca26"
             ],
             [
              1,
              "#f0f921"
             ]
            ],
            "type": "heatmapgl"
           }
          ],
          "histogram": [
           {
            "marker": {
             "pattern": {
              "fillmode": "overlay",
              "size": 10,
              "solidity": 0.2
             }
            },
            "type": "histogram"
           }
          ],
          "histogram2d": [
           {
            "colorbar": {
             "outlinewidth": 0,
             "ticks": ""
            },
            "colorscale": [
             [
              0,
              "#0d0887"
             ],
             [
              0.1111111111111111,
              "#46039f"
             ],
             [
              0.2222222222222222,
              "#7201a8"
             ],
             [
              0.3333333333333333,
              "#9c179e"
             ],
             [
              0.4444444444444444,
              "#bd3786"
             ],
             [
              0.5555555555555556,
              "#d8576b"
             ],
             [
              0.6666666666666666,
              "#ed7953"
             ],
             [
              0.7777777777777778,
              "#fb9f3a"
             ],
             [
              0.8888888888888888,
              "#fdca26"
             ],
             [
              1,
              "#f0f921"
             ]
            ],
            "type": "histogram2d"
           }
          ],
          "histogram2dcontour": [
           {
            "colorbar": {
             "outlinewidth": 0,
             "ticks": ""
            },
            "colorscale": [
             [
              0,
              "#0d0887"
             ],
             [
              0.1111111111111111,
              "#46039f"
             ],
             [
              0.2222222222222222,
              "#7201a8"
             ],
             [
              0.3333333333333333,
              "#9c179e"
             ],
             [
              0.4444444444444444,
              "#bd3786"
             ],
             [
              0.5555555555555556,
              "#d8576b"
             ],
             [
              0.6666666666666666,
              "#ed7953"
             ],
             [
              0.7777777777777778,
              "#fb9f3a"
             ],
             [
              0.8888888888888888,
              "#fdca26"
             ],
             [
              1,
              "#f0f921"
             ]
            ],
            "type": "histogram2dcontour"
           }
          ],
          "mesh3d": [
           {
            "colorbar": {
             "outlinewidth": 0,
             "ticks": ""
            },
            "type": "mesh3d"
           }
          ],
          "parcoords": [
           {
            "line": {
             "colorbar": {
              "outlinewidth": 0,
              "ticks": ""
             }
            },
            "type": "parcoords"
           }
          ],
          "pie": [
           {
            "automargin": true,
            "type": "pie"
           }
          ],
          "scatter": [
           {
            "fillpattern": {
             "fillmode": "overlay",
             "size": 10,
             "solidity": 0.2
            },
            "type": "scatter"
           }
          ],
          "scatter3d": [
           {
            "line": {
             "colorbar": {
              "outlinewidth": 0,
              "ticks": ""
             }
            },
            "marker": {
             "colorbar": {
              "outlinewidth": 0,
              "ticks": ""
             }
            },
            "type": "scatter3d"
           }
          ],
          "scattercarpet": [
           {
            "marker": {
             "colorbar": {
              "outlinewidth": 0,
              "ticks": ""
             }
            },
            "type": "scattercarpet"
           }
          ],
          "scattergeo": [
           {
            "marker": {
             "colorbar": {
              "outlinewidth": 0,
              "ticks": ""
             }
            },
            "type": "scattergeo"
           }
          ],
          "scattergl": [
           {
            "marker": {
             "colorbar": {
              "outlinewidth": 0,
              "ticks": ""
             }
            },
            "type": "scattergl"
           }
          ],
          "scattermapbox": [
           {
            "marker": {
             "colorbar": {
              "outlinewidth": 0,
              "ticks": ""
             }
            },
            "type": "scattermapbox"
           }
          ],
          "scatterpolar": [
           {
            "marker": {
             "colorbar": {
              "outlinewidth": 0,
              "ticks": ""
             }
            },
            "type": "scatterpolar"
           }
          ],
          "scatterpolargl": [
           {
            "marker": {
             "colorbar": {
              "outlinewidth": 0,
              "ticks": ""
             }
            },
            "type": "scatterpolargl"
           }
          ],
          "scatterternary": [
           {
            "marker": {
             "colorbar": {
              "outlinewidth": 0,
              "ticks": ""
             }
            },
            "type": "scatterternary"
           }
          ],
          "surface": [
           {
            "colorbar": {
             "outlinewidth": 0,
             "ticks": ""
            },
            "colorscale": [
             [
              0,
              "#0d0887"
             ],
             [
              0.1111111111111111,
              "#46039f"
             ],
             [
              0.2222222222222222,
              "#7201a8"
             ],
             [
              0.3333333333333333,
              "#9c179e"
             ],
             [
              0.4444444444444444,
              "#bd3786"
             ],
             [
              0.5555555555555556,
              "#d8576b"
             ],
             [
              0.6666666666666666,
              "#ed7953"
             ],
             [
              0.7777777777777778,
              "#fb9f3a"
             ],
             [
              0.8888888888888888,
              "#fdca26"
             ],
             [
              1,
              "#f0f921"
             ]
            ],
            "type": "surface"
           }
          ],
          "table": [
           {
            "cells": {
             "fill": {
              "color": "#EBF0F8"
             },
             "line": {
              "color": "white"
             }
            },
            "header": {
             "fill": {
              "color": "#C8D4E3"
             },
             "line": {
              "color": "white"
             }
            },
            "type": "table"
           }
          ]
         },
         "layout": {
          "annotationdefaults": {
           "arrowcolor": "#2a3f5f",
           "arrowhead": 0,
           "arrowwidth": 1
          },
          "autotypenumbers": "strict",
          "coloraxis": {
           "colorbar": {
            "outlinewidth": 0,
            "ticks": ""
           }
          },
          "colorscale": {
           "diverging": [
            [
             0,
             "#8e0152"
            ],
            [
             0.1,
             "#c51b7d"
            ],
            [
             0.2,
             "#de77ae"
            ],
            [
             0.3,
             "#f1b6da"
            ],
            [
             0.4,
             "#fde0ef"
            ],
            [
             0.5,
             "#f7f7f7"
            ],
            [
             0.6,
             "#e6f5d0"
            ],
            [
             0.7,
             "#b8e186"
            ],
            [
             0.8,
             "#7fbc41"
            ],
            [
             0.9,
             "#4d9221"
            ],
            [
             1,
             "#276419"
            ]
           ],
           "sequential": [
            [
             0,
             "#0d0887"
            ],
            [
             0.1111111111111111,
             "#46039f"
            ],
            [
             0.2222222222222222,
             "#7201a8"
            ],
            [
             0.3333333333333333,
             "#9c179e"
            ],
            [
             0.4444444444444444,
             "#bd3786"
            ],
            [
             0.5555555555555556,
             "#d8576b"
            ],
            [
             0.6666666666666666,
             "#ed7953"
            ],
            [
             0.7777777777777778,
             "#fb9f3a"
            ],
            [
             0.8888888888888888,
             "#fdca26"
            ],
            [
             1,
             "#f0f921"
            ]
           ],
           "sequentialminus": [
            [
             0,
             "#0d0887"
            ],
            [
             0.1111111111111111,
             "#46039f"
            ],
            [
             0.2222222222222222,
             "#7201a8"
            ],
            [
             0.3333333333333333,
             "#9c179e"
            ],
            [
             0.4444444444444444,
             "#bd3786"
            ],
            [
             0.5555555555555556,
             "#d8576b"
            ],
            [
             0.6666666666666666,
             "#ed7953"
            ],
            [
             0.7777777777777778,
             "#fb9f3a"
            ],
            [
             0.8888888888888888,
             "#fdca26"
            ],
            [
             1,
             "#f0f921"
            ]
           ]
          },
          "colorway": [
           "#636efa",
           "#EF553B",
           "#00cc96",
           "#ab63fa",
           "#FFA15A",
           "#19d3f3",
           "#FF6692",
           "#B6E880",
           "#FF97FF",
           "#FECB52"
          ],
          "font": {
           "color": "#2a3f5f"
          },
          "geo": {
           "bgcolor": "white",
           "lakecolor": "white",
           "landcolor": "#E5ECF6",
           "showlakes": true,
           "showland": true,
           "subunitcolor": "white"
          },
          "hoverlabel": {
           "align": "left"
          },
          "hovermode": "closest",
          "mapbox": {
           "style": "light"
          },
          "paper_bgcolor": "white",
          "plot_bgcolor": "#E5ECF6",
          "polar": {
           "angularaxis": {
            "gridcolor": "white",
            "linecolor": "white",
            "ticks": ""
           },
           "bgcolor": "#E5ECF6",
           "radialaxis": {
            "gridcolor": "white",
            "linecolor": "white",
            "ticks": ""
           }
          },
          "scene": {
           "xaxis": {
            "backgroundcolor": "#E5ECF6",
            "gridcolor": "white",
            "gridwidth": 2,
            "linecolor": "white",
            "showbackground": true,
            "ticks": "",
            "zerolinecolor": "white"
           },
           "yaxis": {
            "backgroundcolor": "#E5ECF6",
            "gridcolor": "white",
            "gridwidth": 2,
            "linecolor": "white",
            "showbackground": true,
            "ticks": "",
            "zerolinecolor": "white"
           },
           "zaxis": {
            "backgroundcolor": "#E5ECF6",
            "gridcolor": "white",
            "gridwidth": 2,
            "linecolor": "white",
            "showbackground": true,
            "ticks": "",
            "zerolinecolor": "white"
           }
          },
          "shapedefaults": {
           "line": {
            "color": "#2a3f5f"
           }
          },
          "ternary": {
           "aaxis": {
            "gridcolor": "white",
            "linecolor": "white",
            "ticks": ""
           },
           "baxis": {
            "gridcolor": "white",
            "linecolor": "white",
            "ticks": ""
           },
           "bgcolor": "#E5ECF6",
           "caxis": {
            "gridcolor": "white",
            "linecolor": "white",
            "ticks": ""
           }
          },
          "title": {
           "x": 0.05
          },
          "xaxis": {
           "automargin": true,
           "gridcolor": "white",
           "linecolor": "white",
           "ticks": "",
           "title": {
            "standoff": 15
           },
           "zerolinecolor": "white",
           "zerolinewidth": 2
          },
          "yaxis": {
           "automargin": true,
           "gridcolor": "white",
           "linecolor": "white",
           "ticks": "",
           "title": {
            "standoff": 15
           },
           "zerolinecolor": "white",
           "zerolinewidth": 2
          }
         }
        },
        "title": {
         "text": "Zoomable Graph"
        },
        "xaxis": {
         "anchor": "y",
         "autorange": true,
         "domain": [
          0,
          1
         ],
         "range": [
          -9.720267698299441,
          173.03241769829944
         ],
         "title": {
          "text": "Walking duration (min)"
         },
         "type": "linear"
        },
        "yaxis": {
         "anchor": "x",
         "autorange": true,
         "domain": [
          0,
          1
         ],
         "range": [
          731.6987230923078,
          2775.5893137076923
         ],
         "title": {
          "text": "Calories (kcal)"
         },
         "type": "linear"
        }
       }
      },
      "image/png": "[encoded data removed]",
      "text/html": [
       "<div>                            <div id=\"af642fd3-4bbf-4963-83df-690a526761da\" class=\"plotly-graph-div\" style=\"height:525px; width:100%;\"></div>            <script type=\"text/javascript\">                require([\"plotly\"], function(Plotly) {                    window.PLOTLYENV=window.PLOTLYENV || {};                                    if (document.getElementById(\"af642fd3-4bbf-4963-83df-690a526761da\")) {                    Plotly.newPlot(                        \"af642fd3-4bbf-4963-83df-690a526761da\",                        [{\"hovertemplate\":\"Walking duration (min)=%{x}\\u003cbr\\u003eCalories (kcal)=%{y}\\u003cextra\\u003e\\u003c\\u002fextra\\u003e\",\"legendgroup\":\"\",\"marker\":{\"color\":\"#636efa\",\"symbol\":\"circle\",\"size\":3},\"mode\":\"markers\",\"name\":\"\",\"orientation\":\"v\",\"showlegend\":false,\"x\":[59.9611,73.4016,71.86818333333333,30.686933333333332,62.8629,34.5211,5.665483333333333,83.2539,120.00978333333333,75.58086666666667,31.2227,123.0764,146.15841666666665,152.63905,49.46993333333333,81.532,81.511,51.14811666666667,73.24951666666666,84.01811666666667,94.94858333333333,135.58731666666668,109.04375,93.85475,65.36191666666667,70.66585,75.18405,51.856116666666665,90.37878333333333,48.146433333333334,120.0659,25.279933333333332,20.163416666666667,83.0644,163.31215,66.95376666666667,52.59276666666667,97.3771,33.695283333333336,75.6375,28.0978,36.9889,75.08843333333333,139.08655,43.944716666666665,29.665916666666668,22.394083333333334,39.882583333333336,45.74143333333333,42.66948333333333,67.95551666666667,55.985033333333334,22.77855,32.69311666666667,50.07265,52.02555,15.382216666666666,60.55708333333333,39.33351666666667,50.03208333333333,51.35328333333333,94.32863333333333,51.286033333333336,45.749583333333334,43.02243333333333,87.2185,39.97586666666667,55.824783333333336,61.57655,18.97148333333333,33.8259,35.869033333333334,44.234316666666665,56.784016666666666,31.276233333333334,49.25111666666667,17.97105,34.362966666666665,94.9345,100.301,15.7111,0.0,18.031266666666667,4.028133333333333,14.985116666666666,21.501033333333332,10.188366666666667,10.152283333333333,1.5405666666666666,0.50175,47.78295,4.7323,46.411966666666665,2.8373333333333335,21.335166666666666,16.7231,8.46865,6.926416666666666,15.176683333333333,0.0],\"xaxis\":\"x\",\"y\":[867.9580958,2214.801273,2206.899517,2008.695336,2198.116329,2027.296743,1888.2678,2261.983096,2438.603836,2224.768637,2060.60471,2453.603491,2564.456341,2595.647254,2206.077549,2268.803256,2253.31001,2107.174391,2213.547705,2265.376765,2312.148876,2502.990556,2382.208399,2305.308117,2159.303584,2248.517334,2204.098364,2095.07309,2276.423276,2197.427118,2467.123991,2078.982549,1937.999314,2234.355367,2639.329941,2143.298248,2077.473666,2299.92509,1981.543921,2176.654596,1966.114419,2007.603461,2185.389732,2483.02397,2030.408226,1974.524221,1930.633956,2046.123561,2038.393507,2024.504167,2236.21507,2085.720536,1932.316121,1978.546552,2058.398162,2067.423189,1898.085045,2106.849327,2008.770068,2058.21059,2064.316495,2305.48834,2064.00549,2038.419954,2069.597403,2230.090756,2011.744899,2100.364229,2111.560611,1914.672058,1983.31788,1992.775023,2031.469336,2089.637506,2037.279471,2056.181137,1910.048658,1985.799936,2266.642733,2290.515802,1899.604705,1826.99997,1910.326962,1845.614981,1950.81168,1926.361693,1874.082867,1873.91621,1834.119314,1829.318682,2047.816938,1848.86917,2041.481303,1840.121082,1925.59511,1904.281566,1866.135731,1859.008673,1897.13519,1770.16367],\"yaxis\":\"y\",\"type\":\"scatter\"}],                        {\"template\":{\"data\":{\"histogram2dcontour\":[{\"type\":\"histogram2dcontour\",\"colorbar\":{\"outlinewidth\":0,\"ticks\":\"\"},\"colorscale\":[[0.0,\"#0d0887\"],[0.1111111111111111,\"#46039f\"],[0.2222222222222222,\"#7201a8\"],[0.3333333333333333,\"#9c179e\"],[0.4444444444444444,\"#bd3786\"],[0.5555555555555556,\"#d8576b\"],[0.6666666666666666,\"#ed7953\"],[0.7777777777777778,\"#fb9f3a\"],[0.8888888888888888,\"#fdca26\"],[1.0,\"#f0f921\"]]}],\"choropleth\":[{\"type\":\"choropleth\",\"colorbar\":{\"outlinewidth\":0,\"ticks\":\"\"}}],\"histogram2d\":[{\"type\":\"histogram2d\",\"colorbar\":{\"outlinewidth\":0,\"ticks\":\"\"},\"colorscale\":[[0.0,\"#0d0887\"],[0.1111111111111111,\"#46039f\"],[0.2222222222222222,\"#7201a8\"],[0.3333333333333333,\"#9c179e\"],[0.4444444444444444,\"#bd3786\"],[0.5555555555555556,\"#d8576b\"],[0.6666666666666666,\"#ed7953\"],[0.7777777777777778,\"#fb9f3a\"],[0.8888888888888888,\"#fdca26\"],[1.0,\"#f0f921\"]]}],\"heatmap\":[{\"type\":\"heatmap\",\"colorbar\":{\"outlinewidth\":0,\"ticks\":\"\"},\"colorscale\":[[0.0,\"#0d0887\"],[0.1111111111111111,\"#46039f\"],[0.2222222222222222,\"#7201a8\"],[0.3333333333333333,\"#9c179e\"],[0.4444444444444444,\"#bd3786\"],[0.5555555555555556,\"#d8576b\"],[0.6666666666666666,\"#ed7953\"],[0.7777777777777778,\"#fb9f3a\"],[0.8888888888888888,\"#fdca26\"],[1.0,\"#f0f921\"]]}],\"heatmapgl\":[{\"type\":\"heatmapgl\",\"colorbar\":{\"outlinewidth\":0,\"ticks\":\"\"},\"colorscale\":[[0.0,\"#0d0887\"],[0.1111111111111111,\"#46039f\"],[0.2222222222222222,\"#7201a8\"],[0.3333333333333333,\"#9c179e\"],[0.4444444444444444,\"#bd3786\"],[0.5555555555555556,\"#d8576b\"],[0.6666666666666666,\"#ed7953\"],[0.7777777777777778,\"#fb9f3a\"],[0.8888888888888888,\"#fdca26\"],[1.0,\"#f0f921\"]]}],\"contourcarpet\":[{\"type\":\"contourcarpet\",\"colorbar\":{\"outlinewidth\":0,\"ticks\":\"\"}}],\"contour\":[{\"type\":\"contour\",\"colorbar\":{\"outlinewidth\":0,\"ticks\":\"\"},\"colorscale\":[[0.0,\"#0d0887\"],[0.1111111111111111,\"#46039f\"],[0.2222222222222222,\"#7201a8\"],[0.3333333333333333,\"#9c179e\"],[0.4444444444444444,\"#bd3786\"],[0.5555555555555556,\"#d8576b\"],[0.6666666666666666,\"#ed7953\"],[0.7777777777777778,\"#fb9f3a\"],[0.8888888888888888,\"#fdca26\"],[1.0,\"#f0f921\"]]}],\"surface\":[{\"type\":\"surface\",\"colorbar\":{\"outlinewidth\":0,\"ticks\":\"\"},\"colorscale\":[[0.0,\"#0d0887\"],[0.1111111111111111,\"#46039f\"],[0.2222222222222222,\"#7201a8\"],[0.3333333333333333,\"#9c179e\"],[0.4444444444444444,\"#bd3786\"],[0.5555555555555556,\"#d8576b\"],[0.6666666666666666,\"#ed7953\"],[0.7777777777777778,\"#fb9f3a\"],[0.8888888888888888,\"#fdca26\"],[1.0,\"#f0f921\"]]}],\"mesh3d\":[{\"type\":\"mesh3d\",\"colorbar\":{\"outlinewidth\":0,\"ticks\":\"\"}}],\"scatter\":[{\"fillpattern\":{\"fillmode\":\"overlay\",\"size\":10,\"solidity\":0.2},\"type\":\"scatter\"}],\"parcoords\":[{\"type\":\"parcoords\",\"line\":{\"colorbar\":{\"outlinewidth\":0,\"ticks\":\"\"}}}],\"scatterpolargl\":[{\"type\":\"scatterpolargl\",\"marker\":{\"colorbar\":{\"outlinewidth\":0,\"ticks\":\"\"}}}],\"bar\":[{\"error_x\":{\"color\":\"#2a3f5f\"},\"error_y\":{\"color\":\"#2a3f5f\"},\"marker\":{\"line\":{\"color\":\"#E5ECF6\",\"width\":0.5},\"pattern\":{\"fillmode\":\"overlay\",\"size\":10,\"solidity\":0.2}},\"type\":\"bar\"}],\"scattergeo\":[{\"type\":\"scattergeo\",\"marker\":{\"colorbar\":{\"outlinewidth\":0,\"ticks\":\"\"}}}],\"scatterpolar\":[{\"type\":\"scatterpolar\",\"marker\":{\"colorbar\":{\"outlinewidth\":0,\"ticks\":\"\"}}}],\"histogram\":[{\"marker\":{\"pattern\":{\"fillmode\":\"overlay\",\"size\":10,\"solidity\":0.2}},\"type\":\"histogram\"}],\"scattergl\":[{\"type\":\"scattergl\",\"marker\":{\"colorbar\":{\"outlinewidth\":0,\"ticks\":\"\"}}}],\"scatter3d\":[{\"type\":\"scatter3d\",\"line\":{\"colorbar\":{\"outlinewidth\":0,\"ticks\":\"\"}},\"marker\":{\"colorbar\":{\"outlinewidth\":0,\"ticks\":\"\"}}}],\"scattermapbox\":[{\"type\":\"scattermapbox\",\"marker\":{\"colorbar\":{\"outlinewidth\":0,\"ticks\":\"\"}}}],\"scatterternary\":[{\"type\":\"scatterternary\",\"marker\":{\"colorbar\":{\"outlinewidth\":0,\"ticks\":\"\"}}}],\"scattercarpet\":[{\"type\":\"scattercarpet\",\"marker\":{\"colorbar\":{\"outlinewidth\":0,\"ticks\":\"\"}}}],\"carpet\":[{\"aaxis\":{\"endlinecolor\":\"#2a3f5f\",\"gridcolor\":\"white\",\"linecolor\":\"white\",\"minorgridcolor\":\"white\",\"startlinecolor\":\"#2a3f5f\"},\"baxis\":{\"endlinecolor\":\"#2a3f5f\",\"gridcolor\":\"white\",\"linecolor\":\"white\",\"minorgridcolor\":\"white\",\"startlinecolor\":\"#2a3f5f\"},\"type\":\"carpet\"}],\"table\":[{\"cells\":{\"fill\":{\"color\":\"#EBF0F8\"},\"line\":{\"color\":\"white\"}},\"header\":{\"fill\":{\"color\":\"#C8D4E3\"},\"line\":{\"color\":\"white\"}},\"type\":\"table\"}],\"barpolar\":[{\"marker\":{\"line\":{\"color\":\"#E5ECF6\",\"width\":0.5},\"pattern\":{\"fillmode\":\"overlay\",\"size\":10,\"solidity\":0.2}},\"type\":\"barpolar\"}],\"pie\":[{\"automargin\":true,\"type\":\"pie\"}]},\"layout\":{\"autotypenumbers\":\"strict\",\"colorway\":[\"#636efa\",\"#EF553B\",\"#00cc96\",\"#ab63fa\",\"#FFA15A\",\"#19d3f3\",\"#FF6692\",\"#B6E880\",\"#FF97FF\",\"#FECB52\"],\"font\":{\"color\":\"#2a3f5f\"},\"hovermode\":\"closest\",\"hoverlabel\":{\"align\":\"left\"},\"paper_bgcolor\":\"white\",\"plot_bgcolor\":\"#E5ECF6\",\"polar\":{\"bgcolor\":\"#E5ECF6\",\"angularaxis\":{\"gridcolor\":\"white\",\"linecolor\":\"white\",\"ticks\":\"\"},\"radialaxis\":{\"gridcolor\":\"white\",\"linecolor\":\"white\",\"ticks\":\"\"}},\"ternary\":{\"bgcolor\":\"#E5ECF6\",\"aaxis\":{\"gridcolor\":\"white\",\"linecolor\":\"white\",\"ticks\":\"\"},\"baxis\":{\"gridcolor\":\"white\",\"linecolor\":\"white\",\"ticks\":\"\"},\"caxis\":{\"gridcolor\":\"white\",\"linecolor\":\"white\",\"ticks\":\"\"}},\"coloraxis\":{\"colorbar\":{\"outlinewidth\":0,\"ticks\":\"\"}},\"colorscale\":{\"sequential\":[[0.0,\"#0d0887\"],[0.1111111111111111,\"#46039f\"],[0.2222222222222222,\"#7201a8\"],[0.3333333333333333,\"#9c179e\"],[0.4444444444444444,\"#bd3786\"],[0.5555555555555556,\"#d8576b\"],[0.6666666666666666,\"#ed7953\"],[0.7777777777777778,\"#fb9f3a\"],[0.8888888888888888,\"#fdca26\"],[1.0,\"#f0f921\"]],\"sequentialminus\":[[0.0,\"#0d0887\"],[0.1111111111111111,\"#46039f\"],[0.2222222222222222,\"#7201a8\"],[0.3333333333333333,\"#9c179e\"],[0.4444444444444444,\"#bd3786\"],[0.5555555555555556,\"#d8576b\"],[0.6666666666666666,\"#ed7953\"],[0.7777777777777778,\"#fb9f3a\"],[0.8888888888888888,\"#fdca26\"],[1.0,\"#f0f921\"]],\"diverging\":[[0,\"#8e0152\"],[0.1,\"#c51b7d\"],[0.2,\"#de77ae\"],[0.3,\"#f1b6da\"],[0.4,\"#fde0ef\"],[0.5,\"#f7f7f7\"],[0.6,\"#e6f5d0\"],[0.7,\"#b8e186\"],[0.8,\"#7fbc41\"],[0.9,\"#4d9221\"],[1,\"#276419\"]]},\"xaxis\":{\"gridcolor\":\"white\",\"linecolor\":\"white\",\"ticks\":\"\",\"title\":{\"standoff\":15},\"zerolinecolor\":\"white\",\"automargin\":true,\"zerolinewidth\":2},\"yaxis\":{\"gridcolor\":\"white\",\"linecolor\":\"white\",\"ticks\":\"\",\"title\":{\"standoff\":15},\"zerolinecolor\":\"white\",\"automargin\":true,\"zerolinewidth\":2},\"scene\":{\"xaxis\":{\"backgroundcolor\":\"#E5ECF6\",\"gridcolor\":\"white\",\"linecolor\":\"white\",\"showbackground\":true,\"ticks\":\"\",\"zerolinecolor\":\"white\",\"gridwidth\":2},\"yaxis\":{\"backgroundcolor\":\"#E5ECF6\",\"gridcolor\":\"white\",\"linecolor\":\"white\",\"showbackground\":true,\"ticks\":\"\",\"zerolinecolor\":\"white\",\"gridwidth\":2},\"zaxis\":{\"backgroundcolor\":\"#E5ECF6\",\"gridcolor\":\"white\",\"linecolor\":\"white\",\"showbackground\":true,\"ticks\":\"\",\"zerolinecolor\":\"white\",\"gridwidth\":2}},\"shapedefaults\":{\"line\":{\"color\":\"#2a3f5f\"}},\"annotationdefaults\":{\"arrowcolor\":\"#2a3f5f\",\"arrowhead\":0,\"arrowwidth\":1},\"geo\":{\"bgcolor\":\"white\",\"landcolor\":\"#E5ECF6\",\"subunitcolor\":\"white\",\"showland\":true,\"showlakes\":true,\"lakecolor\":\"white\"},\"title\":{\"x\":0.05},\"mapbox\":{\"style\":\"light\"}}},\"xaxis\":{\"anchor\":\"y\",\"domain\":[0.0,1.0],\"title\":{\"text\":\"Walking duration (min)\"}},\"yaxis\":{\"anchor\":\"x\",\"domain\":[0.0,1.0],\"title\":{\"text\":\"Calories (kcal)\"}},\"legend\":{\"tracegroupgap\":0},\"title\":{\"text\":\"Zoomable Graph\"},\"autosize\":true},                        {\"responsive\": true}                    ).then(function(){\n",
       "                            \n",
       "var gd = document.getElementById('af642fd3-4bbf-4963-83df-690a526761da');\n",
       "var x = new MutationObserver(function (mutations, observer) {{\n",
       "        var display = window.getComputedStyle(gd).display;\n",
       "        if (!display || display === 'none') {{\n",
       "            console.log([gd, 'removed!']);\n",
       "            Plotly.purge(gd);\n",
       "            observer.disconnect();\n",
       "        }}\n",
       "}});\n",
       "\n",
       "// Listen for the removal of the full notebook cells\n",
       "var notebookContainer = gd.closest('#notebook-container');\n",
       "if (notebookContainer) {{\n",
       "    x.observe(notebookContainer, {childList: true});\n",
       "}}\n",
       "\n",
       "// Listen for the clearing of the current output cell\n",
       "var outputEl = gd.closest('.output');\n",
       "if (outputEl) {{\n",
       "    x.observe(outputEl, {childList: true});\n",
       "}}\n",
       "\n",
       "                        })                };                });            </script>        </div>"
      ]
     },
     "metadata": {},
     "output_type": "display_data"
    }
   ],
   "source": [
    "import plotly.express as px\n",
    "\n",
    "# Example dataset\n",
    "fig = px.scatter(data, x='Walking duration (min)', y='Calories (kcal)', title='Zoomable Graph')\n",
    "fig.update_traces(marker=dict(size=3))  # Adjust point size\n",
    "fig.update_layout(autosize=True)  # Auto layout\n",
    "fig.show()\n"
   ]
  },
  {
   "cell_type": "markdown",
   "id": "f3aac034-b3a9-4eb6-b616-9f070f272adb",
   "metadata": {},
   "source": [
    "### adding regression line"
   ]
  },
  {
   "cell_type": "code",
   "execution_count": 40,
   "id": "cbf61d03-27db-4e97-b5fa-80f2cdfe10d1",
   "metadata": {},
   "outputs": [
    {
     "data": {
      "application/vnd.plotly.v1+json": {
       "config": {
        "plotlyServerURL": "https://plot.ly"
       },
       "data": [
        {
         "hovertemplate": "Walking duration (min)=%{x}<br>Calories (kcal)=%{y}<extra></extra>",
         "legendgroup": "",
         "marker": {
          "color": "#636efa",
          "size": 8,
          "symbol": "circle"
         },
         "mode": "markers",
         "name": "",
         "orientation": "v",
         "showlegend": false,
         "type": "scatter",
         "x": [
          59.9611,
          73.4016,
          71.86818333333333,
          30.686933333333332,
          62.8629,
          34.5211,
          5.665483333333333,
          83.2539,
          120.00978333333333,
          75.58086666666667,
          31.2227,
          123.0764,
          146.15841666666665,
          152.63905,
          49.46993333333333,
          81.532,
          81.511,
          51.14811666666667,
          73.24951666666666,
          84.01811666666667,
          94.94858333333333,
          135.58731666666668,
          109.04375,
          93.85475,
          65.36191666666667,
          70.66585,
          75.18405,
          51.856116666666665,
          90.37878333333333,
          48.146433333333334,
          120.0659,
          25.279933333333332,
          20.163416666666667,
          83.0644,
          163.31215,
          66.95376666666667,
          52.59276666666667,
          97.3771,
          33.695283333333336,
          75.6375,
          28.0978,
          36.9889,
          75.08843333333333,
          139.08655,
          43.944716666666665,
          29.665916666666668,
          22.394083333333334,
          39.882583333333336,
          45.74143333333333,
          42.66948333333333,
          67.95551666666667,
          55.985033333333334,
          22.77855,
          32.69311666666667,
          50.07265,
          52.02555,
          15.382216666666666,
          60.55708333333333,
          39.33351666666667,
          50.03208333333333,
          51.35328333333333,
          94.32863333333333,
          51.286033333333336,
          45.749583333333334,
          43.02243333333333,
          87.2185,
          39.97586666666667,
          55.824783333333336,
          61.57655,
          18.97148333333333,
          33.8259,
          35.869033333333334,
          44.234316666666665,
          56.784016666666666,
          31.276233333333334,
          49.25111666666667,
          17.97105,
          34.362966666666665,
          94.9345,
          100.301,
          15.7111,
          0,
          18.031266666666667,
          4.028133333333333,
          14.985116666666666,
          21.501033333333332,
          10.188366666666667,
          10.152283333333333,
          1.5405666666666666,
          0.50175,
          47.78295,
          4.7323,
          46.411966666666665,
          2.8373333333333335,
          21.335166666666666,
          16.7231,
          8.46865,
          6.926416666666666,
          15.176683333333333,
          0
         ],
         "xaxis": "x",
         "y": [
          867.9580958,
          2214.801273,
          2206.899517,
          2008.695336,
          2198.116329,
          2027.296743,
          1888.2678,
          2261.983096,
          2438.603836,
          2224.768637,
          2060.60471,
          2453.603491,
          2564.456341,
          2595.647254,
          2206.077549,
          2268.803256,
          2253.31001,
          2107.174391,
          2213.547705,
          2265.376765,
          2312.148876,
          2502.990556,
          2382.208399,
          2305.308117,
          2159.303584,
          2248.517334,
          2204.098364,
          2095.07309,
          2276.423276,
          2197.427118,
          2467.123991,
          2078.982549,
          1937.999314,
          2234.355367,
          2639.329941,
          2143.298248,
          2077.473666,
          2299.92509,
          1981.543921,
          2176.654596,
          1966.114419,
          2007.603461,
          2185.389732,
          2483.02397,
          2030.408226,
          1974.524221,
          1930.633956,
          2046.123561,
          2038.393507,
          2024.504167,
          2236.21507,
          2085.720536,
          1932.316121,
          1978.546552,
          2058.398162,
          2067.423189,
          1898.085045,
          2106.849327,
          2008.770068,
          2058.21059,
          2064.316495,
          2305.48834,
          2064.00549,
          2038.419954,
          2069.597403,
          2230.090756,
          2011.744899,
          2100.364229,
          2111.560611,
          1914.672058,
          1983.31788,
          1992.775023,
          2031.469336,
          2089.637506,
          2037.279471,
          2056.181137,
          1910.048658,
          1985.799936,
          2266.642733,
          2290.515802,
          1899.604705,
          1826.99997,
          1910.326962,
          1845.614981,
          1950.81168,
          1926.361693,
          1874.082867,
          1873.91621,
          1834.119314,
          1829.318682,
          2047.816938,
          1848.86917,
          2041.481303,
          1840.121082,
          1925.59511,
          1904.281566,
          1866.135731,
          1859.008673,
          1897.13519,
          1770.16367
         ],
         "yaxis": "y"
        },
        {
         "hovertemplate": "<b>OLS trendline</b><br>Calories (kcal) = 4.93414 * Walking duration (min) + 1821.88<br>R<sup>2</sup>=0.662122<br><br>Walking duration (min)=%{x}<br>Calories (kcal)=%{y} <b>(trend)</b><extra></extra>",
         "legendgroup": "",
         "line": {
          "color": "red"
         },
         "marker": {
          "color": "#636efa",
          "size": 8,
          "symbol": "circle"
         },
         "mode": "lines",
         "name": "",
         "showlegend": false,
         "type": "scatter",
         "x": [
          0,
          0,
          0.50175,
          1.5405666666666666,
          2.8373333333333335,
          4.028133333333333,
          4.7323,
          5.665483333333333,
          6.926416666666666,
          8.46865,
          10.152283333333333,
          10.188366666666667,
          14.985116666666666,
          15.176683333333333,
          15.382216666666666,
          15.7111,
          16.7231,
          17.97105,
          18.031266666666667,
          18.97148333333333,
          20.163416666666667,
          21.335166666666666,
          21.501033333333332,
          22.394083333333334,
          22.77855,
          25.279933333333332,
          28.0978,
          29.665916666666668,
          30.686933333333332,
          31.2227,
          31.276233333333334,
          32.69311666666667,
          33.695283333333336,
          33.8259,
          34.362966666666665,
          34.5211,
          35.869033333333334,
          36.9889,
          39.33351666666667,
          39.882583333333336,
          39.97586666666667,
          42.66948333333333,
          43.02243333333333,
          43.944716666666665,
          44.234316666666665,
          45.74143333333333,
          45.749583333333334,
          46.411966666666665,
          47.78295,
          48.146433333333334,
          49.25111666666667,
          49.46993333333333,
          50.03208333333333,
          50.07265,
          51.14811666666667,
          51.286033333333336,
          51.35328333333333,
          51.856116666666665,
          52.02555,
          52.59276666666667,
          55.824783333333336,
          55.985033333333334,
          56.784016666666666,
          59.9611,
          60.55708333333333,
          61.57655,
          62.8629,
          65.36191666666667,
          66.95376666666667,
          67.95551666666667,
          70.66585,
          71.86818333333333,
          73.24951666666666,
          73.4016,
          75.08843333333333,
          75.18405,
          75.58086666666667,
          75.6375,
          81.511,
          81.532,
          83.0644,
          83.2539,
          84.01811666666667,
          87.2185,
          90.37878333333333,
          93.85475,
          94.32863333333333,
          94.9345,
          94.94858333333333,
          97.3771,
          100.301,
          109.04375,
          120.00978333333333,
          120.0659,
          123.0764,
          135.58731666666668,
          139.08655,
          146.15841666666665,
          152.63905,
          163.31215
         ],
         "xaxis": "x",
         "y": [
          1821.8753415380029,
          1821.8753415380029,
          1824.3510454981301,
          1829.4767107408063,
          1835.875136992979,
          1841.7507090422455,
          1845.225164857405,
          1849.829620609987,
          1856.0512402348793,
          1863.6608330017423,
          1871.9681129434173,
          1872.1461531053067,
          1895.8139816468913,
          1896.759198099896,
          1897.7733280197194,
          1899.3960839155902,
          1904.3894320125482,
          1910.5469900734167,
          1910.8441074428883,
          1915.4832666358016,
          1921.3644307086286,
          1927.1460074206946,
          1927.9644165159007,
          1932.3708488459288,
          1934.2678606031857,
          1946.6100322506784,
          1960.513776477439,
          1968.2510811941468,
          1973.2889187726669,
          1975.9324656752497,
          1976.1966065528422,
          1983.1877050667867,
          1988.1325341357933,
          1988.7770148511402,
          1991.4269761336893,
          1992.2072278916592,
          1998.85811756046,
          2004.3836947233522,
          2015.9523579354038,
          2018.6615288791816,
          2019.1218017595945,
          2032.4124792857156,
          2034.1539834466064,
          2038.704657090239,
          2040.133583581226,
          2047.5699058533544,
          2047.6101190816057,
          2050.8784101457923,
          2057.6430317055365,
          2059.4365087912834,
          2064.8871692855932,
          2065.966841010971,
          2068.7405669326167,
          2068.940728481826,
          2074.2472298981716,
          2074.9277298240995,
          2075.259550633902,
          2077.740599910668,
          2078.5766074329617,
          2081.375332989348,
          2097.322550649266,
          2098.1132463335916,
          2102.0555407080988,
          2117.731709696614,
          2120.672373968668,
          2125.702563632613,
          2132.049592609413,
          2144.3800867959417,
          2152.234495064857,
          2157.177268242849,
          2170.5504281164876,
          2176.4829072290463,
          2183.2985971216003,
          2184.048997342034,
          2192.3720665267037,
          2192.8438523968,
          2194.801800763738,
          2195.0812374704815,
          2224.0618995727377,
          2224.165516479888,
          2231.7265902187996,
          2232.6616094523706,
          2236.4323602805953,
          2252.223494694663,
          2267.816770157458,
          2284.967670888772,
          2287.3058768578235,
          2290.2953068647507,
          2290.3647959810537,
          2302.3474334078633,
          2316.774360780092,
          2359.912299589065,
          2414.0202261465543,
          2414.297113548439,
          2429.1513373092025,
          2490.8819321004094,
          2508.1476337859945,
          2543.0412029183476,
          2575.0175449362164,
          2627.6800978745996
         ],
         "yaxis": "y"
        }
       ],
       "layout": {
        "autosize": true,
        "legend": {
         "tracegroupgap": 0
        },
        "template": {
         "data": {
          "bar": [
           {
            "error_x": {
             "color": "#2a3f5f"
            },
            "error_y": {
             "color": "#2a3f5f"
            },
            "marker": {
             "line": {
              "color": "#E5ECF6",
              "width": 0.5
             },
             "pattern": {
              "fillmode": "overlay",
              "size": 10,
              "solidity": 0.2
             }
            },
            "type": "bar"
           }
          ],
          "barpolar": [
           {
            "marker": {
             "line": {
              "color": "#E5ECF6",
              "width": 0.5
             },
             "pattern": {
              "fillmode": "overlay",
              "size": 10,
              "solidity": 0.2
             }
            },
            "type": "barpolar"
           }
          ],
          "carpet": [
           {
            "aaxis": {
             "endlinecolor": "#2a3f5f",
             "gridcolor": "white",
             "linecolor": "white",
             "minorgridcolor": "white",
             "startlinecolor": "#2a3f5f"
            },
            "baxis": {
             "endlinecolor": "#2a3f5f",
             "gridcolor": "white",
             "linecolor": "white",
             "minorgridcolor": "white",
             "startlinecolor": "#2a3f5f"
            },
            "type": "carpet"
           }
          ],
          "choropleth": [
           {
            "colorbar": {
             "outlinewidth": 0,
             "ticks": ""
            },
            "type": "choropleth"
           }
          ],
          "contour": [
           {
            "colorbar": {
             "outlinewidth": 0,
             "ticks": ""
            },
            "colorscale": [
             [
              0,
              "#0d0887"
             ],
             [
              0.1111111111111111,
              "#46039f"
             ],
             [
              0.2222222222222222,
              "#7201a8"
             ],
             [
              0.3333333333333333,
              "#9c179e"
             ],
             [
              0.4444444444444444,
              "#bd3786"
             ],
             [
              0.5555555555555556,
              "#d8576b"
             ],
             [
              0.6666666666666666,
              "#ed7953"
             ],
             [
              0.7777777777777778,
              "#fb9f3a"
             ],
             [
              0.8888888888888888,
              "#fdca26"
             ],
             [
              1,
              "#f0f921"
             ]
            ],
            "type": "contour"
           }
          ],
          "contourcarpet": [
           {
            "colorbar": {
             "outlinewidth": 0,
             "ticks": ""
            },
            "type": "contourcarpet"
           }
          ],
          "heatmap": [
           {
            "colorbar": {
             "outlinewidth": 0,
             "ticks": ""
            },
            "colorscale": [
             [
              0,
              "#0d0887"
             ],
             [
              0.1111111111111111,
              "#46039f"
             ],
             [
              0.2222222222222222,
              "#7201a8"
             ],
             [
              0.3333333333333333,
              "#9c179e"
             ],
             [
              0.4444444444444444,
              "#bd3786"
             ],
             [
              0.5555555555555556,
              "#d8576b"
             ],
             [
              0.6666666666666666,
              "#ed7953"
             ],
             [
              0.7777777777777778,
              "#fb9f3a"
             ],
             [
              0.8888888888888888,
              "#fdca26"
             ],
             [
              1,
              "#f0f921"
             ]
            ],
            "type": "heatmap"
           }
          ],
          "heatmapgl": [
           {
            "colorbar": {
             "outlinewidth": 0,
             "ticks": ""
            },
            "colorscale": [
             [
              0,
              "#0d0887"
             ],
             [
              0.1111111111111111,
              "#46039f"
             ],
             [
              0.2222222222222222,
              "#7201a8"
             ],
             [
              0.3333333333333333,
              "#9c179e"
             ],
             [
              0.4444444444444444,
              "#bd3786"
             ],
             [
              0.5555555555555556,
              "#d8576b"
             ],
             [
              0.6666666666666666,
              "#ed7953"
             ],
             [
              0.7777777777777778,
              "#fb9f3a"
             ],
             [
              0.8888888888888888,
              "#fdca26"
             ],
             [
              1,
              "#f0f921"
             ]
            ],
            "type": "heatmapgl"
           }
          ],
          "histogram": [
           {
            "marker": {
             "pattern": {
              "fillmode": "overlay",
              "size": 10,
              "solidity": 0.2
             }
            },
            "type": "histogram"
           }
          ],
          "histogram2d": [
           {
            "colorbar": {
             "outlinewidth": 0,
             "ticks": ""
            },
            "colorscale": [
             [
              0,
              "#0d0887"
             ],
             [
              0.1111111111111111,
              "#46039f"
             ],
             [
              0.2222222222222222,
              "#7201a8"
             ],
             [
              0.3333333333333333,
              "#9c179e"
             ],
             [
              0.4444444444444444,
              "#bd3786"
             ],
             [
              0.5555555555555556,
              "#d8576b"
             ],
             [
              0.6666666666666666,
              "#ed7953"
             ],
             [
              0.7777777777777778,
              "#fb9f3a"
             ],
             [
              0.8888888888888888,
              "#fdca26"
             ],
             [
              1,
              "#f0f921"
             ]
            ],
            "type": "histogram2d"
           }
          ],
          "histogram2dcontour": [
           {
            "colorbar": {
             "outlinewidth": 0,
             "ticks": ""
            },
            "colorscale": [
             [
              0,
              "#0d0887"
             ],
             [
              0.1111111111111111,
              "#46039f"
             ],
             [
              0.2222222222222222,
              "#7201a8"
             ],
             [
              0.3333333333333333,
              "#9c179e"
             ],
             [
              0.4444444444444444,
              "#bd3786"
             ],
             [
              0.5555555555555556,
              "#d8576b"
             ],
             [
              0.6666666666666666,
              "#ed7953"
             ],
             [
              0.7777777777777778,
              "#fb9f3a"
             ],
             [
              0.8888888888888888,
              "#fdca26"
             ],
             [
              1,
              "#f0f921"
             ]
            ],
            "type": "histogram2dcontour"
           }
          ],
          "mesh3d": [
           {
            "colorbar": {
             "outlinewidth": 0,
             "ticks": ""
            },
            "type": "mesh3d"
           }
          ],
          "parcoords": [
           {
            "line": {
             "colorbar": {
              "outlinewidth": 0,
              "ticks": ""
             }
            },
            "type": "parcoords"
           }
          ],
          "pie": [
           {
            "automargin": true,
            "type": "pie"
           }
          ],
          "scatter": [
           {
            "fillpattern": {
             "fillmode": "overlay",
             "size": 10,
             "solidity": 0.2
            },
            "type": "scatter"
           }
          ],
          "scatter3d": [
           {
            "line": {
             "colorbar": {
              "outlinewidth": 0,
              "ticks": ""
             }
            },
            "marker": {
             "colorbar": {
              "outlinewidth": 0,
              "ticks": ""
             }
            },
            "type": "scatter3d"
           }
          ],
          "scattercarpet": [
           {
            "marker": {
             "colorbar": {
              "outlinewidth": 0,
              "ticks": ""
             }
            },
            "type": "scattercarpet"
           }
          ],
          "scattergeo": [
           {
            "marker": {
             "colorbar": {
              "outlinewidth": 0,
              "ticks": ""
             }
            },
            "type": "scattergeo"
           }
          ],
          "scattergl": [
           {
            "marker": {
             "colorbar": {
              "outlinewidth": 0,
              "ticks": ""
             }
            },
            "type": "scattergl"
           }
          ],
          "scattermapbox": [
           {
            "marker": {
             "colorbar": {
              "outlinewidth": 0,
              "ticks": ""
             }
            },
            "type": "scattermapbox"
           }
          ],
          "scatterpolar": [
           {
            "marker": {
             "colorbar": {
              "outlinewidth": 0,
              "ticks": ""
             }
            },
            "type": "scatterpolar"
           }
          ],
          "scatterpolargl": [
           {
            "marker": {
             "colorbar": {
              "outlinewidth": 0,
              "ticks": ""
             }
            },
            "type": "scatterpolargl"
           }
          ],
          "scatterternary": [
           {
            "marker": {
             "colorbar": {
              "outlinewidth": 0,
              "ticks": ""
             }
            },
            "type": "scatterternary"
           }
          ],
          "surface": [
           {
            "colorbar": {
             "outlinewidth": 0,
             "ticks": ""
            },
            "colorscale": [
             [
              0,
              "#0d0887"
             ],
             [
              0.1111111111111111,
              "#46039f"
             ],
             [
              0.2222222222222222,
              "#7201a8"
             ],
             [
              0.3333333333333333,
              "#9c179e"
             ],
             [
              0.4444444444444444,
              "#bd3786"
             ],
             [
              0.5555555555555556,
              "#d8576b"
             ],
             [
              0.6666666666666666,
              "#ed7953"
             ],
             [
              0.7777777777777778,
              "#fb9f3a"
             ],
             [
              0.8888888888888888,
              "#fdca26"
             ],
             [
              1,
              "#f0f921"
             ]
            ],
            "type": "surface"
           }
          ],
          "table": [
           {
            "cells": {
             "fill": {
              "color": "#EBF0F8"
             },
             "line": {
              "color": "white"
             }
            },
            "header": {
             "fill": {
              "color": "#C8D4E3"
             },
             "line": {
              "color": "white"
             }
            },
            "type": "table"
           }
          ]
         },
         "layout": {
          "annotationdefaults": {
           "arrowcolor": "#2a3f5f",
           "arrowhead": 0,
           "arrowwidth": 1
          },
          "autotypenumbers": "strict",
          "coloraxis": {
           "colorbar": {
            "outlinewidth": 0,
            "ticks": ""
           }
          },
          "colorscale": {
           "diverging": [
            [
             0,
             "#8e0152"
            ],
            [
             0.1,
             "#c51b7d"
            ],
            [
             0.2,
             "#de77ae"
            ],
            [
             0.3,
             "#f1b6da"
            ],
            [
             0.4,
             "#fde0ef"
            ],
            [
             0.5,
             "#f7f7f7"
            ],
            [
             0.6,
             "#e6f5d0"
            ],
            [
             0.7,
             "#b8e186"
            ],
            [
             0.8,
             "#7fbc41"
            ],
            [
             0.9,
             "#4d9221"
            ],
            [
             1,
             "#276419"
            ]
           ],
           "sequential": [
            [
             0,
             "#0d0887"
            ],
            [
             0.1111111111111111,
             "#46039f"
            ],
            [
             0.2222222222222222,
             "#7201a8"
            ],
            [
             0.3333333333333333,
             "#9c179e"
            ],
            [
             0.4444444444444444,
             "#bd3786"
            ],
            [
             0.5555555555555556,
             "#d8576b"
            ],
            [
             0.6666666666666666,
             "#ed7953"
            ],
            [
             0.7777777777777778,
             "#fb9f3a"
            ],
            [
             0.8888888888888888,
             "#fdca26"
            ],
            [
             1,
             "#f0f921"
            ]
           ],
           "sequentialminus": [
            [
             0,
             "#0d0887"
            ],
            [
             0.1111111111111111,
             "#46039f"
            ],
            [
             0.2222222222222222,
             "#7201a8"
            ],
            [
             0.3333333333333333,
             "#9c179e"
            ],
            [
             0.4444444444444444,
             "#bd3786"
            ],
            [
             0.5555555555555556,
             "#d8576b"
            ],
            [
             0.6666666666666666,
             "#ed7953"
            ],
            [
             0.7777777777777778,
             "#fb9f3a"
            ],
            [
             0.8888888888888888,
             "#fdca26"
            ],
            [
             1,
             "#f0f921"
            ]
           ]
          },
          "colorway": [
           "#636efa",
           "#EF553B",
           "#00cc96",
           "#ab63fa",
           "#FFA15A",
           "#19d3f3",
           "#FF6692",
           "#B6E880",
           "#FF97FF",
           "#FECB52"
          ],
          "font": {
           "color": "#2a3f5f"
          },
          "geo": {
           "bgcolor": "white",
           "lakecolor": "white",
           "landcolor": "#E5ECF6",
           "showlakes": true,
           "showland": true,
           "subunitcolor": "white"
          },
          "hoverlabel": {
           "align": "left"
          },
          "hovermode": "closest",
          "mapbox": {
           "style": "light"
          },
          "paper_bgcolor": "white",
          "plot_bgcolor": "#E5ECF6",
          "polar": {
           "angularaxis": {
            "gridcolor": "white",
            "linecolor": "white",
            "ticks": ""
           },
           "bgcolor": "#E5ECF6",
           "radialaxis": {
            "gridcolor": "white",
            "linecolor": "white",
            "ticks": ""
           }
          },
          "scene": {
           "xaxis": {
            "backgroundcolor": "#E5ECF6",
            "gridcolor": "white",
            "gridwidth": 2,
            "linecolor": "white",
            "showbackground": true,
            "ticks": "",
            "zerolinecolor": "white"
           },
           "yaxis": {
            "backgroundcolor": "#E5ECF6",
            "gridcolor": "white",
            "gridwidth": 2,
            "linecolor": "white",
            "showbackground": true,
            "ticks": "",
            "zerolinecolor": "white"
           },
           "zaxis": {
            "backgroundcolor": "#E5ECF6",
            "gridcolor": "white",
            "gridwidth": 2,
            "linecolor": "white",
            "showbackground": true,
            "ticks": "",
            "zerolinecolor": "white"
           }
          },
          "shapedefaults": {
           "line": {
            "color": "#2a3f5f"
           }
          },
          "ternary": {
           "aaxis": {
            "gridcolor": "white",
            "linecolor": "white",
            "ticks": ""
           },
           "baxis": {
            "gridcolor": "white",
            "linecolor": "white",
            "ticks": ""
           },
           "bgcolor": "#E5ECF6",
           "caxis": {
            "gridcolor": "white",
            "linecolor": "white",
            "ticks": ""
           }
          },
          "title": {
           "x": 0.05
          },
          "xaxis": {
           "automargin": true,
           "gridcolor": "white",
           "linecolor": "white",
           "ticks": "",
           "title": {
            "standoff": 15
           },
           "zerolinecolor": "white",
           "zerolinewidth": 2
          },
          "yaxis": {
           "automargin": true,
           "gridcolor": "white",
           "linecolor": "white",
           "ticks": "",
           "title": {
            "standoff": 15
           },
           "zerolinecolor": "white",
           "zerolinewidth": 2
          }
         }
        },
        "title": {
         "text": "Regression Line for Walking duration (min) vs Calories (kcal)"
        },
        "xaxis": {
         "anchor": "y",
         "autorange": true,
         "domain": [
          0,
          1
         ],
         "range": [
          -10.157004907993787,
          173.46915490799378
         ],
         "title": {
          "text": "Walking duration (min)"
         },
         "type": "linear"
        },
        "yaxis": {
         "anchor": "x",
         "autorange": true,
         "domain": [
          0,
          1
         ],
         "range": [
          704.8054258473685,
          2802.4826109526316
         ],
         "title": {
          "text": "Calories (kcal)"
         },
         "type": "linear"
        }
       }
      },
      "image/png": "[encoded data removed]",
      "text/html": [
       "<div>                            <div id=\"d2306e4f-cc8d-4d6c-8934-396afe7d514f\" class=\"plotly-graph-div\" style=\"height:525px; width:100%;\"></div>            <script type=\"text/javascript\">                require([\"plotly\"], function(Plotly) {                    window.PLOTLYENV=window.PLOTLYENV || {};                                    if (document.getElementById(\"d2306e4f-cc8d-4d6c-8934-396afe7d514f\")) {                    Plotly.newPlot(                        \"d2306e4f-cc8d-4d6c-8934-396afe7d514f\",                        [{\"hovertemplate\":\"Walking duration (min)=%{x}\\u003cbr\\u003eCalories (kcal)=%{y}\\u003cextra\\u003e\\u003c\\u002fextra\\u003e\",\"legendgroup\":\"\",\"marker\":{\"color\":\"#636efa\",\"symbol\":\"circle\",\"size\":8},\"mode\":\"markers\",\"name\":\"\",\"orientation\":\"v\",\"showlegend\":false,\"x\":[59.9611,73.4016,71.86818333333333,30.686933333333332,62.8629,34.5211,5.665483333333333,83.2539,120.00978333333333,75.58086666666667,31.2227,123.0764,146.15841666666665,152.63905,49.46993333333333,81.532,81.511,51.14811666666667,73.24951666666666,84.01811666666667,94.94858333333333,135.58731666666668,109.04375,93.85475,65.36191666666667,70.66585,75.18405,51.856116666666665,90.37878333333333,48.146433333333334,120.0659,25.279933333333332,20.163416666666667,83.0644,163.31215,66.95376666666667,52.59276666666667,97.3771,33.695283333333336,75.6375,28.0978,36.9889,75.08843333333333,139.08655,43.944716666666665,29.665916666666668,22.394083333333334,39.882583333333336,45.74143333333333,42.66948333333333,67.95551666666667,55.985033333333334,22.77855,32.69311666666667,50.07265,52.02555,15.382216666666666,60.55708333333333,39.33351666666667,50.03208333333333,51.35328333333333,94.32863333333333,51.286033333333336,45.749583333333334,43.02243333333333,87.2185,39.97586666666667,55.824783333333336,61.57655,18.97148333333333,33.8259,35.869033333333334,44.234316666666665,56.784016666666666,31.276233333333334,49.25111666666667,17.97105,34.362966666666665,94.9345,100.301,15.7111,0.0,18.031266666666667,4.028133333333333,14.985116666666666,21.501033333333332,10.188366666666667,10.152283333333333,1.5405666666666666,0.50175,47.78295,4.7323,46.411966666666665,2.8373333333333335,21.335166666666666,16.7231,8.46865,6.926416666666666,15.176683333333333,0.0],\"xaxis\":\"x\",\"y\":[867.9580958,2214.801273,2206.899517,2008.695336,2198.116329,2027.296743,1888.2678,2261.983096,2438.603836,2224.768637,2060.60471,2453.603491,2564.456341,2595.647254,2206.077549,2268.803256,2253.31001,2107.174391,2213.547705,2265.376765,2312.148876,2502.990556,2382.208399,2305.308117,2159.303584,2248.517334,2204.098364,2095.07309,2276.423276,2197.427118,2467.123991,2078.982549,1937.999314,2234.355367,2639.329941,2143.298248,2077.473666,2299.92509,1981.543921,2176.654596,1966.114419,2007.603461,2185.389732,2483.02397,2030.408226,1974.524221,1930.633956,2046.123561,2038.393507,2024.504167,2236.21507,2085.720536,1932.316121,1978.546552,2058.398162,2067.423189,1898.085045,2106.849327,2008.770068,2058.21059,2064.316495,2305.48834,2064.00549,2038.419954,2069.597403,2230.090756,2011.744899,2100.364229,2111.560611,1914.672058,1983.31788,1992.775023,2031.469336,2089.637506,2037.279471,2056.181137,1910.048658,1985.799936,2266.642733,2290.515802,1899.604705,1826.99997,1910.326962,1845.614981,1950.81168,1926.361693,1874.082867,1873.91621,1834.119314,1829.318682,2047.816938,1848.86917,2041.481303,1840.121082,1925.59511,1904.281566,1866.135731,1859.008673,1897.13519,1770.16367],\"yaxis\":\"y\",\"type\":\"scatter\"},{\"hovertemplate\":\"\\u003cb\\u003eOLS trendline\\u003c\\u002fb\\u003e\\u003cbr\\u003eCalories (kcal) = 4.93414 * Walking duration (min) + 1821.88\\u003cbr\\u003eR\\u003csup\\u003e2\\u003c\\u002fsup\\u003e=0.662122\\u003cbr\\u003e\\u003cbr\\u003eWalking duration (min)=%{x}\\u003cbr\\u003eCalories (kcal)=%{y} \\u003cb\\u003e(trend)\\u003c\\u002fb\\u003e\\u003cextra\\u003e\\u003c\\u002fextra\\u003e\",\"legendgroup\":\"\",\"line\":{\"color\":\"red\"},\"marker\":{\"color\":\"#636efa\",\"symbol\":\"circle\",\"size\":8},\"mode\":\"lines\",\"name\":\"\",\"showlegend\":false,\"x\":[0.0,0.0,0.50175,1.5405666666666666,2.8373333333333335,4.028133333333333,4.7323,5.665483333333333,6.926416666666666,8.46865,10.152283333333333,10.188366666666667,14.985116666666666,15.176683333333333,15.382216666666666,15.7111,16.7231,17.97105,18.031266666666667,18.97148333333333,20.163416666666667,21.335166666666666,21.501033333333332,22.394083333333334,22.77855,25.279933333333332,28.0978,29.665916666666668,30.686933333333332,31.2227,31.276233333333334,32.69311666666667,33.695283333333336,33.8259,34.362966666666665,34.5211,35.869033333333334,36.9889,39.33351666666667,39.882583333333336,39.97586666666667,42.66948333333333,43.02243333333333,43.944716666666665,44.234316666666665,45.74143333333333,45.749583333333334,46.411966666666665,47.78295,48.146433333333334,49.25111666666667,49.46993333333333,50.03208333333333,50.07265,51.14811666666667,51.286033333333336,51.35328333333333,51.856116666666665,52.02555,52.59276666666667,55.824783333333336,55.985033333333334,56.784016666666666,59.9611,60.55708333333333,61.57655,62.8629,65.36191666666667,66.95376666666667,67.95551666666667,70.66585,71.86818333333333,73.24951666666666,73.4016,75.08843333333333,75.18405,75.58086666666667,75.6375,81.511,81.532,83.0644,83.2539,84.01811666666667,87.2185,90.37878333333333,93.85475,94.32863333333333,94.9345,94.94858333333333,97.3771,100.301,109.04375,120.00978333333333,120.0659,123.0764,135.58731666666668,139.08655,146.15841666666665,152.63905,163.31215],\"xaxis\":\"x\",\"y\":[1821.8753415380029,1821.8753415380029,1824.3510454981301,1829.4767107408063,1835.875136992979,1841.7507090422455,1845.225164857405,1849.829620609987,1856.0512402348793,1863.6608330017423,1871.9681129434173,1872.1461531053067,1895.8139816468913,1896.759198099896,1897.7733280197194,1899.3960839155902,1904.3894320125482,1910.5469900734167,1910.8441074428883,1915.4832666358016,1921.3644307086286,1927.1460074206946,1927.9644165159007,1932.3708488459288,1934.2678606031857,1946.6100322506784,1960.513776477439,1968.2510811941468,1973.2889187726669,1975.9324656752497,1976.1966065528422,1983.1877050667867,1988.1325341357933,1988.7770148511402,1991.4269761336893,1992.2072278916592,1998.85811756046,2004.3836947233522,2015.9523579354038,2018.6615288791816,2019.1218017595945,2032.4124792857156,2034.1539834466064,2038.704657090239,2040.133583581226,2047.5699058533544,2047.6101190816057,2050.8784101457923,2057.6430317055365,2059.4365087912834,2064.8871692855932,2065.966841010971,2068.7405669326167,2068.940728481826,2074.2472298981716,2074.9277298240995,2075.259550633902,2077.740599910668,2078.5766074329617,2081.375332989348,2097.322550649266,2098.1132463335916,2102.0555407080988,2117.731709696614,2120.672373968668,2125.702563632613,2132.049592609413,2144.3800867959417,2152.234495064857,2157.177268242849,2170.5504281164876,2176.4829072290463,2183.2985971216003,2184.048997342034,2192.3720665267037,2192.8438523968,2194.801800763738,2195.0812374704815,2224.0618995727377,2224.165516479888,2231.7265902187996,2232.6616094523706,2236.4323602805953,2252.223494694663,2267.816770157458,2284.967670888772,2287.3058768578235,2290.2953068647507,2290.3647959810537,2302.3474334078633,2316.774360780092,2359.912299589065,2414.0202261465543,2414.297113548439,2429.1513373092025,2490.8819321004094,2508.1476337859945,2543.0412029183476,2575.0175449362164,2627.6800978745996],\"yaxis\":\"y\",\"type\":\"scatter\"}],                        {\"template\":{\"data\":{\"histogram2dcontour\":[{\"type\":\"histogram2dcontour\",\"colorbar\":{\"outlinewidth\":0,\"ticks\":\"\"},\"colorscale\":[[0.0,\"#0d0887\"],[0.1111111111111111,\"#46039f\"],[0.2222222222222222,\"#7201a8\"],[0.3333333333333333,\"#9c179e\"],[0.4444444444444444,\"#bd3786\"],[0.5555555555555556,\"#d8576b\"],[0.6666666666666666,\"#ed7953\"],[0.7777777777777778,\"#fb9f3a\"],[0.8888888888888888,\"#fdca26\"],[1.0,\"#f0f921\"]]}],\"choropleth\":[{\"type\":\"choropleth\",\"colorbar\":{\"outlinewidth\":0,\"ticks\":\"\"}}],\"histogram2d\":[{\"type\":\"histogram2d\",\"colorbar\":{\"outlinewidth\":0,\"ticks\":\"\"},\"colorscale\":[[0.0,\"#0d0887\"],[0.1111111111111111,\"#46039f\"],[0.2222222222222222,\"#7201a8\"],[0.3333333333333333,\"#9c179e\"],[0.4444444444444444,\"#bd3786\"],[0.5555555555555556,\"#d8576b\"],[0.6666666666666666,\"#ed7953\"],[0.7777777777777778,\"#fb9f3a\"],[0.8888888888888888,\"#fdca26\"],[1.0,\"#f0f921\"]]}],\"heatmap\":[{\"type\":\"heatmap\",\"colorbar\":{\"outlinewidth\":0,\"ticks\":\"\"},\"colorscale\":[[0.0,\"#0d0887\"],[0.1111111111111111,\"#46039f\"],[0.2222222222222222,\"#7201a8\"],[0.3333333333333333,\"#9c179e\"],[0.4444444444444444,\"#bd3786\"],[0.5555555555555556,\"#d8576b\"],[0.6666666666666666,\"#ed7953\"],[0.7777777777777778,\"#fb9f3a\"],[0.8888888888888888,\"#fdca26\"],[1.0,\"#f0f921\"]]}],\"heatmapgl\":[{\"type\":\"heatmapgl\",\"colorbar\":{\"outlinewidth\":0,\"ticks\":\"\"},\"colorscale\":[[0.0,\"#0d0887\"],[0.1111111111111111,\"#46039f\"],[0.2222222222222222,\"#7201a8\"],[0.3333333333333333,\"#9c179e\"],[0.4444444444444444,\"#bd3786\"],[0.5555555555555556,\"#d8576b\"],[0.6666666666666666,\"#ed7953\"],[0.7777777777777778,\"#fb9f3a\"],[0.8888888888888888,\"#fdca26\"],[1.0,\"#f0f921\"]]}],\"contourcarpet\":[{\"type\":\"contourcarpet\",\"colorbar\":{\"outlinewidth\":0,\"ticks\":\"\"}}],\"contour\":[{\"type\":\"contour\",\"colorbar\":{\"outlinewidth\":0,\"ticks\":\"\"},\"colorscale\":[[0.0,\"#0d0887\"],[0.1111111111111111,\"#46039f\"],[0.2222222222222222,\"#7201a8\"],[0.3333333333333333,\"#9c179e\"],[0.4444444444444444,\"#bd3786\"],[0.5555555555555556,\"#d8576b\"],[0.6666666666666666,\"#ed7953\"],[0.7777777777777778,\"#fb9f3a\"],[0.8888888888888888,\"#fdca26\"],[1.0,\"#f0f921\"]]}],\"surface\":[{\"type\":\"surface\",\"colorbar\":{\"outlinewidth\":0,\"ticks\":\"\"},\"colorscale\":[[0.0,\"#0d0887\"],[0.1111111111111111,\"#46039f\"],[0.2222222222222222,\"#7201a8\"],[0.3333333333333333,\"#9c179e\"],[0.4444444444444444,\"#bd3786\"],[0.5555555555555556,\"#d8576b\"],[0.6666666666666666,\"#ed7953\"],[0.7777777777777778,\"#fb9f3a\"],[0.8888888888888888,\"#fdca26\"],[1.0,\"#f0f921\"]]}],\"mesh3d\":[{\"type\":\"mesh3d\",\"colorbar\":{\"outlinewidth\":0,\"ticks\":\"\"}}],\"scatter\":[{\"fillpattern\":{\"fillmode\":\"overlay\",\"size\":10,\"solidity\":0.2},\"type\":\"scatter\"}],\"parcoords\":[{\"type\":\"parcoords\",\"line\":{\"colorbar\":{\"outlinewidth\":0,\"ticks\":\"\"}}}],\"scatterpolargl\":[{\"type\":\"scatterpolargl\",\"marker\":{\"colorbar\":{\"outlinewidth\":0,\"ticks\":\"\"}}}],\"bar\":[{\"error_x\":{\"color\":\"#2a3f5f\"},\"error_y\":{\"color\":\"#2a3f5f\"},\"marker\":{\"line\":{\"color\":\"#E5ECF6\",\"width\":0.5},\"pattern\":{\"fillmode\":\"overlay\",\"size\":10,\"solidity\":0.2}},\"type\":\"bar\"}],\"scattergeo\":[{\"type\":\"scattergeo\",\"marker\":{\"colorbar\":{\"outlinewidth\":0,\"ticks\":\"\"}}}],\"scatterpolar\":[{\"type\":\"scatterpolar\",\"marker\":{\"colorbar\":{\"outlinewidth\":0,\"ticks\":\"\"}}}],\"histogram\":[{\"marker\":{\"pattern\":{\"fillmode\":\"overlay\",\"size\":10,\"solidity\":0.2}},\"type\":\"histogram\"}],\"scattergl\":[{\"type\":\"scattergl\",\"marker\":{\"colorbar\":{\"outlinewidth\":0,\"ticks\":\"\"}}}],\"scatter3d\":[{\"type\":\"scatter3d\",\"line\":{\"colorbar\":{\"outlinewidth\":0,\"ticks\":\"\"}},\"marker\":{\"colorbar\":{\"outlinewidth\":0,\"ticks\":\"\"}}}],\"scattermapbox\":[{\"type\":\"scattermapbox\",\"marker\":{\"colorbar\":{\"outlinewidth\":0,\"ticks\":\"\"}}}],\"scatterternary\":[{\"type\":\"scatterternary\",\"marker\":{\"colorbar\":{\"outlinewidth\":0,\"ticks\":\"\"}}}],\"scattercarpet\":[{\"type\":\"scattercarpet\",\"marker\":{\"colorbar\":{\"outlinewidth\":0,\"ticks\":\"\"}}}],\"carpet\":[{\"aaxis\":{\"endlinecolor\":\"#2a3f5f\",\"gridcolor\":\"white\",\"linecolor\":\"white\",\"minorgridcolor\":\"white\",\"startlinecolor\":\"#2a3f5f\"},\"baxis\":{\"endlinecolor\":\"#2a3f5f\",\"gridcolor\":\"white\",\"linecolor\":\"white\",\"minorgridcolor\":\"white\",\"startlinecolor\":\"#2a3f5f\"},\"type\":\"carpet\"}],\"table\":[{\"cells\":{\"fill\":{\"color\":\"#EBF0F8\"},\"line\":{\"color\":\"white\"}},\"header\":{\"fill\":{\"color\":\"#C8D4E3\"},\"line\":{\"color\":\"white\"}},\"type\":\"table\"}],\"barpolar\":[{\"marker\":{\"line\":{\"color\":\"#E5ECF6\",\"width\":0.5},\"pattern\":{\"fillmode\":\"overlay\",\"size\":10,\"solidity\":0.2}},\"type\":\"barpolar\"}],\"pie\":[{\"automargin\":true,\"type\":\"pie\"}]},\"layout\":{\"autotypenumbers\":\"strict\",\"colorway\":[\"#636efa\",\"#EF553B\",\"#00cc96\",\"#ab63fa\",\"#FFA15A\",\"#19d3f3\",\"#FF6692\",\"#B6E880\",\"#FF97FF\",\"#FECB52\"],\"font\":{\"color\":\"#2a3f5f\"},\"hovermode\":\"closest\",\"hoverlabel\":{\"align\":\"left\"},\"paper_bgcolor\":\"white\",\"plot_bgcolor\":\"#E5ECF6\",\"polar\":{\"bgcolor\":\"#E5ECF6\",\"angularaxis\":{\"gridcolor\":\"white\",\"linecolor\":\"white\",\"ticks\":\"\"},\"radialaxis\":{\"gridcolor\":\"white\",\"linecolor\":\"white\",\"ticks\":\"\"}},\"ternary\":{\"bgcolor\":\"#E5ECF6\",\"aaxis\":{\"gridcolor\":\"white\",\"linecolor\":\"white\",\"ticks\":\"\"},\"baxis\":{\"gridcolor\":\"white\",\"linecolor\":\"white\",\"ticks\":\"\"},\"caxis\":{\"gridcolor\":\"white\",\"linecolor\":\"white\",\"ticks\":\"\"}},\"coloraxis\":{\"colorbar\":{\"outlinewidth\":0,\"ticks\":\"\"}},\"colorscale\":{\"sequential\":[[0.0,\"#0d0887\"],[0.1111111111111111,\"#46039f\"],[0.2222222222222222,\"#7201a8\"],[0.3333333333333333,\"#9c179e\"],[0.4444444444444444,\"#bd3786\"],[0.5555555555555556,\"#d8576b\"],[0.6666666666666666,\"#ed7953\"],[0.7777777777777778,\"#fb9f3a\"],[0.8888888888888888,\"#fdca26\"],[1.0,\"#f0f921\"]],\"sequentialminus\":[[0.0,\"#0d0887\"],[0.1111111111111111,\"#46039f\"],[0.2222222222222222,\"#7201a8\"],[0.3333333333333333,\"#9c179e\"],[0.4444444444444444,\"#bd3786\"],[0.5555555555555556,\"#d8576b\"],[0.6666666666666666,\"#ed7953\"],[0.7777777777777778,\"#fb9f3a\"],[0.8888888888888888,\"#fdca26\"],[1.0,\"#f0f921\"]],\"diverging\":[[0,\"#8e0152\"],[0.1,\"#c51b7d\"],[0.2,\"#de77ae\"],[0.3,\"#f1b6da\"],[0.4,\"#fde0ef\"],[0.5,\"#f7f7f7\"],[0.6,\"#e6f5d0\"],[0.7,\"#b8e186\"],[0.8,\"#7fbc41\"],[0.9,\"#4d9221\"],[1,\"#276419\"]]},\"xaxis\":{\"gridcolor\":\"white\",\"linecolor\":\"white\",\"ticks\":\"\",\"title\":{\"standoff\":15},\"zerolinecolor\":\"white\",\"automargin\":true,\"zerolinewidth\":2},\"yaxis\":{\"gridcolor\":\"white\",\"linecolor\":\"white\",\"ticks\":\"\",\"title\":{\"standoff\":15},\"zerolinecolor\":\"white\",\"automargin\":true,\"zerolinewidth\":2},\"scene\":{\"xaxis\":{\"backgroundcolor\":\"#E5ECF6\",\"gridcolor\":\"white\",\"linecolor\":\"white\",\"showbackground\":true,\"ticks\":\"\",\"zerolinecolor\":\"white\",\"gridwidth\":2},\"yaxis\":{\"backgroundcolor\":\"#E5ECF6\",\"gridcolor\":\"white\",\"linecolor\":\"white\",\"showbackground\":true,\"ticks\":\"\",\"zerolinecolor\":\"white\",\"gridwidth\":2},\"zaxis\":{\"backgroundcolor\":\"#E5ECF6\",\"gridcolor\":\"white\",\"linecolor\":\"white\",\"showbackground\":true,\"ticks\":\"\",\"zerolinecolor\":\"white\",\"gridwidth\":2}},\"shapedefaults\":{\"line\":{\"color\":\"#2a3f5f\"}},\"annotationdefaults\":{\"arrowcolor\":\"#2a3f5f\",\"arrowhead\":0,\"arrowwidth\":1},\"geo\":{\"bgcolor\":\"white\",\"landcolor\":\"#E5ECF6\",\"subunitcolor\":\"white\",\"showland\":true,\"showlakes\":true,\"lakecolor\":\"white\"},\"title\":{\"x\":0.05},\"mapbox\":{\"style\":\"light\"}}},\"xaxis\":{\"anchor\":\"y\",\"domain\":[0.0,1.0],\"title\":{\"text\":\"Walking duration (min)\"}},\"yaxis\":{\"anchor\":\"x\",\"domain\":[0.0,1.0],\"title\":{\"text\":\"Calories (kcal)\"}},\"legend\":{\"tracegroupgap\":0},\"title\":{\"text\":\"Regression Line for Walking duration (min) vs Calories (kcal)\"}},                        {\"responsive\": true}                    ).then(function(){\n",
       "                            \n",
       "var gd = document.getElementById('d2306e4f-cc8d-4d6c-8934-396afe7d514f');\n",
       "var x = new MutationObserver(function (mutations, observer) {{\n",
       "        var display = window.getComputedStyle(gd).display;\n",
       "        if (!display || display === 'none') {{\n",
       "            console.log([gd, 'removed!']);\n",
       "            Plotly.purge(gd);\n",
       "            observer.disconnect();\n",
       "        }}\n",
       "}});\n",
       "\n",
       "// Listen for the removal of the full notebook cells\n",
       "var notebookContainer = gd.closest('#notebook-container');\n",
       "if (notebookContainer) {{\n",
       "    x.observe(notebookContainer, {childList: true});\n",
       "}}\n",
       "\n",
       "// Listen for the clearing of the current output cell\n",
       "var outputEl = gd.closest('.output');\n",
       "if (outputEl) {{\n",
       "    x.observe(outputEl, {childList: true});\n",
       "}}\n",
       "\n",
       "                        })                };                });            </script>        </div>"
      ]
     },
     "metadata": {},
     "output_type": "display_data"
    }
   ],
   "source": [
    "import plotly.express as px\n",
    "\n",
    "# Example dataset\n",
    "fig = px.scatter(data, \n",
    "    x='Walking duration (min)', \n",
    "    y='Calories (kcal)', \n",
    "    title='Regression Line for Walking duration (min) vs Calories (kcal)',\n",
    "    trendline='ols',  # Adds the regression line OLS -> ORDINARY LEAST SQUARE\n",
    "    trendline_color_override='red'  # Change the trendline color to red\n",
    ")\n",
    "\n",
    "fig.update_traces(marker=dict(size=8))  # Adjust point size for scatter points\n",
    "fig.show()\n"
   ]
  },
  {
   "cell_type": "markdown",
   "id": "31396e9e-878b-4ca1-90ae-692e7bebb5b6",
   "metadata": {},
   "source": [
    "## plotting Step Count vs Calories (kcal) and Walking dance vs Calories (kcal) on same graph "
   ]
  },
  {
   "cell_type": "code",
   "execution_count": 41,
   "id": "4d202fe5-24ef-449f-ad4d-93b2b8896ca7",
   "metadata": {},
   "outputs": [
    {
     "data": {
      "application/vnd.plotly.v1+json": {
       "config": {
        "plotlyServerURL": "https://plot.ly"
       },
       "data": [
        {
         "mode": "markers",
         "name": "Walking duration (min)",
         "type": "scatter",
         "x": [
          867.9580958,
          2214.801273,
          2206.899517,
          2008.695336,
          2198.116329,
          2027.296743,
          1888.2678,
          2261.983096,
          2438.603836,
          2224.768637,
          2060.60471,
          2453.603491,
          2564.456341,
          2595.647254,
          2206.077549,
          2268.803256,
          2253.31001,
          2107.174391,
          2213.547705,
          2265.376765,
          2312.148876,
          2502.990556,
          2382.208399,
          2305.308117,
          2159.303584,
          2248.517334,
          2204.098364,
          2095.07309,
          2276.423276,
          2197.427118,
          2467.123991,
          2078.982549,
          1937.999314,
          2234.355367,
          2639.329941,
          2143.298248,
          2077.473666,
          2299.92509,
          1981.543921,
          2176.654596,
          1966.114419,
          2007.603461,
          2185.389732,
          2483.02397,
          2030.408226,
          1974.524221,
          1930.633956,
          2046.123561,
          2038.393507,
          2024.504167,
          2236.21507,
          2085.720536,
          1932.316121,
          1978.546552,
          2058.398162,
          2067.423189,
          1898.085045,
          2106.849327,
          2008.770068,
          2058.21059,
          2064.316495,
          2305.48834,
          2064.00549,
          2038.419954,
          2069.597403,
          2230.090756,
          2011.744899,
          2100.364229,
          2111.560611,
          1914.672058,
          1983.31788,
          1992.775023,
          2031.469336,
          2089.637506,
          2037.279471,
          2056.181137,
          1910.048658,
          1985.799936,
          2266.642733,
          2290.515802,
          1899.604705,
          1826.99997,
          1910.326962,
          1845.614981,
          1950.81168,
          1926.361693,
          1874.082867,
          1873.91621,
          1834.119314,
          1829.318682,
          2047.816938,
          1848.86917,
          2041.481303,
          1840.121082,
          1925.59511,
          1904.281566,
          1866.135731,
          1859.008673,
          1897.13519,
          1770.16367
         ],
         "xaxis": "x",
         "y": [
          59.9611,
          73.4016,
          71.86818333333333,
          30.686933333333332,
          62.8629,
          34.5211,
          5.665483333333333,
          83.2539,
          120.00978333333333,
          75.58086666666667,
          31.2227,
          123.0764,
          146.15841666666665,
          152.63905,
          49.46993333333333,
          81.532,
          81.511,
          51.14811666666667,
          73.24951666666666,
          84.01811666666667,
          94.94858333333333,
          135.58731666666668,
          109.04375,
          93.85475,
          65.36191666666667,
          70.66585,
          75.18405,
          51.856116666666665,
          90.37878333333333,
          48.146433333333334,
          120.0659,
          25.279933333333332,
          20.163416666666667,
          83.0644,
          163.31215,
          66.95376666666667,
          52.59276666666667,
          97.3771,
          33.695283333333336,
          75.6375,
          28.0978,
          36.9889,
          75.08843333333333,
          139.08655,
          43.944716666666665,
          29.665916666666668,
          22.394083333333334,
          39.882583333333336,
          45.74143333333333,
          42.66948333333333,
          67.95551666666667,
          55.985033333333334,
          22.77855,
          32.69311666666667,
          50.07265,
          52.02555,
          15.382216666666666,
          60.55708333333333,
          39.33351666666667,
          50.03208333333333,
          51.35328333333333,
          94.32863333333333,
          51.286033333333336,
          45.749583333333334,
          43.02243333333333,
          87.2185,
          39.97586666666667,
          55.824783333333336,
          61.57655,
          18.97148333333333,
          33.8259,
          35.869033333333334,
          44.234316666666665,
          56.784016666666666,
          31.276233333333334,
          49.25111666666667,
          17.97105,
          34.362966666666665,
          94.9345,
          100.301,
          15.7111,
          0,
          18.031266666666667,
          4.028133333333333,
          14.985116666666666,
          21.501033333333332,
          10.188366666666667,
          10.152283333333333,
          1.5405666666666666,
          0.50175,
          47.78295,
          4.7323,
          46.411966666666665,
          2.8373333333333335,
          21.335166666666666,
          16.7231,
          8.46865,
          6.926416666666666,
          15.176683333333333,
          0
         ],
         "yaxis": "y"
        },
        {
         "mode": "markers",
         "name": "Step count",
         "type": "scatter",
         "x": [
          867.9580958,
          2214.801273,
          2206.899517,
          2008.695336,
          2198.116329,
          2027.296743,
          1888.2678,
          2261.983096,
          2438.603836,
          2224.768637,
          2060.60471,
          2453.603491,
          2564.456341,
          2595.647254,
          2206.077549,
          2268.803256,
          2253.31001,
          2107.174391,
          2213.547705,
          2265.376765,
          2312.148876,
          2502.990556,
          2382.208399,
          2305.308117,
          2159.303584,
          2248.517334,
          2204.098364,
          2095.07309,
          2276.423276,
          2197.427118,
          2467.123991,
          2078.982549,
          1937.999314,
          2234.355367,
          2639.329941,
          2143.298248,
          2077.473666,
          2299.92509,
          1981.543921,
          2176.654596,
          1966.114419,
          2007.603461,
          2185.389732,
          2483.02397,
          2030.408226,
          1974.524221,
          1930.633956,
          2046.123561,
          2038.393507,
          2024.504167,
          2236.21507,
          2085.720536,
          1932.316121,
          1978.546552,
          2058.398162,
          2067.423189,
          1898.085045,
          2106.849327,
          2008.770068,
          2058.21059,
          2064.316495,
          2305.48834,
          2064.00549,
          2038.419954,
          2069.597403,
          2230.090756,
          2011.744899,
          2100.364229,
          2111.560611,
          1914.672058,
          1983.31788,
          1992.775023,
          2031.469336,
          2089.637506,
          2037.279471,
          2056.181137,
          1910.048658,
          1985.799936,
          2266.642733,
          2290.515802,
          1899.604705,
          1826.99997,
          1910.326962,
          1845.614981,
          1950.81168,
          1926.361693,
          1874.082867,
          1873.91621,
          1834.119314,
          1829.318682,
          2047.816938,
          1848.86917,
          2041.481303,
          1840.121082,
          1925.59511,
          1904.281566,
          1866.135731,
          1859.008673,
          1897.13519,
          1770.16367
         ],
         "xaxis": "x",
         "y": [
          9291,
          7345,
          8536,
          3213,
          7218,
          4127,
          2094,
          7849,
          12687,
          7471,
          4842,
          13097,
          16597,
          16433,
          7389,
          9499,
          9054,
          5901,
          8286,
          8683,
          9757,
          15486,
          13488,
          9924,
          6136,
          9060,
          9256,
          5374,
          9815,
          8282,
          14786,
          2375,
          2399,
          7598,
          17042,
          6216,
          5491,
          9562,
          4440,
          8455,
          3132,
          3614,
          8046,
          13618,
          6061,
          3720,
          2174,
          4556,
          4994,
          5655,
          8748,
          6158,
          3198,
          3939,
          4124,
          5146,
          2410,
          6852,
          7493,
          5463,
          4947,
          10467,
          3599,
          5495,
          4505,
          8475,
          4301,
          5803,
          6005,
          1737,
          3268,
          4292,
          4724,
          5834,
          2996,
          4260,
          1713,
          3193,
          9501,
          9665,
          6276,
          658,
          2049,
          658,
          1263,
          2196,
          1422,
          1110,
          844,
          967,
          6242,
          1464,
          4350,
          1504,
          2798,
          2246,
          2270,
          934,
          2312,
          2406
         ],
         "yaxis": "y2"
        }
       ],
       "layout": {
        "autosize": true,
        "template": {
         "data": {
          "bar": [
           {
            "error_x": {
             "color": "#2a3f5f"
            },
            "error_y": {
             "color": "#2a3f5f"
            },
            "marker": {
             "line": {
              "color": "#E5ECF6",
              "width": 0.5
             },
             "pattern": {
              "fillmode": "overlay",
              "size": 10,
              "solidity": 0.2
             }
            },
            "type": "bar"
           }
          ],
          "barpolar": [
           {
            "marker": {
             "line": {
              "color": "#E5ECF6",
              "width": 0.5
             },
             "pattern": {
              "fillmode": "overlay",
              "size": 10,
              "solidity": 0.2
             }
            },
            "type": "barpolar"
           }
          ],
          "carpet": [
           {
            "aaxis": {
             "endlinecolor": "#2a3f5f",
             "gridcolor": "white",
             "linecolor": "white",
             "minorgridcolor": "white",
             "startlinecolor": "#2a3f5f"
            },
            "baxis": {
             "endlinecolor": "#2a3f5f",
             "gridcolor": "white",
             "linecolor": "white",
             "minorgridcolor": "white",
             "startlinecolor": "#2a3f5f"
            },
            "type": "carpet"
           }
          ],
          "choropleth": [
           {
            "colorbar": {
             "outlinewidth": 0,
             "ticks": ""
            },
            "type": "choropleth"
           }
          ],
          "contour": [
           {
            "colorbar": {
             "outlinewidth": 0,
             "ticks": ""
            },
            "colorscale": [
             [
              0,
              "#0d0887"
             ],
             [
              0.1111111111111111,
              "#46039f"
             ],
             [
              0.2222222222222222,
              "#7201a8"
             ],
             [
              0.3333333333333333,
              "#9c179e"
             ],
             [
              0.4444444444444444,
              "#bd3786"
             ],
             [
              0.5555555555555556,
              "#d8576b"
             ],
             [
              0.6666666666666666,
              "#ed7953"
             ],
             [
              0.7777777777777778,
              "#fb9f3a"
             ],
             [
              0.8888888888888888,
              "#fdca26"
             ],
             [
              1,
              "#f0f921"
             ]
            ],
            "type": "contour"
           }
          ],
          "contourcarpet": [
           {
            "colorbar": {
             "outlinewidth": 0,
             "ticks": ""
            },
            "type": "contourcarpet"
           }
          ],
          "heatmap": [
           {
            "colorbar": {
             "outlinewidth": 0,
             "ticks": ""
            },
            "colorscale": [
             [
              0,
              "#0d0887"
             ],
             [
              0.1111111111111111,
              "#46039f"
             ],
             [
              0.2222222222222222,
              "#7201a8"
             ],
             [
              0.3333333333333333,
              "#9c179e"
             ],
             [
              0.4444444444444444,
              "#bd3786"
             ],
             [
              0.5555555555555556,
              "#d8576b"
             ],
             [
              0.6666666666666666,
              "#ed7953"
             ],
             [
              0.7777777777777778,
              "#fb9f3a"
             ],
             [
              0.8888888888888888,
              "#fdca26"
             ],
             [
              1,
              "#f0f921"
             ]
            ],
            "type": "heatmap"
           }
          ],
          "heatmapgl": [
           {
            "colorbar": {
             "outlinewidth": 0,
             "ticks": ""
            },
            "colorscale": [
             [
              0,
              "#0d0887"
             ],
             [
              0.1111111111111111,
              "#46039f"
             ],
             [
              0.2222222222222222,
              "#7201a8"
             ],
             [
              0.3333333333333333,
              "#9c179e"
             ],
             [
              0.4444444444444444,
              "#bd3786"
             ],
             [
              0.5555555555555556,
              "#d8576b"
             ],
             [
              0.6666666666666666,
              "#ed7953"
             ],
             [
              0.7777777777777778,
              "#fb9f3a"
             ],
             [
              0.8888888888888888,
              "#fdca26"
             ],
             [
              1,
              "#f0f921"
             ]
            ],
            "type": "heatmapgl"
           }
          ],
          "histogram": [
           {
            "marker": {
             "pattern": {
              "fillmode": "overlay",
              "size": 10,
              "solidity": 0.2
             }
            },
            "type": "histogram"
           }
          ],
          "histogram2d": [
           {
            "colorbar": {
             "outlinewidth": 0,
             "ticks": ""
            },
            "colorscale": [
             [
              0,
              "#0d0887"
             ],
             [
              0.1111111111111111,
              "#46039f"
             ],
             [
              0.2222222222222222,
              "#7201a8"
             ],
             [
              0.3333333333333333,
              "#9c179e"
             ],
             [
              0.4444444444444444,
              "#bd3786"
             ],
             [
              0.5555555555555556,
              "#d8576b"
             ],
             [
              0.6666666666666666,
              "#ed7953"
             ],
             [
              0.7777777777777778,
              "#fb9f3a"
             ],
             [
              0.8888888888888888,
              "#fdca26"
             ],
             [
              1,
              "#f0f921"
             ]
            ],
            "type": "histogram2d"
           }
          ],
          "histogram2dcontour": [
           {
            "colorbar": {
             "outlinewidth": 0,
             "ticks": ""
            },
            "colorscale": [
             [
              0,
              "#0d0887"
             ],
             [
              0.1111111111111111,
              "#46039f"
             ],
             [
              0.2222222222222222,
              "#7201a8"
             ],
             [
              0.3333333333333333,
              "#9c179e"
             ],
             [
              0.4444444444444444,
              "#bd3786"
             ],
             [
              0.5555555555555556,
              "#d8576b"
             ],
             [
              0.6666666666666666,
              "#ed7953"
             ],
             [
              0.7777777777777778,
              "#fb9f3a"
             ],
             [
              0.8888888888888888,
              "#fdca26"
             ],
             [
              1,
              "#f0f921"
             ]
            ],
            "type": "histogram2dcontour"
           }
          ],
          "mesh3d": [
           {
            "colorbar": {
             "outlinewidth": 0,
             "ticks": ""
            },
            "type": "mesh3d"
           }
          ],
          "parcoords": [
           {
            "line": {
             "colorbar": {
              "outlinewidth": 0,
              "ticks": ""
             }
            },
            "type": "parcoords"
           }
          ],
          "pie": [
           {
            "automargin": true,
            "type": "pie"
           }
          ],
          "scatter": [
           {
            "fillpattern": {
             "fillmode": "overlay",
             "size": 10,
             "solidity": 0.2
            },
            "type": "scatter"
           }
          ],
          "scatter3d": [
           {
            "line": {
             "colorbar": {
              "outlinewidth": 0,
              "ticks": ""
             }
            },
            "marker": {
             "colorbar": {
              "outlinewidth": 0,
              "ticks": ""
             }
            },
            "type": "scatter3d"
           }
          ],
          "scattercarpet": [
           {
            "marker": {
             "colorbar": {
              "outlinewidth": 0,
              "ticks": ""
             }
            },
            "type": "scattercarpet"
           }
          ],
          "scattergeo": [
           {
            "marker": {
             "colorbar": {
              "outlinewidth": 0,
              "ticks": ""
             }
            },
            "type": "scattergeo"
           }
          ],
          "scattergl": [
           {
            "marker": {
             "colorbar": {
              "outlinewidth": 0,
              "ticks": ""
             }
            },
            "type": "scattergl"
           }
          ],
          "scattermapbox": [
           {
            "marker": {
             "colorbar": {
              "outlinewidth": 0,
              "ticks": ""
             }
            },
            "type": "scattermapbox"
           }
          ],
          "scatterpolar": [
           {
            "marker": {
             "colorbar": {
              "outlinewidth": 0,
              "ticks": ""
             }
            },
            "type": "scatterpolar"
           }
          ],
          "scatterpolargl": [
           {
            "marker": {
             "colorbar": {
              "outlinewidth": 0,
              "ticks": ""
             }
            },
            "type": "scatterpolargl"
           }
          ],
          "scatterternary": [
           {
            "marker": {
             "colorbar": {
              "outlinewidth": 0,
              "ticks": ""
             }
            },
            "type": "scatterternary"
           }
          ],
          "surface": [
           {
            "colorbar": {
             "outlinewidth": 0,
             "ticks": ""
            },
            "colorscale": [
             [
              0,
              "#0d0887"
             ],
             [
              0.1111111111111111,
              "#46039f"
             ],
             [
              0.2222222222222222,
              "#7201a8"
             ],
             [
              0.3333333333333333,
              "#9c179e"
             ],
             [
              0.4444444444444444,
              "#bd3786"
             ],
             [
              0.5555555555555556,
              "#d8576b"
             ],
             [
              0.6666666666666666,
              "#ed7953"
             ],
             [
              0.7777777777777778,
              "#fb9f3a"
             ],
             [
              0.8888888888888888,
              "#fdca26"
             ],
             [
              1,
              "#f0f921"
             ]
            ],
            "type": "surface"
           }
          ],
          "table": [
           {
            "cells": {
             "fill": {
              "color": "#EBF0F8"
             },
             "line": {
              "color": "white"
             }
            },
            "header": {
             "fill": {
              "color": "#C8D4E3"
             },
             "line": {
              "color": "white"
             }
            },
            "type": "table"
           }
          ]
         },
         "layout": {
          "annotationdefaults": {
           "arrowcolor": "#2a3f5f",
           "arrowhead": 0,
           "arrowwidth": 1
          },
          "autotypenumbers": "strict",
          "coloraxis": {
           "colorbar": {
            "outlinewidth": 0,
            "ticks": ""
           }
          },
          "colorscale": {
           "diverging": [
            [
             0,
             "#8e0152"
            ],
            [
             0.1,
             "#c51b7d"
            ],
            [
             0.2,
             "#de77ae"
            ],
            [
             0.3,
             "#f1b6da"
            ],
            [
             0.4,
             "#fde0ef"
            ],
            [
             0.5,
             "#f7f7f7"
            ],
            [
             0.6,
             "#e6f5d0"
            ],
            [
             0.7,
             "#b8e186"
            ],
            [
             0.8,
             "#7fbc41"
            ],
            [
             0.9,
             "#4d9221"
            ],
            [
             1,
             "#276419"
            ]
           ],
           "sequential": [
            [
             0,
             "#0d0887"
            ],
            [
             0.1111111111111111,
             "#46039f"
            ],
            [
             0.2222222222222222,
             "#7201a8"
            ],
            [
             0.3333333333333333,
             "#9c179e"
            ],
            [
             0.4444444444444444,
             "#bd3786"
            ],
            [
             0.5555555555555556,
             "#d8576b"
            ],
            [
             0.6666666666666666,
             "#ed7953"
            ],
            [
             0.7777777777777778,
             "#fb9f3a"
            ],
            [
             0.8888888888888888,
             "#fdca26"
            ],
            [
             1,
             "#f0f921"
            ]
           ],
           "sequentialminus": [
            [
             0,
             "#0d0887"
            ],
            [
             0.1111111111111111,
             "#46039f"
            ],
            [
             0.2222222222222222,
             "#7201a8"
            ],
            [
             0.3333333333333333,
             "#9c179e"
            ],
            [
             0.4444444444444444,
             "#bd3786"
            ],
            [
             0.5555555555555556,
             "#d8576b"
            ],
            [
             0.6666666666666666,
             "#ed7953"
            ],
            [
             0.7777777777777778,
             "#fb9f3a"
            ],
            [
             0.8888888888888888,
             "#fdca26"
            ],
            [
             1,
             "#f0f921"
            ]
           ]
          },
          "colorway": [
           "#636efa",
           "#EF553B",
           "#00cc96",
           "#ab63fa",
           "#FFA15A",
           "#19d3f3",
           "#FF6692",
           "#B6E880",
           "#FF97FF",
           "#FECB52"
          ],
          "font": {
           "color": "#2a3f5f"
          },
          "geo": {
           "bgcolor": "white",
           "lakecolor": "white",
           "landcolor": "#E5ECF6",
           "showlakes": true,
           "showland": true,
           "subunitcolor": "white"
          },
          "hoverlabel": {
           "align": "left"
          },
          "hovermode": "closest",
          "mapbox": {
           "style": "light"
          },
          "paper_bgcolor": "white",
          "plot_bgcolor": "#E5ECF6",
          "polar": {
           "angularaxis": {
            "gridcolor": "white",
            "linecolor": "white",
            "ticks": ""
           },
           "bgcolor": "#E5ECF6",
           "radialaxis": {
            "gridcolor": "white",
            "linecolor": "white",
            "ticks": ""
           }
          },
          "scene": {
           "xaxis": {
            "backgroundcolor": "#E5ECF6",
            "gridcolor": "white",
            "gridwidth": 2,
            "linecolor": "white",
            "showbackground": true,
            "ticks": "",
            "zerolinecolor": "white"
           },
           "yaxis": {
            "backgroundcolor": "#E5ECF6",
            "gridcolor": "white",
            "gridwidth": 2,
            "linecolor": "white",
            "showbackground": true,
            "ticks": "",
            "zerolinecolor": "white"
           },
           "zaxis": {
            "backgroundcolor": "#E5ECF6",
            "gridcolor": "white",
            "gridwidth": 2,
            "linecolor": "white",
            "showbackground": true,
            "ticks": "",
            "zerolinecolor": "white"
           }
          },
          "shapedefaults": {
           "line": {
            "color": "#2a3f5f"
           }
          },
          "ternary": {
           "aaxis": {
            "gridcolor": "white",
            "linecolor": "white",
            "ticks": ""
           },
           "baxis": {
            "gridcolor": "white",
            "linecolor": "white",
            "ticks": ""
           },
           "bgcolor": "#E5ECF6",
           "caxis": {
            "gridcolor": "white",
            "linecolor": "white",
            "ticks": ""
           }
          },
          "title": {
           "x": 0.05
          },
          "xaxis": {
           "automargin": true,
           "gridcolor": "white",
           "linecolor": "white",
           "ticks": "",
           "title": {
            "standoff": 15
           },
           "zerolinecolor": "white",
           "zerolinewidth": 2
          },
          "yaxis": {
           "automargin": true,
           "gridcolor": "white",
           "linecolor": "white",
           "ticks": "",
           "title": {
            "standoff": 15
           },
           "zerolinecolor": "white",
           "zerolinewidth": 2
          }
         }
        },
        "title": {
         "text": "Scatter Plot with Two Y-Axes"
        },
        "xaxis": {
         "anchor": "y",
         "autorange": true,
         "domain": [
          0,
          0.94
         ],
         "range": [
          758.6314280493963,
          2748.656608750604
         ],
         "title": {
          "text": "Calories"
         },
         "type": "linear"
        },
        "yaxis": {
         "anchor": "x",
         "autorange": true,
         "domain": [
          0,
          1
         ],
         "range": [
          -13.477216262135922,
          176.78936626213593
         ],
         "title": {
          "text": "Walking duration (min)"
         },
         "type": "linear"
        },
        "yaxis2": {
         "anchor": "x",
         "autorange": true,
         "overlaying": "y",
         "range": [
          -694.0776699029127,
          18394.077669902912
         ],
         "side": "right",
         "title": {
          "text": "Step count"
         },
         "type": "linear"
        }
       }
      },
      "image/png": "[encoded data removed]",
      "text/html": [
       "<div>                            <div id=\"6cce0c9f-8a8d-4b8f-a2db-ad1db17a9cbf\" class=\"plotly-graph-div\" style=\"height:525px; width:100%;\"></div>            <script type=\"text/javascript\">                require([\"plotly\"], function(Plotly) {                    window.PLOTLYENV=window.PLOTLYENV || {};                                    if (document.getElementById(\"6cce0c9f-8a8d-4b8f-a2db-ad1db17a9cbf\")) {                    Plotly.newPlot(                        \"6cce0c9f-8a8d-4b8f-a2db-ad1db17a9cbf\",                        [{\"mode\":\"markers\",\"name\":\"Walking duration (min)\",\"x\":[867.9580958,2214.801273,2206.899517,2008.695336,2198.116329,2027.296743,1888.2678,2261.983096,2438.603836,2224.768637,2060.60471,2453.603491,2564.456341,2595.647254,2206.077549,2268.803256,2253.31001,2107.174391,2213.547705,2265.376765,2312.148876,2502.990556,2382.208399,2305.308117,2159.303584,2248.517334,2204.098364,2095.07309,2276.423276,2197.427118,2467.123991,2078.982549,1937.999314,2234.355367,2639.329941,2143.298248,2077.473666,2299.92509,1981.543921,2176.654596,1966.114419,2007.603461,2185.389732,2483.02397,2030.408226,1974.524221,1930.633956,2046.123561,2038.393507,2024.504167,2236.21507,2085.720536,1932.316121,1978.546552,2058.398162,2067.423189,1898.085045,2106.849327,2008.770068,2058.21059,2064.316495,2305.48834,2064.00549,2038.419954,2069.597403,2230.090756,2011.744899,2100.364229,2111.560611,1914.672058,1983.31788,1992.775023,2031.469336,2089.637506,2037.279471,2056.181137,1910.048658,1985.799936,2266.642733,2290.515802,1899.604705,1826.99997,1910.326962,1845.614981,1950.81168,1926.361693,1874.082867,1873.91621,1834.119314,1829.318682,2047.816938,1848.86917,2041.481303,1840.121082,1925.59511,1904.281566,1866.135731,1859.008673,1897.13519,1770.16367],\"y\":[59.9611,73.4016,71.86818333333333,30.686933333333332,62.8629,34.5211,5.665483333333333,83.2539,120.00978333333333,75.58086666666667,31.2227,123.0764,146.15841666666665,152.63905,49.46993333333333,81.532,81.511,51.14811666666667,73.24951666666666,84.01811666666667,94.94858333333333,135.58731666666668,109.04375,93.85475,65.36191666666667,70.66585,75.18405,51.856116666666665,90.37878333333333,48.146433333333334,120.0659,25.279933333333332,20.163416666666667,83.0644,163.31215,66.95376666666667,52.59276666666667,97.3771,33.695283333333336,75.6375,28.0978,36.9889,75.08843333333333,139.08655,43.944716666666665,29.665916666666668,22.394083333333334,39.882583333333336,45.74143333333333,42.66948333333333,67.95551666666667,55.985033333333334,22.77855,32.69311666666667,50.07265,52.02555,15.382216666666666,60.55708333333333,39.33351666666667,50.03208333333333,51.35328333333333,94.32863333333333,51.286033333333336,45.749583333333334,43.02243333333333,87.2185,39.97586666666667,55.824783333333336,61.57655,18.97148333333333,33.8259,35.869033333333334,44.234316666666665,56.784016666666666,31.276233333333334,49.25111666666667,17.97105,34.362966666666665,94.9345,100.301,15.7111,0.0,18.031266666666667,4.028133333333333,14.985116666666666,21.501033333333332,10.188366666666667,10.152283333333333,1.5405666666666666,0.50175,47.78295,4.7323,46.411966666666665,2.8373333333333335,21.335166666666666,16.7231,8.46865,6.926416666666666,15.176683333333333,0.0],\"type\":\"scatter\",\"xaxis\":\"x\",\"yaxis\":\"y\"},{\"mode\":\"markers\",\"name\":\"Step count\",\"x\":[867.9580958,2214.801273,2206.899517,2008.695336,2198.116329,2027.296743,1888.2678,2261.983096,2438.603836,2224.768637,2060.60471,2453.603491,2564.456341,2595.647254,2206.077549,2268.803256,2253.31001,2107.174391,2213.547705,2265.376765,2312.148876,2502.990556,2382.208399,2305.308117,2159.303584,2248.517334,2204.098364,2095.07309,2276.423276,2197.427118,2467.123991,2078.982549,1937.999314,2234.355367,2639.329941,2143.298248,2077.473666,2299.92509,1981.543921,2176.654596,1966.114419,2007.603461,2185.389732,2483.02397,2030.408226,1974.524221,1930.633956,2046.123561,2038.393507,2024.504167,2236.21507,2085.720536,1932.316121,1978.546552,2058.398162,2067.423189,1898.085045,2106.849327,2008.770068,2058.21059,2064.316495,2305.48834,2064.00549,2038.419954,2069.597403,2230.090756,2011.744899,2100.364229,2111.560611,1914.672058,1983.31788,1992.775023,2031.469336,2089.637506,2037.279471,2056.181137,1910.048658,1985.799936,2266.642733,2290.515802,1899.604705,1826.99997,1910.326962,1845.614981,1950.81168,1926.361693,1874.082867,1873.91621,1834.119314,1829.318682,2047.816938,1848.86917,2041.481303,1840.121082,1925.59511,1904.281566,1866.135731,1859.008673,1897.13519,1770.16367],\"y\":[9291,7345,8536,3213,7218,4127,2094,7849,12687,7471,4842,13097,16597,16433,7389,9499,9054,5901,8286,8683,9757,15486,13488,9924,6136,9060,9256,5374,9815,8282,14786,2375,2399,7598,17042,6216,5491,9562,4440,8455,3132,3614,8046,13618,6061,3720,2174,4556,4994,5655,8748,6158,3198,3939,4124,5146,2410,6852,7493,5463,4947,10467,3599,5495,4505,8475,4301,5803,6005,1737,3268,4292,4724,5834,2996,4260,1713,3193,9501,9665,6276,658,2049,658,1263,2196,1422,1110,844,967,6242,1464,4350,1504,2798,2246,2270,934,2312,2406],\"type\":\"scatter\",\"xaxis\":\"x\",\"yaxis\":\"y2\"}],                        {\"template\":{\"data\":{\"histogram2dcontour\":[{\"type\":\"histogram2dcontour\",\"colorbar\":{\"outlinewidth\":0,\"ticks\":\"\"},\"colorscale\":[[0.0,\"#0d0887\"],[0.1111111111111111,\"#46039f\"],[0.2222222222222222,\"#7201a8\"],[0.3333333333333333,\"#9c179e\"],[0.4444444444444444,\"#bd3786\"],[0.5555555555555556,\"#d8576b\"],[0.6666666666666666,\"#ed7953\"],[0.7777777777777778,\"#fb9f3a\"],[0.8888888888888888,\"#fdca26\"],[1.0,\"#f0f921\"]]}],\"choropleth\":[{\"type\":\"choropleth\",\"colorbar\":{\"outlinewidth\":0,\"ticks\":\"\"}}],\"histogram2d\":[{\"type\":\"histogram2d\",\"colorbar\":{\"outlinewidth\":0,\"ticks\":\"\"},\"colorscale\":[[0.0,\"#0d0887\"],[0.1111111111111111,\"#46039f\"],[0.2222222222222222,\"#7201a8\"],[0.3333333333333333,\"#9c179e\"],[0.4444444444444444,\"#bd3786\"],[0.5555555555555556,\"#d8576b\"],[0.6666666666666666,\"#ed7953\"],[0.7777777777777778,\"#fb9f3a\"],[0.8888888888888888,\"#fdca26\"],[1.0,\"#f0f921\"]]}],\"heatmap\":[{\"type\":\"heatmap\",\"colorbar\":{\"outlinewidth\":0,\"ticks\":\"\"},\"colorscale\":[[0.0,\"#0d0887\"],[0.1111111111111111,\"#46039f\"],[0.2222222222222222,\"#7201a8\"],[0.3333333333333333,\"#9c179e\"],[0.4444444444444444,\"#bd3786\"],[0.5555555555555556,\"#d8576b\"],[0.6666666666666666,\"#ed7953\"],[0.7777777777777778,\"#fb9f3a\"],[0.8888888888888888,\"#fdca26\"],[1.0,\"#f0f921\"]]}],\"heatmapgl\":[{\"type\":\"heatmapgl\",\"colorbar\":{\"outlinewidth\":0,\"ticks\":\"\"},\"colorscale\":[[0.0,\"#0d0887\"],[0.1111111111111111,\"#46039f\"],[0.2222222222222222,\"#7201a8\"],[0.3333333333333333,\"#9c179e\"],[0.4444444444444444,\"#bd3786\"],[0.5555555555555556,\"#d8576b\"],[0.6666666666666666,\"#ed7953\"],[0.7777777777777778,\"#fb9f3a\"],[0.8888888888888888,\"#fdca26\"],[1.0,\"#f0f921\"]]}],\"contourcarpet\":[{\"type\":\"contourcarpet\",\"colorbar\":{\"outlinewidth\":0,\"ticks\":\"\"}}],\"contour\":[{\"type\":\"contour\",\"colorbar\":{\"outlinewidth\":0,\"ticks\":\"\"},\"colorscale\":[[0.0,\"#0d0887\"],[0.1111111111111111,\"#46039f\"],[0.2222222222222222,\"#7201a8\"],[0.3333333333333333,\"#9c179e\"],[0.4444444444444444,\"#bd3786\"],[0.5555555555555556,\"#d8576b\"],[0.6666666666666666,\"#ed7953\"],[0.7777777777777778,\"#fb9f3a\"],[0.8888888888888888,\"#fdca26\"],[1.0,\"#f0f921\"]]}],\"surface\":[{\"type\":\"surface\",\"colorbar\":{\"outlinewidth\":0,\"ticks\":\"\"},\"colorscale\":[[0.0,\"#0d0887\"],[0.1111111111111111,\"#46039f\"],[0.2222222222222222,\"#7201a8\"],[0.3333333333333333,\"#9c179e\"],[0.4444444444444444,\"#bd3786\"],[0.5555555555555556,\"#d8576b\"],[0.6666666666666666,\"#ed7953\"],[0.7777777777777778,\"#fb9f3a\"],[0.8888888888888888,\"#fdca26\"],[1.0,\"#f0f921\"]]}],\"mesh3d\":[{\"type\":\"mesh3d\",\"colorbar\":{\"outlinewidth\":0,\"ticks\":\"\"}}],\"scatter\":[{\"fillpattern\":{\"fillmode\":\"overlay\",\"size\":10,\"solidity\":0.2},\"type\":\"scatter\"}],\"parcoords\":[{\"type\":\"parcoords\",\"line\":{\"colorbar\":{\"outlinewidth\":0,\"ticks\":\"\"}}}],\"scatterpolargl\":[{\"type\":\"scatterpolargl\",\"marker\":{\"colorbar\":{\"outlinewidth\":0,\"ticks\":\"\"}}}],\"bar\":[{\"error_x\":{\"color\":\"#2a3f5f\"},\"error_y\":{\"color\":\"#2a3f5f\"},\"marker\":{\"line\":{\"color\":\"#E5ECF6\",\"width\":0.5},\"pattern\":{\"fillmode\":\"overlay\",\"size\":10,\"solidity\":0.2}},\"type\":\"bar\"}],\"scattergeo\":[{\"type\":\"scattergeo\",\"marker\":{\"colorbar\":{\"outlinewidth\":0,\"ticks\":\"\"}}}],\"scatterpolar\":[{\"type\":\"scatterpolar\",\"marker\":{\"colorbar\":{\"outlinewidth\":0,\"ticks\":\"\"}}}],\"histogram\":[{\"marker\":{\"pattern\":{\"fillmode\":\"overlay\",\"size\":10,\"solidity\":0.2}},\"type\":\"histogram\"}],\"scattergl\":[{\"type\":\"scattergl\",\"marker\":{\"colorbar\":{\"outlinewidth\":0,\"ticks\":\"\"}}}],\"scatter3d\":[{\"type\":\"scatter3d\",\"line\":{\"colorbar\":{\"outlinewidth\":0,\"ticks\":\"\"}},\"marker\":{\"colorbar\":{\"outlinewidth\":0,\"ticks\":\"\"}}}],\"scattermapbox\":[{\"type\":\"scattermapbox\",\"marker\":{\"colorbar\":{\"outlinewidth\":0,\"ticks\":\"\"}}}],\"scatterternary\":[{\"type\":\"scatterternary\",\"marker\":{\"colorbar\":{\"outlinewidth\":0,\"ticks\":\"\"}}}],\"scattercarpet\":[{\"type\":\"scattercarpet\",\"marker\":{\"colorbar\":{\"outlinewidth\":0,\"ticks\":\"\"}}}],\"carpet\":[{\"aaxis\":{\"endlinecolor\":\"#2a3f5f\",\"gridcolor\":\"white\",\"linecolor\":\"white\",\"minorgridcolor\":\"white\",\"startlinecolor\":\"#2a3f5f\"},\"baxis\":{\"endlinecolor\":\"#2a3f5f\",\"gridcolor\":\"white\",\"linecolor\":\"white\",\"minorgridcolor\":\"white\",\"startlinecolor\":\"#2a3f5f\"},\"type\":\"carpet\"}],\"table\":[{\"cells\":{\"fill\":{\"color\":\"#EBF0F8\"},\"line\":{\"color\":\"white\"}},\"header\":{\"fill\":{\"color\":\"#C8D4E3\"},\"line\":{\"color\":\"white\"}},\"type\":\"table\"}],\"barpolar\":[{\"marker\":{\"line\":{\"color\":\"#E5ECF6\",\"width\":0.5},\"pattern\":{\"fillmode\":\"overlay\",\"size\":10,\"solidity\":0.2}},\"type\":\"barpolar\"}],\"pie\":[{\"automargin\":true,\"type\":\"pie\"}]},\"layout\":{\"autotypenumbers\":\"strict\",\"colorway\":[\"#636efa\",\"#EF553B\",\"#00cc96\",\"#ab63fa\",\"#FFA15A\",\"#19d3f3\",\"#FF6692\",\"#B6E880\",\"#FF97FF\",\"#FECB52\"],\"font\":{\"color\":\"#2a3f5f\"},\"hovermode\":\"closest\",\"hoverlabel\":{\"align\":\"left\"},\"paper_bgcolor\":\"white\",\"plot_bgcolor\":\"#E5ECF6\",\"polar\":{\"bgcolor\":\"#E5ECF6\",\"angularaxis\":{\"gridcolor\":\"white\",\"linecolor\":\"white\",\"ticks\":\"\"},\"radialaxis\":{\"gridcolor\":\"white\",\"linecolor\":\"white\",\"ticks\":\"\"}},\"ternary\":{\"bgcolor\":\"#E5ECF6\",\"aaxis\":{\"gridcolor\":\"white\",\"linecolor\":\"white\",\"ticks\":\"\"},\"baxis\":{\"gridcolor\":\"white\",\"linecolor\":\"white\",\"ticks\":\"\"},\"caxis\":{\"gridcolor\":\"white\",\"linecolor\":\"white\",\"ticks\":\"\"}},\"coloraxis\":{\"colorbar\":{\"outlinewidth\":0,\"ticks\":\"\"}},\"colorscale\":{\"sequential\":[[0.0,\"#0d0887\"],[0.1111111111111111,\"#46039f\"],[0.2222222222222222,\"#7201a8\"],[0.3333333333333333,\"#9c179e\"],[0.4444444444444444,\"#bd3786\"],[0.5555555555555556,\"#d8576b\"],[0.6666666666666666,\"#ed7953\"],[0.7777777777777778,\"#fb9f3a\"],[0.8888888888888888,\"#fdca26\"],[1.0,\"#f0f921\"]],\"sequentialminus\":[[0.0,\"#0d0887\"],[0.1111111111111111,\"#46039f\"],[0.2222222222222222,\"#7201a8\"],[0.3333333333333333,\"#9c179e\"],[0.4444444444444444,\"#bd3786\"],[0.5555555555555556,\"#d8576b\"],[0.6666666666666666,\"#ed7953\"],[0.7777777777777778,\"#fb9f3a\"],[0.8888888888888888,\"#fdca26\"],[1.0,\"#f0f921\"]],\"diverging\":[[0,\"#8e0152\"],[0.1,\"#c51b7d\"],[0.2,\"#de77ae\"],[0.3,\"#f1b6da\"],[0.4,\"#fde0ef\"],[0.5,\"#f7f7f7\"],[0.6,\"#e6f5d0\"],[0.7,\"#b8e186\"],[0.8,\"#7fbc41\"],[0.9,\"#4d9221\"],[1,\"#276419\"]]},\"xaxis\":{\"gridcolor\":\"white\",\"linecolor\":\"white\",\"ticks\":\"\",\"title\":{\"standoff\":15},\"zerolinecolor\":\"white\",\"automargin\":true,\"zerolinewidth\":2},\"yaxis\":{\"gridcolor\":\"white\",\"linecolor\":\"white\",\"ticks\":\"\",\"title\":{\"standoff\":15},\"zerolinecolor\":\"white\",\"automargin\":true,\"zerolinewidth\":2},\"scene\":{\"xaxis\":{\"backgroundcolor\":\"#E5ECF6\",\"gridcolor\":\"white\",\"linecolor\":\"white\",\"showbackground\":true,\"ticks\":\"\",\"zerolinecolor\":\"white\",\"gridwidth\":2},\"yaxis\":{\"backgroundcolor\":\"#E5ECF6\",\"gridcolor\":\"white\",\"linecolor\":\"white\",\"showbackground\":true,\"ticks\":\"\",\"zerolinecolor\":\"white\",\"gridwidth\":2},\"zaxis\":{\"backgroundcolor\":\"#E5ECF6\",\"gridcolor\":\"white\",\"linecolor\":\"white\",\"showbackground\":true,\"ticks\":\"\",\"zerolinecolor\":\"white\",\"gridwidth\":2}},\"shapedefaults\":{\"line\":{\"color\":\"#2a3f5f\"}},\"annotationdefaults\":{\"arrowcolor\":\"#2a3f5f\",\"arrowhead\":0,\"arrowwidth\":1},\"geo\":{\"bgcolor\":\"white\",\"landcolor\":\"#E5ECF6\",\"subunitcolor\":\"white\",\"showland\":true,\"showlakes\":true,\"lakecolor\":\"white\"},\"title\":{\"x\":0.05},\"mapbox\":{\"style\":\"light\"}}},\"xaxis\":{\"anchor\":\"y\",\"domain\":[0.0,0.94],\"title\":{\"text\":\"Calories\"}},\"yaxis\":{\"anchor\":\"x\",\"domain\":[0.0,1.0],\"title\":{\"text\":\"Walking duration (min)\"}},\"yaxis2\":{\"anchor\":\"x\",\"overlaying\":\"y\",\"side\":\"right\",\"title\":{\"text\":\"Step count\"}},\"title\":{\"text\":\"Scatter Plot with Two Y-Axes\"}},                        {\"responsive\": true}                    ).then(function(){\n",
       "                            \n",
       "var gd = document.getElementById('6cce0c9f-8a8d-4b8f-a2db-ad1db17a9cbf');\n",
       "var x = new MutationObserver(function (mutations, observer) {{\n",
       "        var display = window.getComputedStyle(gd).display;\n",
       "        if (!display || display === 'none') {{\n",
       "            console.log([gd, 'removed!']);\n",
       "            Plotly.purge(gd);\n",
       "            observer.disconnect();\n",
       "        }}\n",
       "}});\n",
       "\n",
       "// Listen for the removal of the full notebook cells\n",
       "var notebookContainer = gd.closest('#notebook-container');\n",
       "if (notebookContainer) {{\n",
       "    x.observe(notebookContainer, {childList: true});\n",
       "}}\n",
       "\n",
       "// Listen for the clearing of the current output cell\n",
       "var outputEl = gd.closest('.output');\n",
       "if (outputEl) {{\n",
       "    x.observe(outputEl, {childList: true});\n",
       "}}\n",
       "\n",
       "                        })                };                });            </script>        </div>"
      ]
     },
     "metadata": {},
     "output_type": "display_data"
    }
   ],
   "source": [
    "import plotly.graph_objects as go\n",
    "from plotly.subplots import make_subplots\n",
    "\n",
    "y1=data['Walking duration (min)'] \n",
    "x=data['Calories (kcal)']\n",
    "y2=data['Step count']\n",
    "\n",
    "# Create a figure with two Y-axes\n",
    "fig = make_subplots(specs=[[{\"secondary_y\": True}]])\n",
    "\n",
    "# Add the first scatter trace (y1)\n",
    "fig.add_trace(\n",
    "    go.Scatter(x=x, y=y1, mode='markers', name='Walking duration (min)'),\n",
    "    secondary_y=False,  # Assign to the first Y-axis\n",
    ")\n",
    "\n",
    "# Add the second scatter trace (y2)\n",
    "fig.add_trace(\n",
    "    go.Scatter(x=x, y=y2, mode='markers', name='Step count'),\n",
    "    secondary_y=True,  # Assign to the second Y-axis\n",
    ")\n",
    "\n",
    "# Set the titles for the axes\n",
    "fig.update_layout(\n",
    "    title_text=\"Scatter Plot with Two Y-Axes\",\n",
    "    xaxis_title=\"Calories\",\n",
    "    yaxis_title=\"Walking duration (min)\",\n",
    "    yaxis2_title=\"Step count\",\n",
    ")\n",
    "\n",
    "# Show the plot\n",
    "fig.show()\n"
   ]
  }
 ],
 "metadata": {
  "kernelspec": {
   "display_name": "Python 3 (ipykernel)",
   "language": "python",
   "name": "python3"
  },
  "language_info": {
   "codemirror_mode": {
    "name": "ipython",
    "version": 3
   },
   "file_extension": ".py",
   "mimetype": "text/x-python",
   "name": "python",
   "nbconvert_exporter": "python",
   "pygments_lexer": "ipython3",
   "version": "3.11.4"
  }
 },
 "nbformat": 4,
 "nbformat_minor": 5
}
